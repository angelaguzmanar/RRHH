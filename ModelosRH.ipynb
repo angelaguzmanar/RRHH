{
  "cells": [
    {
      "cell_type": "markdown",
      "metadata": {
        "id": "view-in-github",
        "colab_type": "text"
      },
      "source": [
        "<a href=\"https://colab.research.google.com/github/angelaguzmanar/RRHH/blob/main/ModelosRH.ipynb\" target=\"_parent\"><img src=\"https://colab.research.google.com/assets/colab-badge.svg\" alt=\"Open In Colab\"/></a>"
      ]
    },
    {
      "cell_type": "code",
      "execution_count": null,
      "metadata": {
        "id": "dLbAe_fBwIJC"
      },
      "outputs": [],
      "source": [
        "!pip install kora -q\n",
        "from kora import drive\n",
        "drive.link_nbs()"
      ]
    },
    {
      "cell_type": "code",
      "execution_count": null,
      "metadata": {
        "id": "Tt1SPQC9wMZj",
        "colab": {
          "base_uri": "https://localhost:8080/"
        },
        "outputId": "2f5338ee-a28c-47ce-a004-28d4d2c3ac7c"
      },
      "outputs": [
        {
          "output_type": "stream",
          "name": "stdout",
          "text": [
            "Drive already mounted at /content/drive; to attempt to forcibly remount, call drive.mount(\"/content/drive\", force_remount=True).\n"
          ]
        }
      ],
      "source": [
        "from google.colab import drive\n",
        "drive.mount('/content/drive')"
      ]
    },
    {
      "cell_type": "code",
      "execution_count": null,
      "metadata": {
        "id": "_vwxdtbmwOZK",
        "colab": {
          "base_uri": "https://localhost:8080/"
        },
        "outputId": "80a7f8b0-17b6-465c-b47d-1bdd54eb34cd"
      },
      "outputs": [
        {
          "output_type": "execute_result",
          "data": {
            "text/plain": [
              "['/content',\n",
              " '/env/python',\n",
              " '/usr/lib/python310.zip',\n",
              " '/usr/lib/python3.10',\n",
              " '/usr/lib/python3.10/lib-dynload',\n",
              " '/nbs',\n",
              " '',\n",
              " '/usr/local/lib/python3.10/dist-packages',\n",
              " '/usr/lib/python3/dist-packages',\n",
              " '/usr/local/lib/python3.10/dist-packages/IPython/extensions',\n",
              " '/root/.ipython',\n",
              " '/content/drive/MyDrive/Analitica3/EntregaRH/',\n",
              " '/content/drive/MyDrive/Analitica3/EntregaRH/']"
            ]
          },
          "metadata": {},
          "execution_count": 105
        }
      ],
      "source": [
        "import sys\n",
        "sys.path.append('/content/drive/MyDrive/Analitica3/EntregaRH/')\n",
        "sys.path"
      ]
    },
    {
      "cell_type": "code",
      "execution_count": null,
      "metadata": {
        "id": "IKkBWwMpwShv"
      },
      "outputs": [],
      "source": [
        "import pandas as pd ### para manejo de datos\n",
        "import sqlite3 as sql\n",
        "import funciones_rh as funciones"
      ]
    },
    {
      "cell_type": "code",
      "execution_count": null,
      "metadata": {
        "id": "h_kXkhkiPdET"
      },
      "outputs": [],
      "source": [
        "import pandas as pd\n",
        "import numpy as np\n",
        "import matplotlib.pyplot as plt\n",
        "import seaborn as sns\n",
        "import plotly.express as px\n",
        "from sklearn.preprocessing import LabelEncoder\n",
        "from sklearn.model_selection import train_test_split\n",
        "from sklearn.linear_model import LogisticRegression\n",
        "from sklearn.naive_bayes import GaussianNB\n",
        "from sklearn.svm import LinearSVC\n",
        "from sklearn import tree\n",
        "from sklearn.metrics import roc_auc_score\n",
        "from sklearn.model_selection import GridSearchCV\n",
        "from sklearn.metrics import accuracy_score\n",
        "from sklearn.metrics import confusion_matrix\n",
        "from sklearn.metrics import classification_report\n",
        "from sklearn.svm import LinearSVC\n",
        "from sklearn.pipeline import make_pipeline\n",
        "from sklearn import metrics\n",
        "from sklearn.preprocessing import StandardScaler\n",
        "from sklearn.neural_network import MLPClassifier\n",
        "from sklearn.model_selection import cross_val_score\n",
        "from sklearn.model_selection import KFold\n",
        "from sklearn.feature_selection import SelectKBest\n",
        "from sklearn.feature_selection import f_classif\n",
        "from numpy import set_printoptions\n",
        "import joblib\n",
        "from sklearn.compose import ColumnTransformer"
      ]
    },
    {
      "cell_type": "code",
      "execution_count": null,
      "metadata": {
        "id": "NCJ42VVsz5uG"
      },
      "outputs": [],
      "source": [
        "dfdata = pd.read_csv('https://raw.githubusercontent.com/angelaguzmanar/RRHH/main/data_final.csv')"
      ]
    },
    {
      "cell_type": "markdown",
      "metadata": {
        "id": "PEPThig70y62"
      },
      "source": [
        "##Preparar base para predecir"
      ]
    },
    {
      "cell_type": "code",
      "execution_count": null,
      "metadata": {
        "id": "uhL21Yw6dPQT",
        "colab": {
          "base_uri": "https://localhost:8080/"
        },
        "outputId": "89fa0b8a-aa43-448d-ddbb-9d1ade93a73c"
      },
      "outputs": [
        {
          "output_type": "stream",
          "name": "stdout",
          "text": [
            "<class 'pandas.core.frame.DataFrame'>\n",
            "RangeIndex: 4410 entries, 0 to 4409\n",
            "Data columns (total 26 columns):\n",
            " #   Column                   Non-Null Count  Dtype \n",
            "---  ------                   --------------  ----- \n",
            " 0   Age                      4410 non-null   int64 \n",
            " 1   BusinessTravel           4410 non-null   object\n",
            " 2   Department               4410 non-null   object\n",
            " 3   DistanceFromHome         4410 non-null   int64 \n",
            " 4   Education                4410 non-null   int64 \n",
            " 5   EducationField           4410 non-null   object\n",
            " 6   EmployeeID               4410 non-null   int64 \n",
            " 7   Gender                   4410 non-null   object\n",
            " 8   JobLevel                 4410 non-null   int64 \n",
            " 9   JobRole                  4410 non-null   object\n",
            " 10  MaritalStatus            4410 non-null   object\n",
            " 11  MonthlyIncome            4410 non-null   int64 \n",
            " 12  NumCompaniesWorked       4410 non-null   int64 \n",
            " 13  PercentSalaryHike        4410 non-null   int64 \n",
            " 14  StockOptionLevel         4410 non-null   int64 \n",
            " 15  TotalWorkingYears        4410 non-null   int64 \n",
            " 16  TrainingTimesLastYear    4410 non-null   int64 \n",
            " 17  YearsAtCompany           4410 non-null   int64 \n",
            " 18  YearsSinceLastPromotion  4410 non-null   int64 \n",
            " 19  YearsWithCurrManager     4410 non-null   int64 \n",
            " 20  EnvironmentSatisfaction  4410 non-null   int64 \n",
            " 21  JobSatisfaction          4410 non-null   int64 \n",
            " 22  WorkLifeBalance          4410 non-null   int64 \n",
            " 23  JobInvolvement           4410 non-null   int64 \n",
            " 24  PerformanceRating        4410 non-null   int64 \n",
            " 25  Attrition                4410 non-null   object\n",
            "dtypes: int64(19), object(7)\n",
            "memory usage: 895.9+ KB\n"
          ]
        }
      ],
      "source": [
        "dfdata.info()"
      ]
    },
    {
      "cell_type": "code",
      "execution_count": null,
      "metadata": {
        "id": "FYH1HBLNdEmE"
      },
      "outputs": [],
      "source": [
        "n_c1 = dfdata.columns.tolist()"
      ]
    },
    {
      "cell_type": "code",
      "execution_count": null,
      "metadata": {
        "id": "QT5KUOVVfGE4",
        "colab": {
          "base_uri": "https://localhost:8080/",
          "height": 272
        },
        "outputId": "59d4e4a5-7c74-477d-a845-130ae43feacf"
      },
      "outputs": [
        {
          "output_type": "execute_result",
          "data": {
            "text/plain": [
              "   Age  DistanceFromHome  Education  EmployeeID  JobLevel  MonthlyIncome  \\\n",
              "0   51                 6          2           1         1         131160   \n",
              "1   31                10          1           2         1          41890   \n",
              "2   32                17          4           3         4         193280   \n",
              "3   38                 2          5           4         3          83210   \n",
              "4   32                10          1           5         1          23420   \n",
              "\n",
              "   NumCompaniesWorked  PercentSalaryHike  StockOptionLevel  TotalWorkingYears  \\\n",
              "0                   1                 11                 0                  1   \n",
              "1                   0                 23                 1                  6   \n",
              "2                   1                 15                 3                  5   \n",
              "3                   3                 11                 3                 13   \n",
              "4                   4                 12                 2                  9   \n",
              "\n",
              "   ...  JobRole_Laboratory Technician  JobRole_Manager  \\\n",
              "0  ...                              0                0   \n",
              "1  ...                              0                0   \n",
              "2  ...                              0                0   \n",
              "3  ...                              0                0   \n",
              "4  ...                              0                0   \n",
              "\n",
              "   JobRole_Manufacturing Director  JobRole_Research Director  \\\n",
              "0                               0                          0   \n",
              "1                               0                          0   \n",
              "2                               0                          0   \n",
              "3                               0                          0   \n",
              "4                               0                          0   \n",
              "\n",
              "   JobRole_Research Scientist  JobRole_Sales Executive  \\\n",
              "0                           0                        0   \n",
              "1                           1                        0   \n",
              "2                           0                        1   \n",
              "3                           0                        0   \n",
              "4                           0                        1   \n",
              "\n",
              "   JobRole_Sales Representative  MaritalStatus_Divorced  \\\n",
              "0                             0                       0   \n",
              "1                             0                       0   \n",
              "2                             0                       0   \n",
              "3                             0                       0   \n",
              "4                             0                       0   \n",
              "\n",
              "   MaritalStatus_Married  MaritalStatus_Single  \n",
              "0                      1                     0  \n",
              "1                      0                     1  \n",
              "2                      1                     0  \n",
              "3                      1                     0  \n",
              "4                      0                     1  \n",
              "\n",
              "[5 rows x 45 columns]"
            ],
            "text/html": [
              "\n",
              "  <div id=\"df-3e50048e-0030-4b5e-8802-800d7f49f32c\" class=\"colab-df-container\">\n",
              "    <div>\n",
              "<style scoped>\n",
              "    .dataframe tbody tr th:only-of-type {\n",
              "        vertical-align: middle;\n",
              "    }\n",
              "\n",
              "    .dataframe tbody tr th {\n",
              "        vertical-align: top;\n",
              "    }\n",
              "\n",
              "    .dataframe thead th {\n",
              "        text-align: right;\n",
              "    }\n",
              "</style>\n",
              "<table border=\"1\" class=\"dataframe\">\n",
              "  <thead>\n",
              "    <tr style=\"text-align: right;\">\n",
              "      <th></th>\n",
              "      <th>Age</th>\n",
              "      <th>DistanceFromHome</th>\n",
              "      <th>Education</th>\n",
              "      <th>EmployeeID</th>\n",
              "      <th>JobLevel</th>\n",
              "      <th>MonthlyIncome</th>\n",
              "      <th>NumCompaniesWorked</th>\n",
              "      <th>PercentSalaryHike</th>\n",
              "      <th>StockOptionLevel</th>\n",
              "      <th>TotalWorkingYears</th>\n",
              "      <th>...</th>\n",
              "      <th>JobRole_Laboratory Technician</th>\n",
              "      <th>JobRole_Manager</th>\n",
              "      <th>JobRole_Manufacturing Director</th>\n",
              "      <th>JobRole_Research Director</th>\n",
              "      <th>JobRole_Research Scientist</th>\n",
              "      <th>JobRole_Sales Executive</th>\n",
              "      <th>JobRole_Sales Representative</th>\n",
              "      <th>MaritalStatus_Divorced</th>\n",
              "      <th>MaritalStatus_Married</th>\n",
              "      <th>MaritalStatus_Single</th>\n",
              "    </tr>\n",
              "  </thead>\n",
              "  <tbody>\n",
              "    <tr>\n",
              "      <th>0</th>\n",
              "      <td>51</td>\n",
              "      <td>6</td>\n",
              "      <td>2</td>\n",
              "      <td>1</td>\n",
              "      <td>1</td>\n",
              "      <td>131160</td>\n",
              "      <td>1</td>\n",
              "      <td>11</td>\n",
              "      <td>0</td>\n",
              "      <td>1</td>\n",
              "      <td>...</td>\n",
              "      <td>0</td>\n",
              "      <td>0</td>\n",
              "      <td>0</td>\n",
              "      <td>0</td>\n",
              "      <td>0</td>\n",
              "      <td>0</td>\n",
              "      <td>0</td>\n",
              "      <td>0</td>\n",
              "      <td>1</td>\n",
              "      <td>0</td>\n",
              "    </tr>\n",
              "    <tr>\n",
              "      <th>1</th>\n",
              "      <td>31</td>\n",
              "      <td>10</td>\n",
              "      <td>1</td>\n",
              "      <td>2</td>\n",
              "      <td>1</td>\n",
              "      <td>41890</td>\n",
              "      <td>0</td>\n",
              "      <td>23</td>\n",
              "      <td>1</td>\n",
              "      <td>6</td>\n",
              "      <td>...</td>\n",
              "      <td>0</td>\n",
              "      <td>0</td>\n",
              "      <td>0</td>\n",
              "      <td>0</td>\n",
              "      <td>1</td>\n",
              "      <td>0</td>\n",
              "      <td>0</td>\n",
              "      <td>0</td>\n",
              "      <td>0</td>\n",
              "      <td>1</td>\n",
              "    </tr>\n",
              "    <tr>\n",
              "      <th>2</th>\n",
              "      <td>32</td>\n",
              "      <td>17</td>\n",
              "      <td>4</td>\n",
              "      <td>3</td>\n",
              "      <td>4</td>\n",
              "      <td>193280</td>\n",
              "      <td>1</td>\n",
              "      <td>15</td>\n",
              "      <td>3</td>\n",
              "      <td>5</td>\n",
              "      <td>...</td>\n",
              "      <td>0</td>\n",
              "      <td>0</td>\n",
              "      <td>0</td>\n",
              "      <td>0</td>\n",
              "      <td>0</td>\n",
              "      <td>1</td>\n",
              "      <td>0</td>\n",
              "      <td>0</td>\n",
              "      <td>1</td>\n",
              "      <td>0</td>\n",
              "    </tr>\n",
              "    <tr>\n",
              "      <th>3</th>\n",
              "      <td>38</td>\n",
              "      <td>2</td>\n",
              "      <td>5</td>\n",
              "      <td>4</td>\n",
              "      <td>3</td>\n",
              "      <td>83210</td>\n",
              "      <td>3</td>\n",
              "      <td>11</td>\n",
              "      <td>3</td>\n",
              "      <td>13</td>\n",
              "      <td>...</td>\n",
              "      <td>0</td>\n",
              "      <td>0</td>\n",
              "      <td>0</td>\n",
              "      <td>0</td>\n",
              "      <td>0</td>\n",
              "      <td>0</td>\n",
              "      <td>0</td>\n",
              "      <td>0</td>\n",
              "      <td>1</td>\n",
              "      <td>0</td>\n",
              "    </tr>\n",
              "    <tr>\n",
              "      <th>4</th>\n",
              "      <td>32</td>\n",
              "      <td>10</td>\n",
              "      <td>1</td>\n",
              "      <td>5</td>\n",
              "      <td>1</td>\n",
              "      <td>23420</td>\n",
              "      <td>4</td>\n",
              "      <td>12</td>\n",
              "      <td>2</td>\n",
              "      <td>9</td>\n",
              "      <td>...</td>\n",
              "      <td>0</td>\n",
              "      <td>0</td>\n",
              "      <td>0</td>\n",
              "      <td>0</td>\n",
              "      <td>0</td>\n",
              "      <td>1</td>\n",
              "      <td>0</td>\n",
              "      <td>0</td>\n",
              "      <td>0</td>\n",
              "      <td>1</td>\n",
              "    </tr>\n",
              "  </tbody>\n",
              "</table>\n",
              "<p>5 rows × 45 columns</p>\n",
              "</div>\n",
              "    <div class=\"colab-df-buttons\">\n",
              "\n",
              "  <div class=\"colab-df-container\">\n",
              "    <button class=\"colab-df-convert\" onclick=\"convertToInteractive('df-3e50048e-0030-4b5e-8802-800d7f49f32c')\"\n",
              "            title=\"Convert this dataframe to an interactive table.\"\n",
              "            style=\"display:none;\">\n",
              "\n",
              "  <svg xmlns=\"http://www.w3.org/2000/svg\" height=\"24px\" viewBox=\"0 -960 960 960\">\n",
              "    <path d=\"M120-120v-720h720v720H120Zm60-500h600v-160H180v160Zm220 220h160v-160H400v160Zm0 220h160v-160H400v160ZM180-400h160v-160H180v160Zm440 0h160v-160H620v160ZM180-180h160v-160H180v160Zm440 0h160v-160H620v160Z\"/>\n",
              "  </svg>\n",
              "    </button>\n",
              "\n",
              "  <style>\n",
              "    .colab-df-container {\n",
              "      display:flex;\n",
              "      gap: 12px;\n",
              "    }\n",
              "\n",
              "    .colab-df-convert {\n",
              "      background-color: #E8F0FE;\n",
              "      border: none;\n",
              "      border-radius: 50%;\n",
              "      cursor: pointer;\n",
              "      display: none;\n",
              "      fill: #1967D2;\n",
              "      height: 32px;\n",
              "      padding: 0 0 0 0;\n",
              "      width: 32px;\n",
              "    }\n",
              "\n",
              "    .colab-df-convert:hover {\n",
              "      background-color: #E2EBFA;\n",
              "      box-shadow: 0px 1px 2px rgba(60, 64, 67, 0.3), 0px 1px 3px 1px rgba(60, 64, 67, 0.15);\n",
              "      fill: #174EA6;\n",
              "    }\n",
              "\n",
              "    .colab-df-buttons div {\n",
              "      margin-bottom: 4px;\n",
              "    }\n",
              "\n",
              "    [theme=dark] .colab-df-convert {\n",
              "      background-color: #3B4455;\n",
              "      fill: #D2E3FC;\n",
              "    }\n",
              "\n",
              "    [theme=dark] .colab-df-convert:hover {\n",
              "      background-color: #434B5C;\n",
              "      box-shadow: 0px 1px 3px 1px rgba(0, 0, 0, 0.15);\n",
              "      filter: drop-shadow(0px 1px 2px rgba(0, 0, 0, 0.3));\n",
              "      fill: #FFFFFF;\n",
              "    }\n",
              "  </style>\n",
              "\n",
              "    <script>\n",
              "      const buttonEl =\n",
              "        document.querySelector('#df-3e50048e-0030-4b5e-8802-800d7f49f32c button.colab-df-convert');\n",
              "      buttonEl.style.display =\n",
              "        google.colab.kernel.accessAllowed ? 'block' : 'none';\n",
              "\n",
              "      async function convertToInteractive(key) {\n",
              "        const element = document.querySelector('#df-3e50048e-0030-4b5e-8802-800d7f49f32c');\n",
              "        const dataTable =\n",
              "          await google.colab.kernel.invokeFunction('convertToInteractive',\n",
              "                                                    [key], {});\n",
              "        if (!dataTable) return;\n",
              "\n",
              "        const docLinkHtml = 'Like what you see? Visit the ' +\n",
              "          '<a target=\"_blank\" href=https://colab.research.google.com/notebooks/data_table.ipynb>data table notebook</a>'\n",
              "          + ' to learn more about interactive tables.';\n",
              "        element.innerHTML = '';\n",
              "        dataTable['output_type'] = 'display_data';\n",
              "        await google.colab.output.renderOutput(dataTable, element);\n",
              "        const docLink = document.createElement('div');\n",
              "        docLink.innerHTML = docLinkHtml;\n",
              "        element.appendChild(docLink);\n",
              "      }\n",
              "    </script>\n",
              "  </div>\n",
              "\n",
              "\n",
              "<div id=\"df-8fbc9391-5adc-4e42-b14d-4ce8fc896f30\">\n",
              "  <button class=\"colab-df-quickchart\" onclick=\"quickchart('df-8fbc9391-5adc-4e42-b14d-4ce8fc896f30')\"\n",
              "            title=\"Suggest charts.\"\n",
              "            style=\"display:none;\">\n",
              "\n",
              "<svg xmlns=\"http://www.w3.org/2000/svg\" height=\"24px\"viewBox=\"0 0 24 24\"\n",
              "     width=\"24px\">\n",
              "    <g>\n",
              "        <path d=\"M19 3H5c-1.1 0-2 .9-2 2v14c0 1.1.9 2 2 2h14c1.1 0 2-.9 2-2V5c0-1.1-.9-2-2-2zM9 17H7v-7h2v7zm4 0h-2V7h2v10zm4 0h-2v-4h2v4z\"/>\n",
              "    </g>\n",
              "</svg>\n",
              "  </button>\n",
              "\n",
              "<style>\n",
              "  .colab-df-quickchart {\n",
              "      --bg-color: #E8F0FE;\n",
              "      --fill-color: #1967D2;\n",
              "      --hover-bg-color: #E2EBFA;\n",
              "      --hover-fill-color: #174EA6;\n",
              "      --disabled-fill-color: #AAA;\n",
              "      --disabled-bg-color: #DDD;\n",
              "  }\n",
              "\n",
              "  [theme=dark] .colab-df-quickchart {\n",
              "      --bg-color: #3B4455;\n",
              "      --fill-color: #D2E3FC;\n",
              "      --hover-bg-color: #434B5C;\n",
              "      --hover-fill-color: #FFFFFF;\n",
              "      --disabled-bg-color: #3B4455;\n",
              "      --disabled-fill-color: #666;\n",
              "  }\n",
              "\n",
              "  .colab-df-quickchart {\n",
              "    background-color: var(--bg-color);\n",
              "    border: none;\n",
              "    border-radius: 50%;\n",
              "    cursor: pointer;\n",
              "    display: none;\n",
              "    fill: var(--fill-color);\n",
              "    height: 32px;\n",
              "    padding: 0;\n",
              "    width: 32px;\n",
              "  }\n",
              "\n",
              "  .colab-df-quickchart:hover {\n",
              "    background-color: var(--hover-bg-color);\n",
              "    box-shadow: 0 1px 2px rgba(60, 64, 67, 0.3), 0 1px 3px 1px rgba(60, 64, 67, 0.15);\n",
              "    fill: var(--button-hover-fill-color);\n",
              "  }\n",
              "\n",
              "  .colab-df-quickchart-complete:disabled,\n",
              "  .colab-df-quickchart-complete:disabled:hover {\n",
              "    background-color: var(--disabled-bg-color);\n",
              "    fill: var(--disabled-fill-color);\n",
              "    box-shadow: none;\n",
              "  }\n",
              "\n",
              "  .colab-df-spinner {\n",
              "    border: 2px solid var(--fill-color);\n",
              "    border-color: transparent;\n",
              "    border-bottom-color: var(--fill-color);\n",
              "    animation:\n",
              "      spin 1s steps(1) infinite;\n",
              "  }\n",
              "\n",
              "  @keyframes spin {\n",
              "    0% {\n",
              "      border-color: transparent;\n",
              "      border-bottom-color: var(--fill-color);\n",
              "      border-left-color: var(--fill-color);\n",
              "    }\n",
              "    20% {\n",
              "      border-color: transparent;\n",
              "      border-left-color: var(--fill-color);\n",
              "      border-top-color: var(--fill-color);\n",
              "    }\n",
              "    30% {\n",
              "      border-color: transparent;\n",
              "      border-left-color: var(--fill-color);\n",
              "      border-top-color: var(--fill-color);\n",
              "      border-right-color: var(--fill-color);\n",
              "    }\n",
              "    40% {\n",
              "      border-color: transparent;\n",
              "      border-right-color: var(--fill-color);\n",
              "      border-top-color: var(--fill-color);\n",
              "    }\n",
              "    60% {\n",
              "      border-color: transparent;\n",
              "      border-right-color: var(--fill-color);\n",
              "    }\n",
              "    80% {\n",
              "      border-color: transparent;\n",
              "      border-right-color: var(--fill-color);\n",
              "      border-bottom-color: var(--fill-color);\n",
              "    }\n",
              "    90% {\n",
              "      border-color: transparent;\n",
              "      border-bottom-color: var(--fill-color);\n",
              "    }\n",
              "  }\n",
              "</style>\n",
              "\n",
              "  <script>\n",
              "    async function quickchart(key) {\n",
              "      const quickchartButtonEl =\n",
              "        document.querySelector('#' + key + ' button');\n",
              "      quickchartButtonEl.disabled = true;  // To prevent multiple clicks.\n",
              "      quickchartButtonEl.classList.add('colab-df-spinner');\n",
              "      try {\n",
              "        const charts = await google.colab.kernel.invokeFunction(\n",
              "            'suggestCharts', [key], {});\n",
              "      } catch (error) {\n",
              "        console.error('Error during call to suggestCharts:', error);\n",
              "      }\n",
              "      quickchartButtonEl.classList.remove('colab-df-spinner');\n",
              "      quickchartButtonEl.classList.add('colab-df-quickchart-complete');\n",
              "    }\n",
              "    (() => {\n",
              "      let quickchartButtonEl =\n",
              "        document.querySelector('#df-8fbc9391-5adc-4e42-b14d-4ce8fc896f30 button');\n",
              "      quickchartButtonEl.style.display =\n",
              "        google.colab.kernel.accessAllowed ? 'block' : 'none';\n",
              "    })();\n",
              "  </script>\n",
              "</div>\n",
              "    </div>\n",
              "  </div>\n"
            ]
          },
          "metadata": {},
          "execution_count": 111
        }
      ],
      "source": [
        "df_dummys = pd.get_dummies(dfdata.iloc[:,:-1])\n",
        "df_dummys.head()"
      ]
    },
    {
      "cell_type": "code",
      "execution_count": null,
      "metadata": {
        "id": "WszYYCzlffas"
      },
      "outputs": [],
      "source": [
        "nombre_columnas= df_dummys.columns.tolist()"
      ]
    },
    {
      "cell_type": "code",
      "execution_count": null,
      "metadata": {
        "id": "4f6LUNF099U8",
        "colab": {
          "base_uri": "https://localhost:8080/"
        },
        "outputId": "921dc498-d76c-4280-874a-159dbda5b9a5"
      },
      "outputs": [
        {
          "output_type": "execute_result",
          "data": {
            "text/plain": [
              "['Age',\n",
              " 'DistanceFromHome',\n",
              " 'Education',\n",
              " 'EmployeeID',\n",
              " 'JobLevel',\n",
              " 'MonthlyIncome',\n",
              " 'NumCompaniesWorked',\n",
              " 'PercentSalaryHike',\n",
              " 'StockOptionLevel',\n",
              " 'TotalWorkingYears',\n",
              " 'TrainingTimesLastYear',\n",
              " 'YearsAtCompany',\n",
              " 'YearsSinceLastPromotion',\n",
              " 'YearsWithCurrManager',\n",
              " 'EnvironmentSatisfaction',\n",
              " 'JobSatisfaction',\n",
              " 'WorkLifeBalance',\n",
              " 'JobInvolvement',\n",
              " 'PerformanceRating',\n",
              " 'BusinessTravel_Non-Travel',\n",
              " 'BusinessTravel_Travel_Frequently',\n",
              " 'BusinessTravel_Travel_Rarely',\n",
              " 'Department_Human Resources',\n",
              " 'Department_Research & Development',\n",
              " 'Department_Sales',\n",
              " 'EducationField_Human Resources',\n",
              " 'EducationField_Life Sciences',\n",
              " 'EducationField_Marketing',\n",
              " 'EducationField_Medical',\n",
              " 'EducationField_Other',\n",
              " 'EducationField_Technical Degree',\n",
              " 'Gender_Female',\n",
              " 'Gender_Male',\n",
              " 'JobRole_Healthcare Representative',\n",
              " 'JobRole_Human Resources',\n",
              " 'JobRole_Laboratory Technician',\n",
              " 'JobRole_Manager',\n",
              " 'JobRole_Manufacturing Director',\n",
              " 'JobRole_Research Director',\n",
              " 'JobRole_Research Scientist',\n",
              " 'JobRole_Sales Executive',\n",
              " 'JobRole_Sales Representative',\n",
              " 'MaritalStatus_Divorced',\n",
              " 'MaritalStatus_Married',\n",
              " 'MaritalStatus_Single']"
            ]
          },
          "metadata": {},
          "execution_count": 113
        }
      ],
      "source": [
        "nombre_columnas"
      ]
    },
    {
      "cell_type": "code",
      "execution_count": null,
      "metadata": {
        "id": "hHenVqGGnI97"
      },
      "outputs": [],
      "source": [
        "# Separación de variables / caracteristicas\n",
        "X = df_dummys\n",
        "y = dfdata.iloc[:, -1].values # target"
      ]
    },
    {
      "cell_type": "code",
      "execution_count": null,
      "metadata": {
        "id": "FpSpunfPpN5q",
        "colab": {
          "base_uri": "https://localhost:8080/"
        },
        "outputId": "016ce458-40cd-46f6-d1e7-ed34199eb293"
      },
      "outputs": [
        {
          "output_type": "stream",
          "name": "stdout",
          "text": [
            "[0 1 0 0 0]\n"
          ]
        }
      ],
      "source": [
        "# LabelEncoder\n",
        "le = LabelEncoder()\n",
        "y = le.fit_transform(y)\n",
        "\n",
        "print(y[0:5])\n"
      ]
    },
    {
      "cell_type": "code",
      "execution_count": null,
      "metadata": {
        "id": "feqFOWcjf5Yy",
        "colab": {
          "base_uri": "https://localhost:8080/"
        },
        "outputId": "b3a6a76c-a246-4647-82a8-15409447a7dd"
      },
      "outputs": [
        {
          "output_type": "stream",
          "name": "stdout",
          "text": [
            "Tamaño del conjunto de entrenamiento: (3528, 45)\n",
            "Tamaño del conjunto de validación: (882, 45)\n"
          ]
        }
      ],
      "source": [
        "# Separación en conjuntos de entrenamiento y validación con 75% de muestras para entrenamiento\n",
        "X_train, X_test, y_train, y_test = train_test_split(X, y, test_size=0.2, random_state=42)\n",
        "\n",
        "#Imprimir Tamaño de dataset\n",
        "print(\"Tamaño del conjunto de entrenamiento:\", X_train.shape)\n",
        "print(\"Tamaño del conjunto de validación:\", X_test.shape)\n",
        "\n",
        "#Nombre de caracteristicas númericas\n",
        "numeric_columns=list(X.select_dtypes('int').columns)\n",
        "\n",
        "#Estandarización de variables númericas\n",
        "pipeline=ColumnTransformer([(\"std_num\" , StandardScaler(), numeric_columns)], remainder='passthrough')\n",
        "\n",
        "X_train_std = pipeline.fit_transform(X_train)\n",
        "X_test_std = pipeline.transform(X_test)"
      ]
    },
    {
      "cell_type": "code",
      "execution_count": null,
      "metadata": {
        "id": "hI_ruUWbGmE-"
      },
      "outputs": [],
      "source": [
        "#convertimos los datos estandarizados a df para meterlos al modelo\n",
        "X_train_std_df = pd.DataFrame(X_train_std)"
      ]
    },
    {
      "cell_type": "code",
      "execution_count": null,
      "metadata": {
        "id": "SYD5wSzsG_45"
      },
      "outputs": [],
      "source": [
        "X_train_std_df.columns= nombre_columnas"
      ]
    },
    {
      "cell_type": "code",
      "execution_count": null,
      "metadata": {
        "id": "HgDXsXGeHqB7"
      },
      "outputs": [],
      "source": [
        "X_test_std_df = pd.DataFrame(X_test_std)"
      ]
    },
    {
      "cell_type": "code",
      "execution_count": null,
      "metadata": {
        "id": "CndKNe9WHrhW"
      },
      "outputs": [],
      "source": [
        "X_test_std_df.columns= nombre_columnas"
      ]
    },
    {
      "cell_type": "markdown",
      "metadata": {
        "id": "SGOiktwSBFuW"
      },
      "source": [
        "##Regresion logistica"
      ]
    },
    {
      "cell_type": "code",
      "execution_count": null,
      "metadata": {
        "id": "Tq9q6DHEE8PT"
      },
      "outputs": [],
      "source": [
        "#Primero usaremos un modelo de regresión logística que nos es útil para predecir si es probable que un empleado se retire o no,\n",
        "#Además es fácil de interpretar y  nos puede proporcionar información sobre qué variables son las más influyentes en la decisión de un empleado para renunciar.\n"
      ]
    },
    {
      "cell_type": "code",
      "execution_count": null,
      "metadata": {
        "id": "RGHly987A7Mh",
        "colab": {
          "base_uri": "https://localhost:8080/"
        },
        "outputId": "29e238f8-d5d3-4015-a798-5f0fd38a248a"
      },
      "outputs": [
        {
          "output_type": "stream",
          "name": "stdout",
          "text": [
            "Coeficientes:  [[-2.79373320e-01 -2.90154587e-02 -1.00928707e-01 -2.47564332e-02\n",
            "  -1.51138491e-01 -6.71926963e-02  3.24097170e-01 -6.48426361e-02\n",
            "  -1.96641353e-02 -5.19211005e-01 -2.66025909e-01  1.82812073e-01\n",
            "   5.04839723e-01 -6.64979321e-01 -3.44439308e-01 -4.49515767e-01\n",
            "  -2.16131696e-01  3.46300237e-02  1.27409443e-01 -7.68833748e-01\n",
            "   7.25892480e-01  4.24614273e-02  6.31921442e-01 -2.77371733e-01\n",
            "  -3.55029550e-01  9.04782501e-01 -8.38055972e-04 -1.64830607e-01\n",
            "  -1.00296006e-02 -4.10259385e-01 -3.19304694e-01 -3.46251744e-02\n",
            "   3.41453339e-02 -7.73767420e-02 -1.15481332e-01 -1.92900073e-02\n",
            "  -2.77668258e-01 -6.18208532e-01  7.17465427e-01  2.35597428e-01\n",
            "   2.39035212e-01 -8.45530344e-02 -4.92606840e-01 -1.88016723e-01\n",
            "   6.80143723e-01]]\n",
            "\n",
            "Intercepto:  [-0.36297065]\n",
            "Accuracy (Train): 71.68367346938776%\n"
          ]
        }
      ],
      "source": [
        "#vamos a relizar un modelo balanceado\n",
        "from sklearn.linear_model import LogisticRegression\n",
        "\n",
        "# Crea el modelo\n",
        "regr = LogisticRegression(class_weight=\"balanced\", random_state=42, max_iter=1000)\n",
        "# Calibra el modelo\n",
        "regr.fit(X_train_std_df, y_train)\n",
        "#Realice predicciones sobre x_train_std\n",
        "y_pred = regr.predict(X_train_std_df)\n",
        "# Imprime los coeficientes\n",
        "print(\"Coeficientes: \", regr.coef_)\n",
        "\n",
        "# Imprime el intercepto\n",
        "print(\"\\nIntercepto: \", regr.intercept_)\n",
        "#Exactitud de modelo\n",
        "print(\"Accuracy (Train): \"+ str(regr.score(X_train_std_df,y_train)*100) + \"%\")\n",
        "#print(\"Score: \", regr.score(X_train_std, y_pred))"
      ]
    },
    {
      "cell_type": "code",
      "execution_count": null,
      "metadata": {
        "id": "DoimLWlLCRTT",
        "colab": {
          "base_uri": "https://localhost:8080/"
        },
        "outputId": "d9beef2c-1a0d-49b7-d794-84d8e34f9487"
      },
      "outputs": [
        {
          "output_type": "stream",
          "name": "stdout",
          "text": [
            "Accuracy (Test): 68.02721088435374%\n"
          ]
        }
      ],
      "source": [
        "#Predicciones sobre el conjunto de test\n",
        "y_hat = regr.predict(X_test_std_df)\n",
        "#Exactitud de modelo\n",
        "print(\"Accuracy (Test): \"+ str(regr.score(X_test_std_df,y_test)*100) + \"%\")"
      ]
    },
    {
      "cell_type": "code",
      "execution_count": null,
      "metadata": {
        "id": "XrXQlPeRCc72",
        "colab": {
          "base_uri": "https://localhost:8080/",
          "height": 449
        },
        "outputId": "2551623d-d2a4-4625-9711-727c48ae9620"
      },
      "outputs": [
        {
          "output_type": "display_data",
          "data": {
            "text/plain": [
              "<Figure size 640x480 with 2 Axes>"
            ],
            "image/png": "[encoded data removed]"
          },
          "metadata": {}
        }
      ],
      "source": [
        "from sklearn.metrics import confusion_matrix, ConfusionMatrixDisplay\n",
        "# Matriz de confusion\n",
        "cm1= confusion_matrix(y_test, y_hat)\n",
        "# Visualización de la matriz de confusion\n",
        "cm1_display = ConfusionMatrixDisplay(confusion_matrix = cm1, display_labels = [False, True])\n",
        "cm1_display.plot()\n",
        "plt.show()\n"
      ]
    },
    {
      "cell_type": "code",
      "execution_count": null,
      "metadata": {
        "id": "ngnQ28k2Vi9Q"
      },
      "outputs": [],
      "source": [
        "metricas_modelos = []"
      ]
    },
    {
      "cell_type": "code",
      "execution_count": null,
      "metadata": {
        "id": "HtqBvOChK9b8",
        "colab": {
          "base_uri": "https://localhost:8080/"
        },
        "outputId": "73d02b6f-bd54-45a8-bf7a-e855b97cd45e"
      },
      "outputs": [
        {
          "output_type": "stream",
          "name": "stdout",
          "text": [
            "Precision: 0.33\n",
            "Recall: 0.72\n",
            "F1-score: 0.45\n"
          ]
        }
      ],
      "source": [
        "from sklearn.metrics import precision_score, recall_score, f1_score, confusion_matrix\n",
        "\n",
        "# Extraccion de elementos de la matriz\n",
        "tn, fp, fn, tp = cm1.ravel()\n",
        "precision_tr = precision_score(y_train, y_pred)\n",
        "recall_tr = recall_score(y_train, y_pred)\n",
        "f1score_tr = f1_score(y_train, y_pred)\n",
        "accuracy_tr = metrics.accuracy_score(y_train, y_pred)\n",
        "\n",
        "print(f'Precision: {precision_tr:.2f}')\n",
        "print(f'Recall: {recall_tr:.2f}')\n",
        "print(f'F1-score: {f1score_tr:.2f}')"
      ]
    },
    {
      "cell_type": "code",
      "execution_count": null,
      "metadata": {
        "id": "2LBvPIQmVADK",
        "colab": {
          "base_uri": "https://localhost:8080/"
        },
        "outputId": "36eb74cd-a26d-4b6d-9d53-72f9d65be3d6"
      },
      "outputs": [
        {
          "output_type": "stream",
          "name": "stdout",
          "text": [
            "Precision: 0.27\n",
            "Recall: 0.61\n",
            "F1-score: 0.38\n"
          ]
        }
      ],
      "source": [
        "# Extraccion de elementos de la matriz\n",
        "tn, fp, fn, tp = cm1.ravel()\n",
        "precision_te  = precision_score(y_test, y_hat)\n",
        "recall_te = recall_score(y_test, y_hat)\n",
        "f1score_te = f1_score(y_test, y_hat)\n",
        "accuracy_te = metrics.accuracy_score(y_test, y_hat)\n",
        "\n",
        "print(f'Precision: {precision_te:.2f}')\n",
        "print(f'Recall: {recall_te:.2f}')\n",
        "print(f'F1-score: {f1score_te:.2f}')"
      ]
    },
    {
      "cell_type": "code",
      "execution_count": null,
      "metadata": {
        "id": "Ot_FC3ROXu3h"
      },
      "outputs": [],
      "source": [
        "metricas_modelos.append(('Regresión', precision_tr, recall_tr, f1score_tr, accuracy_tr, precision_te, recall_te, f1score_te, accuracy_te))"
      ]
    },
    {
      "cell_type": "code",
      "execution_count": null,
      "metadata": {
        "id": "6ei8ib7ULhuR"
      },
      "outputs": [],
      "source": [
        "#La exactitud es una métrica que mide la proporción de predicciones correctas en relación con el total de predicciones realizadas por el modelo.\n",
        "#Este modelo clasifica correctamente aproximadamente el 68.03% de todas las instancias\n",
        "\n",
        "#La precisión mide la capacidad del modelo para evitar hacer predicciones falsas positivas.\n",
        "#este caso, una precisión de 0.33 significa que aproximadamente el 33% de las predicciones positivas hechas por el modelo son correctas,\n",
        "#mientras que el 67% son falsas alarmas.\n",
        "\n",
        "#El recall mide la capacidad del modelo para encontrar todas las instancias positivas.\n",
        "#en nuestro caso, un recall de 0.72 significa que el modelo es capaz de identificar correctamente alrededor del 72% de todas las instancias positivas en el conjunto de datos.\n",
        "\n",
        "#El F1-score es una métrica que combina la precisión y el recall en una sola puntuación.\n",
        "#Un F1-score de 0.45 indica un equilibrio entre la precisión y el recall.\n",
        "#Cuanto más alto sea el F1-score, mejor, ya que nos indica un equilibrio más óptimo entre la precisión y el recall\n",
        "\n",
        "\n",
        "#En la matriz de confusión podemos analizar el rendimiento del modelo como podemos observar hay una gran cantidad de falsos positivos (841)\n",
        "#Y también una gran cantidad de falsos negativos siendo estos (160)\n",
        "#En este contexto, un falso positivo se refiere a la clasificación incorrecta de un empleado como alguien que se retirará de la empresa cuando, en realidad, no lo hará.\n",
        "#Tener  estos falsos positivos puede llevar a la adopción de acciones innecesarias, como la implementación de estrategias de retención para empleados que no tenían la intención de retirarse.\n",
        "#Esto puede generar costos adicionales y recursos mal asignados.\n",
        "#Un falso negativo se produce cuando el modelo no identifica a un empleado que finalmente se retira de la empresa.\n",
        "#Tener falsos negativos en este caso es más problemático. Si el modelo no puede detectar a empleados que se retirarán,\n",
        "#la empresa podría perder la oportunidad de implementar estrategias de retención a tiempo, lo que resultaría en una tasa de retiro más alta de lo deseado.\n",
        "\n",
        "\n",
        "\n",
        "\n",
        "\n"
      ]
    },
    {
      "cell_type": "markdown",
      "metadata": {
        "id": "2y2sl0bsDS8O"
      },
      "source": [
        "##Arbol de decision"
      ]
    },
    {
      "cell_type": "code",
      "execution_count": null,
      "metadata": {
        "id": "N9vcjJl0Fycu"
      },
      "outputs": [],
      "source": [
        "#Ahora vamos a usar un árbol de decisión ya que este es versátil y se puede aplicar a nuestro caso de estudio, puede manejar diferentes tipos de caracteristicas\n",
        "#Además puede proporcionar información sobre qué variables son las más influyentes en la decisión de un empleado para renunciar\n",
        "#Además son interpretables y fáciles de entender\n"
      ]
    },
    {
      "cell_type": "code",
      "execution_count": null,
      "metadata": {
        "id": "hFWA1mt8DSAb"
      },
      "outputs": [],
      "source": [
        "treedf =tree.DecisionTreeClassifier(random_state=0)\n",
        "treedf.fit(X_train_std_df, y_train)\n",
        "treedfpred=treedf.predict(X_test_std_df)"
      ]
    },
    {
      "cell_type": "code",
      "execution_count": null,
      "metadata": {
        "id": "91wCKFSoYZyi",
        "colab": {
          "base_uri": "https://localhost:8080/"
        },
        "outputId": "469e76ff-a7f9-4bbc-b618-648243340064"
      },
      "outputs": [
        {
          "output_type": "stream",
          "name": "stdout",
          "text": [
            "Precision: 1.00\n",
            "Recall: 1.00\n",
            "F1-score: 1.00\n"
          ]
        }
      ],
      "source": [
        "from sklearn.metrics import precision_score, recall_score, f1_score, confusion_matrix\n",
        "\n",
        "# Extraccion de elementos de la matriz\n",
        "tn, fp, fn, tp = cm1.ravel()\n",
        "precision_tr = precision_score(y_train, treedf.predict(X_train_std_df))\n",
        "recall_tr = recall_score(y_train, treedf.predict(X_train_std_df))\n",
        "f1score_tr = f1_score(y_train, treedf.predict(X_train_std_df))\n",
        "accuracy_tr = metrics.accuracy_score(y_train, treedf.predict(X_train_std_df))\n",
        "\n",
        "print(f'Precision: {precision_tr:.2f}')\n",
        "print(f'Recall: {recall_tr:.2f}')\n",
        "print(f'F1-score: {f1score_tr:.2f}')"
      ]
    },
    {
      "cell_type": "code",
      "execution_count": null,
      "metadata": {
        "id": "dZ4NMjL0YZyi",
        "colab": {
          "base_uri": "https://localhost:8080/"
        },
        "outputId": "056bb104-d0bc-4bf1-d02c-b4ab3d406385"
      },
      "outputs": [
        {
          "output_type": "stream",
          "name": "stdout",
          "text": [
            "Precision: 0.94\n",
            "Recall: 0.94\n",
            "F1-score: 0.94\n"
          ]
        }
      ],
      "source": [
        "# Extraccion de elementos de la matriz\n",
        "tn, fp, fn, tp = cm1.ravel()\n",
        "precision_te  = precision_score(y_test, treedf.predict(X_test_std_df))\n",
        "recall_te = recall_score(y_test, treedf.predict(X_test_std_df))\n",
        "f1score_te = f1_score(y_test, treedf.predict(X_test_std_df))\n",
        "accuracy_te = metrics.accuracy_score(y_test, treedf.predict(X_test_std_df))\n",
        "\n",
        "print(f'Precision: {precision_te:.2f}')\n",
        "print(f'Recall: {recall_te:.2f}')\n",
        "print(f'F1-score: {f1score_te:.2f}')"
      ]
    },
    {
      "cell_type": "code",
      "execution_count": null,
      "metadata": {
        "id": "vKDu5VepYZyi"
      },
      "outputs": [],
      "source": [
        "metricas_modelos.append(('TreeDf', precision_tr, recall_tr, f1score_tr, accuracy_tr, precision_te, recall_te, f1score_te, accuracy_te))"
      ]
    },
    {
      "cell_type": "code",
      "execution_count": null,
      "metadata": {
        "id": "otAfKop5DyYe",
        "colab": {
          "base_uri": "https://localhost:8080/"
        },
        "outputId": "ee904fd1-f776-4095-97cd-f995c60e0088"
      },
      "outputs": [
        {
          "output_type": "stream",
          "name": "stdout",
          "text": [
            "Train - Accuracy : 1.0\n",
            "Train - classification report:\n",
            "               precision    recall  f1-score   support\n",
            "\n",
            "           0       1.00      1.00      1.00      2958\n",
            "           1       1.00      1.00      1.00       570\n",
            "\n",
            "    accuracy                           1.00      3528\n",
            "   macro avg       1.00      1.00      1.00      3528\n",
            "weighted avg       1.00      1.00      1.00      3528\n",
            "\n",
            "Test - Accuracy : 0.9795918367346939\n",
            "Test - classification report :               precision    recall  f1-score   support\n",
            "\n",
            "           0       0.99      0.99      0.99       741\n",
            "           1       0.94      0.94      0.94       141\n",
            "\n",
            "    accuracy                           0.98       882\n",
            "   macro avg       0.96      0.96      0.96       882\n",
            "weighted avg       0.98      0.98      0.98       882\n",
            "\n"
          ]
        }
      ],
      "source": [
        "# Métricas de desempeño\n",
        "print (\"Train - Accuracy :\", metrics.accuracy_score(y_train, treedf.predict(X_train_std_df)))\n",
        "print (\"Train - classification report:\\n\", metrics.classification_report(y_train, treedf.predict(X_train_std_df)))\n",
        "print (\"Test - Accuracy :\", metrics.accuracy_score(y_test, treedf.predict(X_test_std_df)))\n",
        "print (\"Test - classification report :\", metrics.classification_report(y_test, treedf.predict(X_test_std_df)))"
      ]
    },
    {
      "cell_type": "code",
      "execution_count": null,
      "metadata": {
        "id": "vzxteJmWEEbu",
        "colab": {
          "base_uri": "https://localhost:8080/",
          "height": 449
        },
        "outputId": "1bff226a-76c4-431f-f4a8-cd509812f8e2"
      },
      "outputs": [
        {
          "output_type": "display_data",
          "data": {
            "text/plain": [
              "<Figure size 640x480 with 2 Axes>"
            ],
            "image/png": "[encoded data removed]"
          },
          "metadata": {}
        }
      ],
      "source": [
        "from sklearn.metrics import confusion_matrix, ConfusionMatrixDisplay\n",
        "# Matriz de confusion\n",
        "cm1= confusion_matrix(y_test, treedf.predict(X_test_std_df))\n",
        "# Visualización de la matriz de confusion\n",
        "cm1_display = ConfusionMatrixDisplay(confusion_matrix = cm1)\n",
        "cm1_display.plot()\n",
        "plt.show()"
      ]
    },
    {
      "cell_type": "code",
      "execution_count": null,
      "metadata": {
        "id": "WWzNkO7ZPjZ-"
      },
      "outputs": [],
      "source": [
        "#La exactitud es una métrica que mide la proporción de predicciones correctas en relación con el total de predicciones realizadas por el modelo.\n",
        "#Este modelo clasifica correctamente aproximadamente el 97,6% de todas las instancias\n",
        "\n",
        "#Para la Clase positiva, el modelo muestra un alto nivel de precisión (0.98) y un alto recall (0.99), lo que significa que es muy bueno en la clasificación de esta clase. El F1-score de 0.99 también indica un muy buen rendimiento\n",
        "#Para la Clase negativa, el modelo tiene una precisión menor (0.93) pero aún es bastante alta. El recall (0.91) es un poco menor, lo que significa que hay algunos falsos negativos,\n",
        "#pero el F1-score de 0.92 indica un buen equilibrio entre precisión y recall.\n",
        "\n",
        "\n",
        "#En la matrix de confusion podemos analizar el rendimiento del modelo como podemos observar hay muy pocos falsos positivos (9)\n",
        "#Y tambien una poca cantidad de falsos negativos siendo estos (12)\n",
        "#En este contexto, un falso positivo se refiere a la clasificación incorrecta de un empleado como alguien que se retirará de la empresa cuando, en realidad, no lo hará.\n",
        "#Tener  estos falsos positivos puede llevar a la adopción de acciones innecesarias, como la implementación de estrategias de retención para empleados que no tenían la intención de retirarse.\n",
        "#Esto puede generar costos adicionales y recursos mal asignados.\n",
        "#Un falso negativo se produce cuando el modelo no identifica a un empleado que finalmente se retira de la empresa.\n",
        "#Tener falsos negativos en este caso es más problemático. Si el modelo no puede detectar a empleados que se retirarán,\n",
        "#la empresa podría perder la oportunidad de implementar estrategias de retención a tiempo, lo que resultaría en una tasa de retiro más alta de lo deseado.\n",
        "\n",
        "\n",
        "#En general, las métricas indican que el modelo tiene un rendimiento muy sólido en la clasificación de ambas clases,\n",
        "#con un énfasis en la precisión de la clase positiva"
      ]
    },
    {
      "cell_type": "markdown",
      "metadata": {
        "id": "Oe0ZAqlUHCZc"
      },
      "source": [
        "##Random Forest"
      ]
    },
    {
      "cell_type": "code",
      "execution_count": null,
      "metadata": {
        "id": "7CQP-6iTIPen"
      },
      "outputs": [],
      "source": [
        "#Usaremos un Random forest ya que es un modelo preciso ya que al combinar múltiples árboles entrenados en subconjuntos aleatorios de datos mejora la precisión de los modelos\n",
        "#Además pueden manejar conjuntos de datos en los que las clases están desequilibradas,como es nuestro caso.\n",
        "\n"
      ]
    },
    {
      "cell_type": "code",
      "execution_count": null,
      "metadata": {
        "id": "mbPtHTlMHDv2",
        "colab": {
          "base_uri": "https://localhost:8080/",
          "height": 74
        },
        "outputId": "d6899eb3-c514-4d3e-df39-49348fe8803f"
      },
      "outputs": [
        {
          "output_type": "execute_result",
          "data": {
            "text/plain": [
              "RandomForestClassifier(random_state=123)"
            ],
            "text/html": [
              "<style>#sk-container-id-3 {color: black;background-color: white;}#sk-container-id-3 pre{padding: 0;}#sk-container-id-3 div.sk-toggleable {background-color: white;}#sk-container-id-3 label.sk-toggleable__label {cursor: pointer;display: block;width: 100%;margin-bottom: 0;padding: 0.3em;box-sizing: border-box;text-align: center;}#sk-container-id-3 label.sk-toggleable__label-arrow:before {content: \"▸\";float: left;margin-right: 0.25em;color: #696969;}#sk-container-id-3 label.sk-toggleable__label-arrow:hover:before {color: black;}#sk-container-id-3 div.sk-estimator:hover label.sk-toggleable__label-arrow:before {color: black;}#sk-container-id-3 div.sk-toggleable__content {max-height: 0;max-width: 0;overflow: hidden;text-align: left;background-color: #f0f8ff;}#sk-container-id-3 div.sk-toggleable__content pre {margin: 0.2em;color: black;border-radius: 0.25em;background-color: #f0f8ff;}#sk-container-id-3 input.sk-toggleable__control:checked~div.sk-toggleable__content {max-height: 200px;max-width: 100%;overflow: auto;}#sk-container-id-3 input.sk-toggleable__control:checked~label.sk-toggleable__label-arrow:before {content: \"▾\";}#sk-container-id-3 div.sk-estimator input.sk-toggleable__control:checked~label.sk-toggleable__label {background-color: #d4ebff;}#sk-container-id-3 div.sk-label input.sk-toggleable__control:checked~label.sk-toggleable__label {background-color: #d4ebff;}#sk-container-id-3 input.sk-hidden--visually {border: 0;clip: rect(1px 1px 1px 1px);clip: rect(1px, 1px, 1px, 1px);height: 1px;margin: -1px;overflow: hidden;padding: 0;position: absolute;width: 1px;}#sk-container-id-3 div.sk-estimator {font-family: monospace;background-color: #f0f8ff;border: 1px dotted black;border-radius: 0.25em;box-sizing: border-box;margin-bottom: 0.5em;}#sk-container-id-3 div.sk-estimator:hover {background-color: #d4ebff;}#sk-container-id-3 div.sk-parallel-item::after {content: \"\";width: 100%;border-bottom: 1px solid gray;flex-grow: 1;}#sk-container-id-3 div.sk-label:hover label.sk-toggleable__label {background-color: #d4ebff;}#sk-container-id-3 div.sk-serial::before {content: \"\";position: absolute;border-left: 1px solid gray;box-sizing: border-box;top: 0;bottom: 0;left: 50%;z-index: 0;}#sk-container-id-3 div.sk-serial {display: flex;flex-direction: column;align-items: center;background-color: white;padding-right: 0.2em;padding-left: 0.2em;position: relative;}#sk-container-id-3 div.sk-item {position: relative;z-index: 1;}#sk-container-id-3 div.sk-parallel {display: flex;align-items: stretch;justify-content: center;background-color: white;position: relative;}#sk-container-id-3 div.sk-item::before, #sk-container-id-3 div.sk-parallel-item::before {content: \"\";position: absolute;border-left: 1px solid gray;box-sizing: border-box;top: 0;bottom: 0;left: 50%;z-index: -1;}#sk-container-id-3 div.sk-parallel-item {display: flex;flex-direction: column;z-index: 1;position: relative;background-color: white;}#sk-container-id-3 div.sk-parallel-item:first-child::after {align-self: flex-end;width: 50%;}#sk-container-id-3 div.sk-parallel-item:last-child::after {align-self: flex-start;width: 50%;}#sk-container-id-3 div.sk-parallel-item:only-child::after {width: 0;}#sk-container-id-3 div.sk-dashed-wrapped {border: 1px dashed gray;margin: 0 0.4em 0.5em 0.4em;box-sizing: border-box;padding-bottom: 0.4em;background-color: white;}#sk-container-id-3 div.sk-label label {font-family: monospace;font-weight: bold;display: inline-block;line-height: 1.2em;}#sk-container-id-3 div.sk-label-container {text-align: center;}#sk-container-id-3 div.sk-container {/* jupyter's `normalize.less` sets `[hidden] { display: none; }` but bootstrap.min.css set `[hidden] { display: none !important; }` so we also need the `!important` here to be able to override the default hidden behavior on the sphinx rendered scikit-learn.org. See: https://github.com/scikit-learn/scikit-learn/issues/21755 */display: inline-block !important;position: relative;}#sk-container-id-3 div.sk-text-repr-fallback {display: none;}</style><div id=\"sk-container-id-3\" class=\"sk-top-container\"><div class=\"sk-text-repr-fallback\"><pre>RandomForestClassifier(random_state=123)</pre><b>In a Jupyter environment, please rerun this cell to show the HTML representation or trust the notebook. <br />On GitHub, the HTML representation is unable to render, please try loading this page with nbviewer.org.</b></div><div class=\"sk-container\" hidden><div class=\"sk-item\"><div class=\"sk-estimator sk-toggleable\"><input class=\"sk-toggleable__control sk-hidden--visually\" id=\"sk-estimator-id-3\" type=\"checkbox\" checked><label for=\"sk-estimator-id-3\" class=\"sk-toggleable__label sk-toggleable__label-arrow\">RandomForestClassifier</label><div class=\"sk-toggleable__content\"><pre>RandomForestClassifier(random_state=123)</pre></div></div></div></div></div>"
            ]
          },
          "metadata": {},
          "execution_count": 139
        }
      ],
      "source": [
        "from sklearn.ensemble import RandomForestClassifier\n",
        "#Definición del modelo\n",
        "ranfor = RandomForestClassifier(random_state = 123, n_estimators=100)\n",
        "ranfor.fit(X_train_std_df, y_train)"
      ]
    },
    {
      "cell_type": "code",
      "execution_count": null,
      "metadata": {
        "id": "sSgPXhZlZ2jb",
        "colab": {
          "base_uri": "https://localhost:8080/"
        },
        "outputId": "2b4ae69f-b0d7-4701-bd7c-ca2d5ab7d898"
      },
      "outputs": [
        {
          "output_type": "stream",
          "name": "stdout",
          "text": [
            "Precision: 1.00\n",
            "Recall: 1.00\n",
            "F1-score: 1.00\n"
          ]
        }
      ],
      "source": [
        "from sklearn.metrics import precision_score, recall_score, f1_score, confusion_matrix\n",
        "\n",
        "# Extraccion de elementos de la matriz\n",
        "tn, fp, fn, tp = cm1.ravel()\n",
        "precision_tr = precision_score(y_train, ranfor.predict(X_train_std_df))\n",
        "recall_tr = recall_score(y_train, ranfor.predict(X_train_std_df))\n",
        "f1score_tr = f1_score(y_train, ranfor.predict(X_train_std_df))\n",
        "accuracy_tr = metrics.accuracy_score(y_train, ranfor.predict(X_train_std_df))\n",
        "\n",
        "print(f'Precision: {precision_tr:.2f}')\n",
        "print(f'Recall: {recall_tr:.2f}')\n",
        "print(f'F1-score: {f1score_tr:.2f}')"
      ]
    },
    {
      "cell_type": "code",
      "execution_count": null,
      "metadata": {
        "id": "Pf21YzBcZ2jc",
        "colab": {
          "base_uri": "https://localhost:8080/"
        },
        "outputId": "e474d0e6-01b3-4b4e-a075-609e24fb4e32"
      },
      "outputs": [
        {
          "output_type": "stream",
          "name": "stdout",
          "text": [
            "Precision: 1.00\n",
            "Recall: 0.91\n",
            "F1-score: 0.95\n"
          ]
        }
      ],
      "source": [
        "# Extraccion de elementos de la matriz\n",
        "tn, fp, fn, tp = cm1.ravel()\n",
        "precision_te  = precision_score(y_test, ranfor.predict(X_test_std_df))\n",
        "recall_te = recall_score(y_test, ranfor.predict(X_test_std_df))\n",
        "f1score_te = f1_score(y_test, ranfor.predict(X_test_std_df))\n",
        "accuracy_te = metrics.accuracy_score(y_test, ranfor.predict(X_test_std_df))\n",
        "\n",
        "print(f'Precision: {precision_te:.2f}')\n",
        "print(f'Recall: {recall_te:.2f}')\n",
        "print(f'F1-score: {f1score_te:.2f}')"
      ]
    },
    {
      "cell_type": "code",
      "execution_count": null,
      "metadata": {
        "id": "LKf2MoM2Z2jc"
      },
      "outputs": [],
      "source": [
        "metricas_modelos.append(('RandomForest', precision_tr, recall_tr, f1score_tr, accuracy_tr, precision_te, recall_te, f1score_te, accuracy_te))"
      ]
    },
    {
      "cell_type": "code",
      "execution_count": null,
      "metadata": {
        "id": "lut6n1hBHs78",
        "colab": {
          "base_uri": "https://localhost:8080/"
        },
        "outputId": "fdd6d50c-f36a-4296-fddf-d47b6a5386cf"
      },
      "outputs": [
        {
          "output_type": "stream",
          "name": "stdout",
          "text": [
            "Train - Accuracy : 1.0\n",
            "Train - classification report:\n",
            "               precision    recall  f1-score   support\n",
            "\n",
            "           0       1.00      1.00      1.00      2958\n",
            "           1       1.00      1.00      1.00       570\n",
            "\n",
            "    accuracy                           1.00      3528\n",
            "   macro avg       1.00      1.00      1.00      3528\n",
            "weighted avg       1.00      1.00      1.00      3528\n",
            "\n",
            "Test - Accuracy : 0.9852607709750567\n",
            "Test - classification report :\n",
            "               precision    recall  f1-score   support\n",
            "\n",
            "           0       0.98      1.00      0.99       741\n",
            "           1       1.00      0.91      0.95       141\n",
            "\n",
            "    accuracy                           0.99       882\n",
            "   macro avg       0.99      0.95      0.97       882\n",
            "weighted avg       0.99      0.99      0.98       882\n",
            "\n"
          ]
        }
      ],
      "source": [
        "# Métricas de desempeño\n",
        "print (\"Train - Accuracy :\", metrics.accuracy_score(y_train, ranfor.predict(X_train_std_df)))\n",
        "print (\"Train - classification report:\\n\", metrics.classification_report(y_train, ranfor.predict(X_train_std_df)))\n",
        "print (\"Test - Accuracy :\", metrics.accuracy_score(y_test, ranfor.predict(X_test_std_df)))\n",
        "print (\"Test - classification report :\\n\", metrics.classification_report(y_test, ranfor.predict(X_test_std_df)))"
      ]
    },
    {
      "cell_type": "code",
      "execution_count": null,
      "metadata": {
        "id": "-w-zHYgCHZJc",
        "colab": {
          "base_uri": "https://localhost:8080/",
          "height": 449
        },
        "outputId": "5ac5d612-1157-43af-bccb-ad9b2b482f8d"
      },
      "outputs": [
        {
          "output_type": "display_data",
          "data": {
            "text/plain": [
              "<Figure size 640x480 with 2 Axes>"
            ],
            "image/png": "[encoded data removed]"
          },
          "metadata": {}
        }
      ],
      "source": [
        "from sklearn.metrics import confusion_matrix, ConfusionMatrixDisplay\n",
        "# Matriz de confusion\n",
        "cm1= confusion_matrix(y_test, ranfor.predict(X_test_std_df))\n",
        "# Visualización de la matriz de confusion\n",
        "cm1_display = ConfusionMatrixDisplay(confusion_matrix = cm1)\n",
        "cm1_display.plot()\n",
        "plt.show()"
      ]
    },
    {
      "cell_type": "code",
      "execution_count": null,
      "metadata": {
        "id": "XWcZ6MdLSK_9"
      },
      "outputs": [],
      "source": [
        "#La exactitud es una métrica que mide la proporción de predicciones correctas en relación con el total de predicciones realizadas por el modelo.\n",
        "#Este modelo clasifica correctamente aproximadamente el 98,52% de todas las instancias.\n",
        "\n",
        "\n",
        "#Para la clase positiva el modelo muestra un alto nivel de precisión (0.98) y un recall perfecto (1.00), lo que significa que es excelente en la clasificación de esta clase.\n",
        "#El F1-score de 0.99 indica un rendimiento casi perfecto.\n",
        "\n",
        "#Para la clase negativa el modelo tiene una precisión perfecta (1.00) y un recall muy alto (0.91), lo que indica que es muy bueno en la clasificación de esta clase.\n",
        "#El F1-score de 0.95 también indica un rendimiento muy alto.\n",
        "\n",
        "#En la matrix de confusion podemos analizar el rendimiento del modelo como podemos observar que no hay  pocos falsos positivos, y una poca cantidad de falsos negativos siendo estos (13)\n",
        "#En este contexto, al no tener falsos positivos no habria riesgo de predecir incorrectamente que un empleados se ira cuando realmente no lo hara.\n",
        "#Pero tener falsos positivos puede llevar a la adopción de acciones innecesarias, como la implementación de estrategias de retención para empleados que no tenían la intención de retirarse.\n",
        "#Esto puede generar costos adicionales y recursos mal asignados.\n",
        "#Un falso negativo se produce cuando el modelo no identifica a un empleado que finalmente se retira de la empresa.\n",
        "#Tener falsos negativos en este caso es más problemático. Si el modelo no puede detectar a empleados que se retirarán,\n",
        "#la empresa podría perder la oportunidad de implementar estrategias de retención a tiempo, lo que resultaría en una tasa de retiro más alta de lo deseado.\n",
        "\n",
        "\n",
        "#En general, las métricas indican que el modelo tiene un muy buen rendimiento en la clasificación de ambas clases, con altos valores de precisión, recall y F1-score.\n",
        "#La precisión es especialmente buena, ya que indica que el modelo realiza muy pocas predicciones incorrectas en ambas clases.\n",
        "#En el caso de este modelo podriamos pensar en sobreajuste por lo que habria que hacerle manejo a ese sobreajuste.\n"
      ]
    },
    {
      "cell_type": "markdown",
      "metadata": {
        "id": "PjmzEMvAUU1B"
      },
      "source": [
        "##Modelo seleccionado ARBOL DE DECISION"
      ]
    },
    {
      "cell_type": "markdown",
      "metadata": {
        "id": "EA527n1oIf8F"
      },
      "source": [
        "## Seleccion de variables"
      ]
    },
    {
      "cell_type": "code",
      "execution_count": null,
      "metadata": {
        "id": "qdgp4IziU2gU"
      },
      "outputs": [],
      "source": [
        "treedf =tree.DecisionTreeClassifier(random_state=0)\n",
        "treedf.fit(X_train_std_df, y_train)\n",
        "treedfpred=treedf.predict(X_test_std_df)"
      ]
    },
    {
      "cell_type": "code",
      "execution_count": null,
      "metadata": {
        "id": "U6Lcl5u0IdqV",
        "colab": {
          "base_uri": "https://localhost:8080/",
          "height": 351
        },
        "outputId": "add54b20-8cf4-401e-e17a-5c5567fd1b1f"
      },
      "outputs": [
        {
          "output_type": "stream",
          "name": "stdout",
          "text": [
            "[-0.         -0.         -0.         -0.         -0.         -0.\n",
            "  0.          0.         -0.         -0.01045313 -0.         -0.\n",
            " -0.         -0.00200445 -0.         -0.         -0.         -0.\n",
            "  0.         -0.          0.         -0.          0.         -0.\n",
            " -0.          0.          0.         -0.          0.         -0.\n",
            " -0.         -0.          0.         -0.         -0.          0.\n",
            " -0.         -0.          0.          0.          0.         -0.\n",
            " -0.         -0.          0.01347924]\n"
          ]
        },
        {
          "output_type": "execute_result",
          "data": {
            "text/plain": [
              "   TotalWorkingYears  YearsWithCurrManager  MaritalStatus_Single\n",
              "0                  1                     0                     0\n",
              "1                  6                     4                     1\n",
              "2                  5                     3                     0\n",
              "3                 13                     5                     0\n",
              "4                  9                     4                     1"
            ],
            "text/html": [
              "\n",
              "  <div id=\"df-661d0b17-d8ee-4cfc-8cdc-2750e49c2c04\" class=\"colab-df-container\">\n",
              "    <div>\n",
              "<style scoped>\n",
              "    .dataframe tbody tr th:only-of-type {\n",
              "        vertical-align: middle;\n",
              "    }\n",
              "\n",
              "    .dataframe tbody tr th {\n",
              "        vertical-align: top;\n",
              "    }\n",
              "\n",
              "    .dataframe thead th {\n",
              "        text-align: right;\n",
              "    }\n",
              "</style>\n",
              "<table border=\"1\" class=\"dataframe\">\n",
              "  <thead>\n",
              "    <tr style=\"text-align: right;\">\n",
              "      <th></th>\n",
              "      <th>TotalWorkingYears</th>\n",
              "      <th>YearsWithCurrManager</th>\n",
              "      <th>MaritalStatus_Single</th>\n",
              "    </tr>\n",
              "  </thead>\n",
              "  <tbody>\n",
              "    <tr>\n",
              "      <th>0</th>\n",
              "      <td>1</td>\n",
              "      <td>0</td>\n",
              "      <td>0</td>\n",
              "    </tr>\n",
              "    <tr>\n",
              "      <th>1</th>\n",
              "      <td>6</td>\n",
              "      <td>4</td>\n",
              "      <td>1</td>\n",
              "    </tr>\n",
              "    <tr>\n",
              "      <th>2</th>\n",
              "      <td>5</td>\n",
              "      <td>3</td>\n",
              "      <td>0</td>\n",
              "    </tr>\n",
              "    <tr>\n",
              "      <th>3</th>\n",
              "      <td>13</td>\n",
              "      <td>5</td>\n",
              "      <td>0</td>\n",
              "    </tr>\n",
              "    <tr>\n",
              "      <th>4</th>\n",
              "      <td>9</td>\n",
              "      <td>4</td>\n",
              "      <td>1</td>\n",
              "    </tr>\n",
              "  </tbody>\n",
              "</table>\n",
              "</div>\n",
              "    <div class=\"colab-df-buttons\">\n",
              "\n",
              "  <div class=\"colab-df-container\">\n",
              "    <button class=\"colab-df-convert\" onclick=\"convertToInteractive('df-661d0b17-d8ee-4cfc-8cdc-2750e49c2c04')\"\n",
              "            title=\"Convert this dataframe to an interactive table.\"\n",
              "            style=\"display:none;\">\n",
              "\n",
              "  <svg xmlns=\"http://www.w3.org/2000/svg\" height=\"24px\" viewBox=\"0 -960 960 960\">\n",
              "    <path d=\"M120-120v-720h720v720H120Zm60-500h600v-160H180v160Zm220 220h160v-160H400v160Zm0 220h160v-160H400v160ZM180-400h160v-160H180v160Zm440 0h160v-160H620v160ZM180-180h160v-160H180v160Zm440 0h160v-160H620v160Z\"/>\n",
              "  </svg>\n",
              "    </button>\n",
              "\n",
              "  <style>\n",
              "    .colab-df-container {\n",
              "      display:flex;\n",
              "      gap: 12px;\n",
              "    }\n",
              "\n",
              "    .colab-df-convert {\n",
              "      background-color: #E8F0FE;\n",
              "      border: none;\n",
              "      border-radius: 50%;\n",
              "      cursor: pointer;\n",
              "      display: none;\n",
              "      fill: #1967D2;\n",
              "      height: 32px;\n",
              "      padding: 0 0 0 0;\n",
              "      width: 32px;\n",
              "    }\n",
              "\n",
              "    .colab-df-convert:hover {\n",
              "      background-color: #E2EBFA;\n",
              "      box-shadow: 0px 1px 2px rgba(60, 64, 67, 0.3), 0px 1px 3px 1px rgba(60, 64, 67, 0.15);\n",
              "      fill: #174EA6;\n",
              "    }\n",
              "\n",
              "    .colab-df-buttons div {\n",
              "      margin-bottom: 4px;\n",
              "    }\n",
              "\n",
              "    [theme=dark] .colab-df-convert {\n",
              "      background-color: #3B4455;\n",
              "      fill: #D2E3FC;\n",
              "    }\n",
              "\n",
              "    [theme=dark] .colab-df-convert:hover {\n",
              "      background-color: #434B5C;\n",
              "      box-shadow: 0px 1px 3px 1px rgba(0, 0, 0, 0.15);\n",
              "      filter: drop-shadow(0px 1px 2px rgba(0, 0, 0, 0.3));\n",
              "      fill: #FFFFFF;\n",
              "    }\n",
              "  </style>\n",
              "\n",
              "    <script>\n",
              "      const buttonEl =\n",
              "        document.querySelector('#df-661d0b17-d8ee-4cfc-8cdc-2750e49c2c04 button.colab-df-convert');\n",
              "      buttonEl.style.display =\n",
              "        google.colab.kernel.accessAllowed ? 'block' : 'none';\n",
              "\n",
              "      async function convertToInteractive(key) {\n",
              "        const element = document.querySelector('#df-661d0b17-d8ee-4cfc-8cdc-2750e49c2c04');\n",
              "        const dataTable =\n",
              "          await google.colab.kernel.invokeFunction('convertToInteractive',\n",
              "                                                    [key], {});\n",
              "        if (!dataTable) return;\n",
              "\n",
              "        const docLinkHtml = 'Like what you see? Visit the ' +\n",
              "          '<a target=\"_blank\" href=https://colab.research.google.com/notebooks/data_table.ipynb>data table notebook</a>'\n",
              "          + ' to learn more about interactive tables.';\n",
              "        element.innerHTML = '';\n",
              "        dataTable['output_type'] = 'display_data';\n",
              "        await google.colab.output.renderOutput(dataTable, element);\n",
              "        const docLink = document.createElement('div');\n",
              "        docLink.innerHTML = docLinkHtml;\n",
              "        element.appendChild(docLink);\n",
              "      }\n",
              "    </script>\n",
              "  </div>\n",
              "\n",
              "\n",
              "<div id=\"df-71f14741-7b9f-41db-871d-5e2ab0ecec2c\">\n",
              "  <button class=\"colab-df-quickchart\" onclick=\"quickchart('df-71f14741-7b9f-41db-871d-5e2ab0ecec2c')\"\n",
              "            title=\"Suggest charts.\"\n",
              "            style=\"display:none;\">\n",
              "\n",
              "<svg xmlns=\"http://www.w3.org/2000/svg\" height=\"24px\"viewBox=\"0 0 24 24\"\n",
              "     width=\"24px\">\n",
              "    <g>\n",
              "        <path d=\"M19 3H5c-1.1 0-2 .9-2 2v14c0 1.1.9 2 2 2h14c1.1 0 2-.9 2-2V5c0-1.1-.9-2-2-2zM9 17H7v-7h2v7zm4 0h-2V7h2v10zm4 0h-2v-4h2v4z\"/>\n",
              "    </g>\n",
              "</svg>\n",
              "  </button>\n",
              "\n",
              "<style>\n",
              "  .colab-df-quickchart {\n",
              "      --bg-color: #E8F0FE;\n",
              "      --fill-color: #1967D2;\n",
              "      --hover-bg-color: #E2EBFA;\n",
              "      --hover-fill-color: #174EA6;\n",
              "      --disabled-fill-color: #AAA;\n",
              "      --disabled-bg-color: #DDD;\n",
              "  }\n",
              "\n",
              "  [theme=dark] .colab-df-quickchart {\n",
              "      --bg-color: #3B4455;\n",
              "      --fill-color: #D2E3FC;\n",
              "      --hover-bg-color: #434B5C;\n",
              "      --hover-fill-color: #FFFFFF;\n",
              "      --disabled-bg-color: #3B4455;\n",
              "      --disabled-fill-color: #666;\n",
              "  }\n",
              "\n",
              "  .colab-df-quickchart {\n",
              "    background-color: var(--bg-color);\n",
              "    border: none;\n",
              "    border-radius: 50%;\n",
              "    cursor: pointer;\n",
              "    display: none;\n",
              "    fill: var(--fill-color);\n",
              "    height: 32px;\n",
              "    padding: 0;\n",
              "    width: 32px;\n",
              "  }\n",
              "\n",
              "  .colab-df-quickchart:hover {\n",
              "    background-color: var(--hover-bg-color);\n",
              "    box-shadow: 0 1px 2px rgba(60, 64, 67, 0.3), 0 1px 3px 1px rgba(60, 64, 67, 0.15);\n",
              "    fill: var(--button-hover-fill-color);\n",
              "  }\n",
              "\n",
              "  .colab-df-quickchart-complete:disabled,\n",
              "  .colab-df-quickchart-complete:disabled:hover {\n",
              "    background-color: var(--disabled-bg-color);\n",
              "    fill: var(--disabled-fill-color);\n",
              "    box-shadow: none;\n",
              "  }\n",
              "\n",
              "  .colab-df-spinner {\n",
              "    border: 2px solid var(--fill-color);\n",
              "    border-color: transparent;\n",
              "    border-bottom-color: var(--fill-color);\n",
              "    animation:\n",
              "      spin 1s steps(1) infinite;\n",
              "  }\n",
              "\n",
              "  @keyframes spin {\n",
              "    0% {\n",
              "      border-color: transparent;\n",
              "      border-bottom-color: var(--fill-color);\n",
              "      border-left-color: var(--fill-color);\n",
              "    }\n",
              "    20% {\n",
              "      border-color: transparent;\n",
              "      border-left-color: var(--fill-color);\n",
              "      border-top-color: var(--fill-color);\n",
              "    }\n",
              "    30% {\n",
              "      border-color: transparent;\n",
              "      border-left-color: var(--fill-color);\n",
              "      border-top-color: var(--fill-color);\n",
              "      border-right-color: var(--fill-color);\n",
              "    }\n",
              "    40% {\n",
              "      border-color: transparent;\n",
              "      border-right-color: var(--fill-color);\n",
              "      border-top-color: var(--fill-color);\n",
              "    }\n",
              "    60% {\n",
              "      border-color: transparent;\n",
              "      border-right-color: var(--fill-color);\n",
              "    }\n",
              "    80% {\n",
              "      border-color: transparent;\n",
              "      border-right-color: var(--fill-color);\n",
              "      border-bottom-color: var(--fill-color);\n",
              "    }\n",
              "    90% {\n",
              "      border-color: transparent;\n",
              "      border-bottom-color: var(--fill-color);\n",
              "    }\n",
              "  }\n",
              "</style>\n",
              "\n",
              "  <script>\n",
              "    async function quickchart(key) {\n",
              "      const quickchartButtonEl =\n",
              "        document.querySelector('#' + key + ' button');\n",
              "      quickchartButtonEl.disabled = true;  // To prevent multiple clicks.\n",
              "      quickchartButtonEl.classList.add('colab-df-spinner');\n",
              "      try {\n",
              "        const charts = await google.colab.kernel.invokeFunction(\n",
              "            'suggestCharts', [key], {});\n",
              "      } catch (error) {\n",
              "        console.error('Error during call to suggestCharts:', error);\n",
              "      }\n",
              "      quickchartButtonEl.classList.remove('colab-df-spinner');\n",
              "      quickchartButtonEl.classList.add('colab-df-quickchart-complete');\n",
              "    }\n",
              "    (() => {\n",
              "      let quickchartButtonEl =\n",
              "        document.querySelector('#df-71f14741-7b9f-41db-871d-5e2ab0ecec2c button');\n",
              "      quickchartButtonEl.style.display =\n",
              "        google.colab.kernel.accessAllowed ? 'block' : 'none';\n",
              "    })();\n",
              "  </script>\n",
              "</div>\n",
              "    </div>\n",
              "  </div>\n"
            ]
          },
          "metadata": {},
          "execution_count": 147
        }
      ],
      "source": [
        "from sklearn.feature_selection import SelectFromModel\n",
        "from sklearn.linear_model import Lasso\n",
        "from sklearn.preprocessing import StandardScaler\n",
        "\n",
        "# Estandarizar los datos\n",
        "standard_scaler = StandardScaler()\n",
        "X_std = standard_scaler.fit_transform(X)\n",
        "\n",
        "# Selector de variables con Lasso\n",
        "sel_ = SelectFromModel(Lasso(alpha=0.05), max_features=35)\n",
        "sel_.fit(X_std, y)\n",
        "print(sel_.estimator_.coef_)\n",
        "#Obtener variables seleccionadas\n",
        "X_new = sel_.get_support()\n",
        "\n",
        "df_new = X.iloc[:,X_new]\n",
        "df_new.head()"
      ]
    },
    {
      "cell_type": "code",
      "execution_count": null,
      "metadata": {
        "id": "jhRpRYyBbgUQ",
        "colab": {
          "base_uri": "https://localhost:8080/",
          "height": 300
        },
        "outputId": "3b73b60b-be00-4c67-f102-9a0f2bfbaba0"
      },
      "outputs": [
        {
          "output_type": "execute_result",
          "data": {
            "text/plain": [
              "   Número de iteración     Train accuracy       Test accuracy\n",
              "0                   10  99.97165532879818  98.86621315192744%\n",
              "1                   15              100.0  99.09297052154194%\n",
              "2                   20              100.0  99.43310657596372%\n",
              "3                   25              100.0  98.63945578231292%\n",
              "4                   30              100.0  98.75283446712018%\n",
              "5                   35              100.0   98.4126984126984%\n",
              "6                   40              100.0   98.4126984126984%\n",
              "7                   45              100.0  97.95918367346938%"
            ],
            "text/html": [
              "\n",
              "  <div id=\"df-63daec91-2e1a-4898-ac1b-8ca206a802ef\" class=\"colab-df-container\">\n",
              "    <div>\n",
              "<style scoped>\n",
              "    .dataframe tbody tr th:only-of-type {\n",
              "        vertical-align: middle;\n",
              "    }\n",
              "\n",
              "    .dataframe tbody tr th {\n",
              "        vertical-align: top;\n",
              "    }\n",
              "\n",
              "    .dataframe thead th {\n",
              "        text-align: right;\n",
              "    }\n",
              "</style>\n",
              "<table border=\"1\" class=\"dataframe\">\n",
              "  <thead>\n",
              "    <tr style=\"text-align: right;\">\n",
              "      <th></th>\n",
              "      <th>Número de iteración</th>\n",
              "      <th>Train accuracy</th>\n",
              "      <th>Test accuracy</th>\n",
              "    </tr>\n",
              "  </thead>\n",
              "  <tbody>\n",
              "    <tr>\n",
              "      <th>0</th>\n",
              "      <td>10</td>\n",
              "      <td>99.97165532879818</td>\n",
              "      <td>98.86621315192744%</td>\n",
              "    </tr>\n",
              "    <tr>\n",
              "      <th>1</th>\n",
              "      <td>15</td>\n",
              "      <td>100.0</td>\n",
              "      <td>99.09297052154194%</td>\n",
              "    </tr>\n",
              "    <tr>\n",
              "      <th>2</th>\n",
              "      <td>20</td>\n",
              "      <td>100.0</td>\n",
              "      <td>99.43310657596372%</td>\n",
              "    </tr>\n",
              "    <tr>\n",
              "      <th>3</th>\n",
              "      <td>25</td>\n",
              "      <td>100.0</td>\n",
              "      <td>98.63945578231292%</td>\n",
              "    </tr>\n",
              "    <tr>\n",
              "      <th>4</th>\n",
              "      <td>30</td>\n",
              "      <td>100.0</td>\n",
              "      <td>98.75283446712018%</td>\n",
              "    </tr>\n",
              "    <tr>\n",
              "      <th>5</th>\n",
              "      <td>35</td>\n",
              "      <td>100.0</td>\n",
              "      <td>98.4126984126984%</td>\n",
              "    </tr>\n",
              "    <tr>\n",
              "      <th>6</th>\n",
              "      <td>40</td>\n",
              "      <td>100.0</td>\n",
              "      <td>98.4126984126984%</td>\n",
              "    </tr>\n",
              "    <tr>\n",
              "      <th>7</th>\n",
              "      <td>45</td>\n",
              "      <td>100.0</td>\n",
              "      <td>97.95918367346938%</td>\n",
              "    </tr>\n",
              "  </tbody>\n",
              "</table>\n",
              "</div>\n",
              "    <div class=\"colab-df-buttons\">\n",
              "\n",
              "  <div class=\"colab-df-container\">\n",
              "    <button class=\"colab-df-convert\" onclick=\"convertToInteractive('df-63daec91-2e1a-4898-ac1b-8ca206a802ef')\"\n",
              "            title=\"Convert this dataframe to an interactive table.\"\n",
              "            style=\"display:none;\">\n",
              "\n",
              "  <svg xmlns=\"http://www.w3.org/2000/svg\" height=\"24px\" viewBox=\"0 -960 960 960\">\n",
              "    <path d=\"M120-120v-720h720v720H120Zm60-500h600v-160H180v160Zm220 220h160v-160H400v160Zm0 220h160v-160H400v160ZM180-400h160v-160H180v160Zm440 0h160v-160H620v160ZM180-180h160v-160H180v160Zm440 0h160v-160H620v160Z\"/>\n",
              "  </svg>\n",
              "    </button>\n",
              "\n",
              "  <style>\n",
              "    .colab-df-container {\n",
              "      display:flex;\n",
              "      gap: 12px;\n",
              "    }\n",
              "\n",
              "    .colab-df-convert {\n",
              "      background-color: #E8F0FE;\n",
              "      border: none;\n",
              "      border-radius: 50%;\n",
              "      cursor: pointer;\n",
              "      display: none;\n",
              "      fill: #1967D2;\n",
              "      height: 32px;\n",
              "      padding: 0 0 0 0;\n",
              "      width: 32px;\n",
              "    }\n",
              "\n",
              "    .colab-df-convert:hover {\n",
              "      background-color: #E2EBFA;\n",
              "      box-shadow: 0px 1px 2px rgba(60, 64, 67, 0.3), 0px 1px 3px 1px rgba(60, 64, 67, 0.15);\n",
              "      fill: #174EA6;\n",
              "    }\n",
              "\n",
              "    .colab-df-buttons div {\n",
              "      margin-bottom: 4px;\n",
              "    }\n",
              "\n",
              "    [theme=dark] .colab-df-convert {\n",
              "      background-color: #3B4455;\n",
              "      fill: #D2E3FC;\n",
              "    }\n",
              "\n",
              "    [theme=dark] .colab-df-convert:hover {\n",
              "      background-color: #434B5C;\n",
              "      box-shadow: 0px 1px 3px 1px rgba(0, 0, 0, 0.15);\n",
              "      filter: drop-shadow(0px 1px 2px rgba(0, 0, 0, 0.3));\n",
              "      fill: #FFFFFF;\n",
              "    }\n",
              "  </style>\n",
              "\n",
              "    <script>\n",
              "      const buttonEl =\n",
              "        document.querySelector('#df-63daec91-2e1a-4898-ac1b-8ca206a802ef button.colab-df-convert');\n",
              "      buttonEl.style.display =\n",
              "        google.colab.kernel.accessAllowed ? 'block' : 'none';\n",
              "\n",
              "      async function convertToInteractive(key) {\n",
              "        const element = document.querySelector('#df-63daec91-2e1a-4898-ac1b-8ca206a802ef');\n",
              "        const dataTable =\n",
              "          await google.colab.kernel.invokeFunction('convertToInteractive',\n",
              "                                                    [key], {});\n",
              "        if (!dataTable) return;\n",
              "\n",
              "        const docLinkHtml = 'Like what you see? Visit the ' +\n",
              "          '<a target=\"_blank\" href=https://colab.research.google.com/notebooks/data_table.ipynb>data table notebook</a>'\n",
              "          + ' to learn more about interactive tables.';\n",
              "        element.innerHTML = '';\n",
              "        dataTable['output_type'] = 'display_data';\n",
              "        await google.colab.output.renderOutput(dataTable, element);\n",
              "        const docLink = document.createElement('div');\n",
              "        docLink.innerHTML = docLinkHtml;\n",
              "        element.appendChild(docLink);\n",
              "      }\n",
              "    </script>\n",
              "  </div>\n",
              "\n",
              "\n",
              "<div id=\"df-4486ece7-cb8e-468e-9b4e-28bf85fbe4f9\">\n",
              "  <button class=\"colab-df-quickchart\" onclick=\"quickchart('df-4486ece7-cb8e-468e-9b4e-28bf85fbe4f9')\"\n",
              "            title=\"Suggest charts.\"\n",
              "            style=\"display:none;\">\n",
              "\n",
              "<svg xmlns=\"http://www.w3.org/2000/svg\" height=\"24px\"viewBox=\"0 0 24 24\"\n",
              "     width=\"24px\">\n",
              "    <g>\n",
              "        <path d=\"M19 3H5c-1.1 0-2 .9-2 2v14c0 1.1.9 2 2 2h14c1.1 0 2-.9 2-2V5c0-1.1-.9-2-2-2zM9 17H7v-7h2v7zm4 0h-2V7h2v10zm4 0h-2v-4h2v4z\"/>\n",
              "    </g>\n",
              "</svg>\n",
              "  </button>\n",
              "\n",
              "<style>\n",
              "  .colab-df-quickchart {\n",
              "      --bg-color: #E8F0FE;\n",
              "      --fill-color: #1967D2;\n",
              "      --hover-bg-color: #E2EBFA;\n",
              "      --hover-fill-color: #174EA6;\n",
              "      --disabled-fill-color: #AAA;\n",
              "      --disabled-bg-color: #DDD;\n",
              "  }\n",
              "\n",
              "  [theme=dark] .colab-df-quickchart {\n",
              "      --bg-color: #3B4455;\n",
              "      --fill-color: #D2E3FC;\n",
              "      --hover-bg-color: #434B5C;\n",
              "      --hover-fill-color: #FFFFFF;\n",
              "      --disabled-bg-color: #3B4455;\n",
              "      --disabled-fill-color: #666;\n",
              "  }\n",
              "\n",
              "  .colab-df-quickchart {\n",
              "    background-color: var(--bg-color);\n",
              "    border: none;\n",
              "    border-radius: 50%;\n",
              "    cursor: pointer;\n",
              "    display: none;\n",
              "    fill: var(--fill-color);\n",
              "    height: 32px;\n",
              "    padding: 0;\n",
              "    width: 32px;\n",
              "  }\n",
              "\n",
              "  .colab-df-quickchart:hover {\n",
              "    background-color: var(--hover-bg-color);\n",
              "    box-shadow: 0 1px 2px rgba(60, 64, 67, 0.3), 0 1px 3px 1px rgba(60, 64, 67, 0.15);\n",
              "    fill: var(--button-hover-fill-color);\n",
              "  }\n",
              "\n",
              "  .colab-df-quickchart-complete:disabled,\n",
              "  .colab-df-quickchart-complete:disabled:hover {\n",
              "    background-color: var(--disabled-bg-color);\n",
              "    fill: var(--disabled-fill-color);\n",
              "    box-shadow: none;\n",
              "  }\n",
              "\n",
              "  .colab-df-spinner {\n",
              "    border: 2px solid var(--fill-color);\n",
              "    border-color: transparent;\n",
              "    border-bottom-color: var(--fill-color);\n",
              "    animation:\n",
              "      spin 1s steps(1) infinite;\n",
              "  }\n",
              "\n",
              "  @keyframes spin {\n",
              "    0% {\n",
              "      border-color: transparent;\n",
              "      border-bottom-color: var(--fill-color);\n",
              "      border-left-color: var(--fill-color);\n",
              "    }\n",
              "    20% {\n",
              "      border-color: transparent;\n",
              "      border-left-color: var(--fill-color);\n",
              "      border-top-color: var(--fill-color);\n",
              "    }\n",
              "    30% {\n",
              "      border-color: transparent;\n",
              "      border-left-color: var(--fill-color);\n",
              "      border-top-color: var(--fill-color);\n",
              "      border-right-color: var(--fill-color);\n",
              "    }\n",
              "    40% {\n",
              "      border-color: transparent;\n",
              "      border-right-color: var(--fill-color);\n",
              "      border-top-color: var(--fill-color);\n",
              "    }\n",
              "    60% {\n",
              "      border-color: transparent;\n",
              "      border-right-color: var(--fill-color);\n",
              "    }\n",
              "    80% {\n",
              "      border-color: transparent;\n",
              "      border-right-color: var(--fill-color);\n",
              "      border-bottom-color: var(--fill-color);\n",
              "    }\n",
              "    90% {\n",
              "      border-color: transparent;\n",
              "      border-bottom-color: var(--fill-color);\n",
              "    }\n",
              "  }\n",
              "</style>\n",
              "\n",
              "  <script>\n",
              "    async function quickchart(key) {\n",
              "      const quickchartButtonEl =\n",
              "        document.querySelector('#' + key + ' button');\n",
              "      quickchartButtonEl.disabled = true;  // To prevent multiple clicks.\n",
              "      quickchartButtonEl.classList.add('colab-df-spinner');\n",
              "      try {\n",
              "        const charts = await google.colab.kernel.invokeFunction(\n",
              "            'suggestCharts', [key], {});\n",
              "      } catch (error) {\n",
              "        console.error('Error during call to suggestCharts:', error);\n",
              "      }\n",
              "      quickchartButtonEl.classList.remove('colab-df-spinner');\n",
              "      quickchartButtonEl.classList.add('colab-df-quickchart-complete');\n",
              "    }\n",
              "    (() => {\n",
              "      let quickchartButtonEl =\n",
              "        document.querySelector('#df-4486ece7-cb8e-468e-9b4e-28bf85fbe4f9 button');\n",
              "      quickchartButtonEl.style.display =\n",
              "        google.colab.kernel.accessAllowed ? 'block' : 'none';\n",
              "    })();\n",
              "  </script>\n",
              "</div>\n",
              "    </div>\n",
              "  </div>\n"
            ]
          },
          "metadata": {},
          "execution_count": 149
        }
      ],
      "source": [
        "# Crear una lista para almacenar los resultados\n",
        "resultados = []\n",
        "\n",
        "# Iterar el número de 25 en 5 en 5\n",
        "for k in range(10, 46, 5):\n",
        "    X_new = funciones.select_kbest(X, y, f_classif, k)\n",
        "    df_new = X.iloc[:, X_new]\n",
        "    columnas_T = df_new.columns.tolist()\n",
        "        #vamos a relizar un modelo\n",
        "\n",
        "    treedf= tree.DecisionTreeClassifier(random_state=0)\n",
        "    treedf.fit(X_train_std_df.loc[:,columnas_T], y_train)\n",
        "    treedfpred=treedf.predict(X_test_std_df.loc[:,columnas_T])\n",
        "    #Exactitud de modelo\n",
        "    #Predicciones sobre el conjunto de test\n",
        "    y_hat = treedf.predict(X_test_std_df.loc[:,columnas_T])\n",
        "    # Crear un diccionario con los resultados y el número de iteración\n",
        "    resultado_actual = {\n",
        "        'Número de iteración': k,\n",
        "        'Train accuracy': str(treedf.score(X_train_std_df.loc[:,columnas_T],y_train)*100),\n",
        "        'Test accuracy': str(treedf.score(X_test_std_df.loc[:,columnas_T],y_test)*100) + \"%\",\n",
        "    }\n",
        "\n",
        "    resultados.append(resultado_actual)\n",
        "\n",
        "# Crear un DataFrame a partir de la lista de resultados\n",
        "df_resultados = pd.DataFrame(resultados)\n",
        "\n",
        "# Mostrar el DataFrame de resultados\n",
        "df_resultados"
      ]
    },
    {
      "cell_type": "code",
      "execution_count": null,
      "metadata": {
        "id": "5q8kMTDDJLAf",
        "colab": {
          "base_uri": "https://localhost:8080/",
          "height": 243
        },
        "outputId": "ed12645e-2440-4e87-d9a8-5f83e40a2303"
      },
      "outputs": [
        {
          "output_type": "execute_result",
          "data": {
            "text/plain": [
              "   Age  NumCompaniesWorked  TotalWorkingYears  TrainingTimesLastYear  \\\n",
              "0   51                   1                  1                      6   \n",
              "1   31                   0                  6                      3   \n",
              "2   32                   1                  5                      2   \n",
              "3   38                   3                 13                      5   \n",
              "4   32                   4                  9                      2   \n",
              "\n",
              "   YearsAtCompany  YearsWithCurrManager  EnvironmentSatisfaction  \\\n",
              "0               1                     0                        3   \n",
              "1               5                     4                        3   \n",
              "2               5                     3                        2   \n",
              "3               8                     5                        4   \n",
              "4               6                     4                        4   \n",
              "\n",
              "   JobSatisfaction  WorkLifeBalance  BusinessTravel_Non-Travel  \\\n",
              "0                4                2                          0   \n",
              "1                2                4                          0   \n",
              "2                2                1                          0   \n",
              "3                4                3                          1   \n",
              "4                1                3                          0   \n",
              "\n",
              "   BusinessTravel_Travel_Frequently  BusinessTravel_Travel_Rarely  \\\n",
              "0                                 0                             1   \n",
              "1                                 1                             0   \n",
              "2                                 1                             0   \n",
              "3                                 0                             0   \n",
              "4                                 0                             1   \n",
              "\n",
              "   Department_Human Resources  EducationField_Human Resources  \\\n",
              "0                           0                               0   \n",
              "1                           0                               0   \n",
              "2                           0                               0   \n",
              "3                           0                               0   \n",
              "4                           0                               0   \n",
              "\n",
              "   EducationField_Technical Degree  JobRole_Manufacturing Director  \\\n",
              "0                                0                               0   \n",
              "1                                0                               0   \n",
              "2                                0                               0   \n",
              "3                                0                               0   \n",
              "4                                0                               0   \n",
              "\n",
              "   JobRole_Research Director  MaritalStatus_Divorced  MaritalStatus_Married  \\\n",
              "0                          0                       0                      1   \n",
              "1                          0                       0                      0   \n",
              "2                          0                       0                      1   \n",
              "3                          0                       0                      1   \n",
              "4                          0                       0                      0   \n",
              "\n",
              "   MaritalStatus_Single  \n",
              "0                     0  \n",
              "1                     1  \n",
              "2                     0  \n",
              "3                     0  \n",
              "4                     1  "
            ],
            "text/html": [
              "\n",
              "  <div id=\"df-06193b80-39e7-4443-a2cf-4e5f955069b6\" class=\"colab-df-container\">\n",
              "    <div>\n",
              "<style scoped>\n",
              "    .dataframe tbody tr th:only-of-type {\n",
              "        vertical-align: middle;\n",
              "    }\n",
              "\n",
              "    .dataframe tbody tr th {\n",
              "        vertical-align: top;\n",
              "    }\n",
              "\n",
              "    .dataframe thead th {\n",
              "        text-align: right;\n",
              "    }\n",
              "</style>\n",
              "<table border=\"1\" class=\"dataframe\">\n",
              "  <thead>\n",
              "    <tr style=\"text-align: right;\">\n",
              "      <th></th>\n",
              "      <th>Age</th>\n",
              "      <th>NumCompaniesWorked</th>\n",
              "      <th>TotalWorkingYears</th>\n",
              "      <th>TrainingTimesLastYear</th>\n",
              "      <th>YearsAtCompany</th>\n",
              "      <th>YearsWithCurrManager</th>\n",
              "      <th>EnvironmentSatisfaction</th>\n",
              "      <th>JobSatisfaction</th>\n",
              "      <th>WorkLifeBalance</th>\n",
              "      <th>BusinessTravel_Non-Travel</th>\n",
              "      <th>BusinessTravel_Travel_Frequently</th>\n",
              "      <th>BusinessTravel_Travel_Rarely</th>\n",
              "      <th>Department_Human Resources</th>\n",
              "      <th>EducationField_Human Resources</th>\n",
              "      <th>EducationField_Technical Degree</th>\n",
              "      <th>JobRole_Manufacturing Director</th>\n",
              "      <th>JobRole_Research Director</th>\n",
              "      <th>MaritalStatus_Divorced</th>\n",
              "      <th>MaritalStatus_Married</th>\n",
              "      <th>MaritalStatus_Single</th>\n",
              "    </tr>\n",
              "  </thead>\n",
              "  <tbody>\n",
              "    <tr>\n",
              "      <th>0</th>\n",
              "      <td>51</td>\n",
              "      <td>1</td>\n",
              "      <td>1</td>\n",
              "      <td>6</td>\n",
              "      <td>1</td>\n",
              "      <td>0</td>\n",
              "      <td>3</td>\n",
              "      <td>4</td>\n",
              "      <td>2</td>\n",
              "      <td>0</td>\n",
              "      <td>0</td>\n",
              "      <td>1</td>\n",
              "      <td>0</td>\n",
              "      <td>0</td>\n",
              "      <td>0</td>\n",
              "      <td>0</td>\n",
              "      <td>0</td>\n",
              "      <td>0</td>\n",
              "      <td>1</td>\n",
              "      <td>0</td>\n",
              "    </tr>\n",
              "    <tr>\n",
              "      <th>1</th>\n",
              "      <td>31</td>\n",
              "      <td>0</td>\n",
              "      <td>6</td>\n",
              "      <td>3</td>\n",
              "      <td>5</td>\n",
              "      <td>4</td>\n",
              "      <td>3</td>\n",
              "      <td>2</td>\n",
              "      <td>4</td>\n",
              "      <td>0</td>\n",
              "      <td>1</td>\n",
              "      <td>0</td>\n",
              "      <td>0</td>\n",
              "      <td>0</td>\n",
              "      <td>0</td>\n",
              "      <td>0</td>\n",
              "      <td>0</td>\n",
              "      <td>0</td>\n",
              "      <td>0</td>\n",
              "      <td>1</td>\n",
              "    </tr>\n",
              "    <tr>\n",
              "      <th>2</th>\n",
              "      <td>32</td>\n",
              "      <td>1</td>\n",
              "      <td>5</td>\n",
              "      <td>2</td>\n",
              "      <td>5</td>\n",
              "      <td>3</td>\n",
              "      <td>2</td>\n",
              "      <td>2</td>\n",
              "      <td>1</td>\n",
              "      <td>0</td>\n",
              "      <td>1</td>\n",
              "      <td>0</td>\n",
              "      <td>0</td>\n",
              "      <td>0</td>\n",
              "      <td>0</td>\n",
              "      <td>0</td>\n",
              "      <td>0</td>\n",
              "      <td>0</td>\n",
              "      <td>1</td>\n",
              "      <td>0</td>\n",
              "    </tr>\n",
              "    <tr>\n",
              "      <th>3</th>\n",
              "      <td>38</td>\n",
              "      <td>3</td>\n",
              "      <td>13</td>\n",
              "      <td>5</td>\n",
              "      <td>8</td>\n",
              "      <td>5</td>\n",
              "      <td>4</td>\n",
              "      <td>4</td>\n",
              "      <td>3</td>\n",
              "      <td>1</td>\n",
              "      <td>0</td>\n",
              "      <td>0</td>\n",
              "      <td>0</td>\n",
              "      <td>0</td>\n",
              "      <td>0</td>\n",
              "      <td>0</td>\n",
              "      <td>0</td>\n",
              "      <td>0</td>\n",
              "      <td>1</td>\n",
              "      <td>0</td>\n",
              "    </tr>\n",
              "    <tr>\n",
              "      <th>4</th>\n",
              "      <td>32</td>\n",
              "      <td>4</td>\n",
              "      <td>9</td>\n",
              "      <td>2</td>\n",
              "      <td>6</td>\n",
              "      <td>4</td>\n",
              "      <td>4</td>\n",
              "      <td>1</td>\n",
              "      <td>3</td>\n",
              "      <td>0</td>\n",
              "      <td>0</td>\n",
              "      <td>1</td>\n",
              "      <td>0</td>\n",
              "      <td>0</td>\n",
              "      <td>0</td>\n",
              "      <td>0</td>\n",
              "      <td>0</td>\n",
              "      <td>0</td>\n",
              "      <td>0</td>\n",
              "      <td>1</td>\n",
              "    </tr>\n",
              "  </tbody>\n",
              "</table>\n",
              "</div>\n",
              "    <div class=\"colab-df-buttons\">\n",
              "\n",
              "  <div class=\"colab-df-container\">\n",
              "    <button class=\"colab-df-convert\" onclick=\"convertToInteractive('df-06193b80-39e7-4443-a2cf-4e5f955069b6')\"\n",
              "            title=\"Convert this dataframe to an interactive table.\"\n",
              "            style=\"display:none;\">\n",
              "\n",
              "  <svg xmlns=\"http://www.w3.org/2000/svg\" height=\"24px\" viewBox=\"0 -960 960 960\">\n",
              "    <path d=\"M120-120v-720h720v720H120Zm60-500h600v-160H180v160Zm220 220h160v-160H400v160Zm0 220h160v-160H400v160ZM180-400h160v-160H180v160Zm440 0h160v-160H620v160ZM180-180h160v-160H180v160Zm440 0h160v-160H620v160Z\"/>\n",
              "  </svg>\n",
              "    </button>\n",
              "\n",
              "  <style>\n",
              "    .colab-df-container {\n",
              "      display:flex;\n",
              "      gap: 12px;\n",
              "    }\n",
              "\n",
              "    .colab-df-convert {\n",
              "      background-color: #E8F0FE;\n",
              "      border: none;\n",
              "      border-radius: 50%;\n",
              "      cursor: pointer;\n",
              "      display: none;\n",
              "      fill: #1967D2;\n",
              "      height: 32px;\n",
              "      padding: 0 0 0 0;\n",
              "      width: 32px;\n",
              "    }\n",
              "\n",
              "    .colab-df-convert:hover {\n",
              "      background-color: #E2EBFA;\n",
              "      box-shadow: 0px 1px 2px rgba(60, 64, 67, 0.3), 0px 1px 3px 1px rgba(60, 64, 67, 0.15);\n",
              "      fill: #174EA6;\n",
              "    }\n",
              "\n",
              "    .colab-df-buttons div {\n",
              "      margin-bottom: 4px;\n",
              "    }\n",
              "\n",
              "    [theme=dark] .colab-df-convert {\n",
              "      background-color: #3B4455;\n",
              "      fill: #D2E3FC;\n",
              "    }\n",
              "\n",
              "    [theme=dark] .colab-df-convert:hover {\n",
              "      background-color: #434B5C;\n",
              "      box-shadow: 0px 1px 3px 1px rgba(0, 0, 0, 0.15);\n",
              "      filter: drop-shadow(0px 1px 2px rgba(0, 0, 0, 0.3));\n",
              "      fill: #FFFFFF;\n",
              "    }\n",
              "  </style>\n",
              "\n",
              "    <script>\n",
              "      const buttonEl =\n",
              "        document.querySelector('#df-06193b80-39e7-4443-a2cf-4e5f955069b6 button.colab-df-convert');\n",
              "      buttonEl.style.display =\n",
              "        google.colab.kernel.accessAllowed ? 'block' : 'none';\n",
              "\n",
              "      async function convertToInteractive(key) {\n",
              "        const element = document.querySelector('#df-06193b80-39e7-4443-a2cf-4e5f955069b6');\n",
              "        const dataTable =\n",
              "          await google.colab.kernel.invokeFunction('convertToInteractive',\n",
              "                                                    [key], {});\n",
              "        if (!dataTable) return;\n",
              "\n",
              "        const docLinkHtml = 'Like what you see? Visit the ' +\n",
              "          '<a target=\"_blank\" href=https://colab.research.google.com/notebooks/data_table.ipynb>data table notebook</a>'\n",
              "          + ' to learn more about interactive tables.';\n",
              "        element.innerHTML = '';\n",
              "        dataTable['output_type'] = 'display_data';\n",
              "        await google.colab.output.renderOutput(dataTable, element);\n",
              "        const docLink = document.createElement('div');\n",
              "        docLink.innerHTML = docLinkHtml;\n",
              "        element.appendChild(docLink);\n",
              "      }\n",
              "    </script>\n",
              "  </div>\n",
              "\n",
              "\n",
              "<div id=\"df-32d38734-9b60-4195-b970-2475ae14d7cb\">\n",
              "  <button class=\"colab-df-quickchart\" onclick=\"quickchart('df-32d38734-9b60-4195-b970-2475ae14d7cb')\"\n",
              "            title=\"Suggest charts.\"\n",
              "            style=\"display:none;\">\n",
              "\n",
              "<svg xmlns=\"http://www.w3.org/2000/svg\" height=\"24px\"viewBox=\"0 0 24 24\"\n",
              "     width=\"24px\">\n",
              "    <g>\n",
              "        <path d=\"M19 3H5c-1.1 0-2 .9-2 2v14c0 1.1.9 2 2 2h14c1.1 0 2-.9 2-2V5c0-1.1-.9-2-2-2zM9 17H7v-7h2v7zm4 0h-2V7h2v10zm4 0h-2v-4h2v4z\"/>\n",
              "    </g>\n",
              "</svg>\n",
              "  </button>\n",
              "\n",
              "<style>\n",
              "  .colab-df-quickchart {\n",
              "      --bg-color: #E8F0FE;\n",
              "      --fill-color: #1967D2;\n",
              "      --hover-bg-color: #E2EBFA;\n",
              "      --hover-fill-color: #174EA6;\n",
              "      --disabled-fill-color: #AAA;\n",
              "      --disabled-bg-color: #DDD;\n",
              "  }\n",
              "\n",
              "  [theme=dark] .colab-df-quickchart {\n",
              "      --bg-color: #3B4455;\n",
              "      --fill-color: #D2E3FC;\n",
              "      --hover-bg-color: #434B5C;\n",
              "      --hover-fill-color: #FFFFFF;\n",
              "      --disabled-bg-color: #3B4455;\n",
              "      --disabled-fill-color: #666;\n",
              "  }\n",
              "\n",
              "  .colab-df-quickchart {\n",
              "    background-color: var(--bg-color);\n",
              "    border: none;\n",
              "    border-radius: 50%;\n",
              "    cursor: pointer;\n",
              "    display: none;\n",
              "    fill: var(--fill-color);\n",
              "    height: 32px;\n",
              "    padding: 0;\n",
              "    width: 32px;\n",
              "  }\n",
              "\n",
              "  .colab-df-quickchart:hover {\n",
              "    background-color: var(--hover-bg-color);\n",
              "    box-shadow: 0 1px 2px rgba(60, 64, 67, 0.3), 0 1px 3px 1px rgba(60, 64, 67, 0.15);\n",
              "    fill: var(--button-hover-fill-color);\n",
              "  }\n",
              "\n",
              "  .colab-df-quickchart-complete:disabled,\n",
              "  .colab-df-quickchart-complete:disabled:hover {\n",
              "    background-color: var(--disabled-bg-color);\n",
              "    fill: var(--disabled-fill-color);\n",
              "    box-shadow: none;\n",
              "  }\n",
              "\n",
              "  .colab-df-spinner {\n",
              "    border: 2px solid var(--fill-color);\n",
              "    border-color: transparent;\n",
              "    border-bottom-color: var(--fill-color);\n",
              "    animation:\n",
              "      spin 1s steps(1) infinite;\n",
              "  }\n",
              "\n",
              "  @keyframes spin {\n",
              "    0% {\n",
              "      border-color: transparent;\n",
              "      border-bottom-color: var(--fill-color);\n",
              "      border-left-color: var(--fill-color);\n",
              "    }\n",
              "    20% {\n",
              "      border-color: transparent;\n",
              "      border-left-color: var(--fill-color);\n",
              "      border-top-color: var(--fill-color);\n",
              "    }\n",
              "    30% {\n",
              "      border-color: transparent;\n",
              "      border-left-color: var(--fill-color);\n",
              "      border-top-color: var(--fill-color);\n",
              "      border-right-color: var(--fill-color);\n",
              "    }\n",
              "    40% {\n",
              "      border-color: transparent;\n",
              "      border-right-color: var(--fill-color);\n",
              "      border-top-color: var(--fill-color);\n",
              "    }\n",
              "    60% {\n",
              "      border-color: transparent;\n",
              "      border-right-color: var(--fill-color);\n",
              "    }\n",
              "    80% {\n",
              "      border-color: transparent;\n",
              "      border-right-color: var(--fill-color);\n",
              "      border-bottom-color: var(--fill-color);\n",
              "    }\n",
              "    90% {\n",
              "      border-color: transparent;\n",
              "      border-bottom-color: var(--fill-color);\n",
              "    }\n",
              "  }\n",
              "</style>\n",
              "\n",
              "  <script>\n",
              "    async function quickchart(key) {\n",
              "      const quickchartButtonEl =\n",
              "        document.querySelector('#' + key + ' button');\n",
              "      quickchartButtonEl.disabled = true;  // To prevent multiple clicks.\n",
              "      quickchartButtonEl.classList.add('colab-df-spinner');\n",
              "      try {\n",
              "        const charts = await google.colab.kernel.invokeFunction(\n",
              "            'suggestCharts', [key], {});\n",
              "      } catch (error) {\n",
              "        console.error('Error during call to suggestCharts:', error);\n",
              "      }\n",
              "      quickchartButtonEl.classList.remove('colab-df-spinner');\n",
              "      quickchartButtonEl.classList.add('colab-df-quickchart-complete');\n",
              "    }\n",
              "    (() => {\n",
              "      let quickchartButtonEl =\n",
              "        document.querySelector('#df-32d38734-9b60-4195-b970-2475ae14d7cb button');\n",
              "      quickchartButtonEl.style.display =\n",
              "        google.colab.kernel.accessAllowed ? 'block' : 'none';\n",
              "    })();\n",
              "  </script>\n",
              "</div>\n",
              "    </div>\n",
              "  </div>\n"
            ]
          },
          "metadata": {},
          "execution_count": 151
        }
      ],
      "source": [
        "# Obtener columnas seleciconadas -\n",
        "X_new = funciones.select_kbest(X, y,  f_classif,20) #Se escogio el de 20, porque con al hacer la seleccion de variables, la cantidad de variables que maximiza el test accuracy es 20.\n",
        "# Nuevo conjunto de datos\n",
        "df_new = X.iloc[:,X_new]\n",
        "df_new.head()"
      ]
    },
    {
      "cell_type": "code",
      "execution_count": null,
      "metadata": {
        "id": "_Pm89TfRJNV-"
      },
      "outputs": [],
      "source": [
        "columnas_T = df_new.columns.tolist()"
      ]
    },
    {
      "cell_type": "code",
      "execution_count": null,
      "metadata": {
        "id": "Xaw4RgftKEji"
      },
      "outputs": [],
      "source": [
        "  #como podemos observar los metodos de seleccion de variables nos dan variables muy similares por lo que se usaran las variables que incluyen los dos metodos"
      ]
    },
    {
      "cell_type": "markdown",
      "metadata": {
        "id": "pm5lNT7di_xc"
      },
      "source": [
        "###Arbol de decision"
      ]
    },
    {
      "cell_type": "code",
      "execution_count": null,
      "metadata": {
        "id": "6s1bHqhxqGhf"
      },
      "outputs": [],
      "source": [
        "treedf =tree.DecisionTreeClassifier(random_state=0)\n",
        "treedf.fit(X_train_std_df.loc[:,columnas_T], y_train)\n",
        "treedfpred=treedf.predict(X_test_std_df.loc[:,columnas_T])"
      ]
    },
    {
      "cell_type": "code",
      "execution_count": null,
      "metadata": {
        "id": "Y7DzKxHXpNvb",
        "colab": {
          "base_uri": "https://localhost:8080/"
        },
        "outputId": "90a8ec0f-5c8d-42f1-d5ee-4995e4bb18dd"
      },
      "outputs": [
        {
          "output_type": "stream",
          "name": "stdout",
          "text": [
            "Precision: 1.00\n",
            "Recall: 1.00\n",
            "F1-score: 1.00\n"
          ]
        }
      ],
      "source": [
        "from sklearn.metrics import precision_score, recall_score, f1_score, confusion_matrix\n",
        "\n",
        "# Extraccion de elementos de la matriz\n",
        "tn, fp, fn, tp = cm1.ravel()\n",
        "precision_tr = precision_score(y_train, treedf.predict(X_train_std_df.loc[:,columnas_T]))\n",
        "recall_tr = recall_score(y_train, treedf.predict(X_train_std_df.loc[:,columnas_T]))\n",
        "f1score_tr = f1_score(y_train, treedf.predict(X_train_std_df.loc[:,columnas_T]))\n",
        "accuracy_tr = metrics.accuracy_score(y_train, treedf.predict(X_train_std_df.loc[:,columnas_T]))\n",
        "\n",
        "print(f'Precision: {precision_tr:.2f}')\n",
        "print(f'Recall: {recall_tr:.2f}')\n",
        "print(f'F1-score: {f1score_tr:.2f}')"
      ]
    },
    {
      "cell_type": "code",
      "execution_count": null,
      "metadata": {
        "id": "Tiq08Ma6pNvc",
        "colab": {
          "base_uri": "https://localhost:8080/"
        },
        "outputId": "025f60d9-a9f7-4e59-94f4-769fcca32825"
      },
      "outputs": [
        {
          "output_type": "stream",
          "name": "stdout",
          "text": [
            "Precision: 1.00\n",
            "Recall: 0.96\n",
            "F1-score: 0.98\n"
          ]
        }
      ],
      "source": [
        "# Extraccion de elementos de la matriz\n",
        "tn, fp, fn, tp = cm1.ravel()\n",
        "precision_te  = precision_score(y_test, treedf.predict(X_test_std_df.loc[:,columnas_T]))\n",
        "recall_te = recall_score(y_test, treedf.predict(X_test_std_df.loc[:,columnas_T]))\n",
        "f1score_te = f1_score(y_test, treedf.predict(X_test_std_df.loc[:,columnas_T]))\n",
        "accuracy_te = metrics.accuracy_score(y_test, treedf.predict(X_test_std_df.loc[:,columnas_T]))\n",
        "\n",
        "print(f'Precision: {precision_te:.2f}')\n",
        "print(f'Recall: {recall_te:.2f}')\n",
        "print(f'F1-score: {f1score_te:.2f}')"
      ]
    },
    {
      "cell_type": "code",
      "execution_count": null,
      "metadata": {
        "id": "Cyq92rd2pNvd"
      },
      "outputs": [],
      "source": [
        "metricas_modelos.append(('Treedf_20', precision_tr, recall_tr, f1score_tr, accuracy_tr, precision_te, recall_te, f1score_te, accuracy_te))"
      ]
    },
    {
      "cell_type": "code",
      "execution_count": null,
      "metadata": {
        "id": "q4sEjA6Vfjp7",
        "colab": {
          "base_uri": "https://localhost:8080/"
        },
        "outputId": "0a02ec46-3466-4eb7-88db-b361642aa3c5"
      },
      "outputs": [
        {
          "output_type": "stream",
          "name": "stdout",
          "text": [
            "Train - Accuracy : 1.0\n",
            "Train - classification report:\n",
            "               precision    recall  f1-score   support\n",
            "\n",
            "           0       1.00      1.00      1.00      2958\n",
            "           1       1.00      1.00      1.00       570\n",
            "\n",
            "    accuracy                           1.00      3528\n",
            "   macro avg       1.00      1.00      1.00      3528\n",
            "weighted avg       1.00      1.00      1.00      3528\n",
            "\n",
            "Test - Accuracy : 0.9943310657596371\n",
            "Test - classification report :               precision    recall  f1-score   support\n",
            "\n",
            "           0       0.99      1.00      1.00       741\n",
            "           1       1.00      0.96      0.98       141\n",
            "\n",
            "    accuracy                           0.99       882\n",
            "   macro avg       1.00      0.98      0.99       882\n",
            "weighted avg       0.99      0.99      0.99       882\n",
            "\n"
          ]
        }
      ],
      "source": [
        "# Métricas de desempeño\n",
        "print (\"Train - Accuracy :\", metrics.accuracy_score(y_train, treedf.predict(X_train_std_df.loc[:,columnas_T])))\n",
        "print (\"Train - classification report:\\n\", metrics.classification_report(y_train, treedf.predict(X_train_std_df.loc[:,columnas_T])))\n",
        "print (\"Test - Accuracy :\", metrics.accuracy_score(y_test, treedf.predict(X_test_std_df.loc[:,columnas_T])))\n",
        "print (\"Test - classification report :\", metrics.classification_report(y_test, treedf.predict(X_test_std_df.loc[:,columnas_T])))"
      ]
    },
    {
      "cell_type": "code",
      "execution_count": null,
      "metadata": {
        "id": "V6_Rk63kjuC8",
        "colab": {
          "base_uri": "https://localhost:8080/",
          "height": 449
        },
        "outputId": "897f2de9-e88f-4290-f861-f4cae2298459"
      },
      "outputs": [
        {
          "output_type": "display_data",
          "data": {
            "text/plain": [
              "<Figure size 640x480 with 2 Axes>"
            ],
            "image/png": "[encoded data removed]"
          },
          "metadata": {}
        }
      ],
      "source": [
        "from sklearn.metrics import confusion_matrix, ConfusionMatrixDisplay\n",
        "# Matriz de confusion\n",
        "cm1= confusion_matrix(y_test, treedf.predict(X_test_std_df.loc[:,columnas_T]))\n",
        "# Visualización de la matriz de confusion\n",
        "cm1_display = ConfusionMatrixDisplay(confusion_matrix = cm1)\n",
        "cm1_display.plot()\n",
        "plt.show()"
      ]
    },
    {
      "cell_type": "code",
      "execution_count": null,
      "metadata": {
        "id": "iy2X2IQ8ce-c",
        "colab": {
          "base_uri": "https://localhost:8080/"
        },
        "outputId": "358cd083-3504-42f9-f3af-1f5863a08369"
      },
      "outputs": [
        {
          "output_type": "stream",
          "name": "stdout",
          "text": [
            "                            Variable  Importancia\n",
            "0                                Age     0.173279\n",
            "2                  TotalWorkingYears     0.157192\n",
            "7                    JobSatisfaction     0.088257\n",
            "5               YearsWithCurrManager     0.081392\n",
            "3              TrainingTimesLastYear     0.079190\n",
            "1                 NumCompaniesWorked     0.078766\n",
            "4                     YearsAtCompany     0.061865\n",
            "6            EnvironmentSatisfaction     0.059994\n",
            "8                    WorkLifeBalance     0.053330\n",
            "19              MaritalStatus_Single     0.032111\n",
            "16         JobRole_Research Director     0.027344\n",
            "10  BusinessTravel_Travel_Frequently     0.022105\n",
            "12        Department_Human Resources     0.020253\n",
            "17            MaritalStatus_Divorced     0.017320\n",
            "11      BusinessTravel_Travel_Rarely     0.011895\n",
            "13    EducationField_Human Resources     0.011497\n",
            "9          BusinessTravel_Non-Travel     0.010598\n",
            "18             MaritalStatus_Married     0.010179\n",
            "14   EducationField_Technical Degree     0.001759\n",
            "15    JobRole_Manufacturing Director     0.001674\n"
          ]
        }
      ],
      "source": [
        "# Obtener importancia de las características\n",
        "importancias = treedf.feature_importances_\n",
        "\n",
        "# Crear un DataFrame con las importancias y los nombres de las características\n",
        "importancias_df = pd.DataFrame({'Variable': X_train_std_df.loc[:,columnas_T].columns, 'Importancia': importancias})\n",
        "importancias_df = importancias_df.reindex(importancias_df['Importancia'].sort_values(ascending=False).index)\n",
        "\n",
        "# Mostrar las variables más importantes\n",
        "print(importancias_df)"
      ]
    },
    {
      "cell_type": "markdown",
      "metadata": {
        "id": "g_Clk3fXqGhf"
      },
      "source": [
        "###Random Forest"
      ]
    },
    {
      "cell_type": "code",
      "execution_count": null,
      "metadata": {
        "id": "q89WKS_ci_JN"
      },
      "outputs": [],
      "source": [
        "ranfor =RandomForestClassifier(random_state = 42)\n",
        "ranfor.fit(X_train_std_df.loc[:,columnas_T], y_train)\n",
        "ranforpred =ranfor.predict(X_test_std_df.loc[:,columnas_T])"
      ]
    },
    {
      "cell_type": "code",
      "execution_count": null,
      "metadata": {
        "id": "W_QwU-g9qGhf",
        "colab": {
          "base_uri": "https://localhost:8080/"
        },
        "outputId": "7393c2f6-2878-4e69-a629-2860f1675692"
      },
      "outputs": [
        {
          "output_type": "stream",
          "name": "stdout",
          "text": [
            "Precision: 1.00\n",
            "Recall: 1.00\n",
            "F1-score: 1.00\n"
          ]
        }
      ],
      "source": [
        "from sklearn.metrics import precision_score, recall_score, f1_score, confusion_matrix\n",
        "\n",
        "# Extraccion de elementos de la matriz\n",
        "tn, fp, fn, tp = cm1.ravel()\n",
        "precision_tr = precision_score(y_train, ranfor.predict(X_train_std_df.loc[:,columnas_T]))\n",
        "recall_tr = recall_score(y_train, ranfor.predict(X_train_std_df.loc[:,columnas_T]))\n",
        "f1score_tr = f1_score(y_train, ranfor.predict(X_train_std_df.loc[:,columnas_T]))\n",
        "accuracy_tr = metrics.accuracy_score(y_train, ranfor.predict(X_train_std_df.loc[:,columnas_T]))\n",
        "\n",
        "print(f'Precision: {precision_tr:.2f}')\n",
        "print(f'Recall: {recall_tr:.2f}')\n",
        "print(f'F1-score: {f1score_tr:.2f}')"
      ]
    },
    {
      "cell_type": "code",
      "execution_count": null,
      "metadata": {
        "id": "To8eSyOVqGhf",
        "colab": {
          "base_uri": "https://localhost:8080/"
        },
        "outputId": "d18a05e1-3e31-4b56-8312-b340403b5bb6"
      },
      "outputs": [
        {
          "output_type": "stream",
          "name": "stdout",
          "text": [
            "Precision: 1.00\n",
            "Recall: 0.96\n",
            "F1-score: 0.98\n"
          ]
        }
      ],
      "source": [
        "# Extraccion de elementos de la matriz\n",
        "tn, fp, fn, tp = cm1.ravel()\n",
        "precision_te  = precision_score(y_test, ranfor.predict(X_test_std_df.loc[:,columnas_T]))\n",
        "recall_te = recall_score(y_test, ranfor.predict(X_test_std_df.loc[:,columnas_T]))\n",
        "f1score_te = f1_score(y_test, ranfor.predict(X_test_std_df.loc[:,columnas_T]))\n",
        "accuracy_te = metrics.accuracy_score(y_test, ranfor.predict(X_test_std_df.loc[:,columnas_T]))\n",
        "\n",
        "print(f'Precision: {precision_te:.2f}')\n",
        "print(f'Recall: {recall_te:.2f}')\n",
        "print(f'F1-score: {f1score_te:.2f}')"
      ]
    },
    {
      "cell_type": "code",
      "execution_count": null,
      "metadata": {
        "id": "J-Nz3L9SqGhf"
      },
      "outputs": [],
      "source": [
        "metricas_modelos.append(('RandomForest_20', precision_tr, recall_tr, f1score_tr, accuracy_tr, precision_te, recall_te, f1score_te, accuracy_te))"
      ]
    },
    {
      "cell_type": "code",
      "execution_count": null,
      "metadata": {
        "id": "CxqlgvFaqGhg",
        "colab": {
          "base_uri": "https://localhost:8080/"
        },
        "outputId": "8615520e-653e-461f-9c13-de349c220a9c"
      },
      "outputs": [
        {
          "output_type": "stream",
          "name": "stdout",
          "text": [
            "Train - Accuracy : 1.0\n",
            "Train - classification report:\n",
            "               precision    recall  f1-score   support\n",
            "\n",
            "           0       1.00      1.00      1.00      2958\n",
            "           1       1.00      1.00      1.00       570\n",
            "\n",
            "    accuracy                           1.00      3528\n",
            "   macro avg       1.00      1.00      1.00      3528\n",
            "weighted avg       1.00      1.00      1.00      3528\n",
            "\n",
            "Test - Accuracy : 0.9943310657596371\n",
            "Test - classification report :               precision    recall  f1-score   support\n",
            "\n",
            "           0       0.99      1.00      1.00       741\n",
            "           1       1.00      0.96      0.98       141\n",
            "\n",
            "    accuracy                           0.99       882\n",
            "   macro avg       1.00      0.98      0.99       882\n",
            "weighted avg       0.99      0.99      0.99       882\n",
            "\n"
          ]
        }
      ],
      "source": [
        "# Métricas de desempeño\n",
        "print (\"Train - Accuracy :\", metrics.accuracy_score(y_train, treedf.predict(X_train_std_df.loc[:,columnas_T])))\n",
        "print (\"Train - classification report:\\n\", metrics.classification_report(y_train, treedf.predict(X_train_std_df.loc[:,columnas_T])))\n",
        "print (\"Test - Accuracy :\", metrics.accuracy_score(y_test, treedf.predict(X_test_std_df.loc[:,columnas_T])))\n",
        "print (\"Test - classification report :\", metrics.classification_report(y_test, treedf.predict(X_test_std_df.loc[:,columnas_T])))"
      ]
    },
    {
      "cell_type": "code",
      "execution_count": null,
      "metadata": {
        "id": "wj3m9OEgqGhg",
        "colab": {
          "base_uri": "https://localhost:8080/",
          "height": 449
        },
        "outputId": "72fe6134-cd04-4bd9-87f5-b6b9dc331828"
      },
      "outputs": [
        {
          "output_type": "display_data",
          "data": {
            "text/plain": [
              "<Figure size 640x480 with 2 Axes>"
            ],
            "image/png": "[encoded data removed]"
          },
          "metadata": {}
        }
      ],
      "source": [
        "from sklearn.metrics import confusion_matrix, ConfusionMatrixDisplay\n",
        "# Matriz de confusion\n",
        "cm1= confusion_matrix(y_test, treedf.predict(X_test_std_df.loc[:,columnas_T]))\n",
        "# Visualización de la matriz de confusion\n",
        "cm1_display = ConfusionMatrixDisplay(confusion_matrix = cm1)\n",
        "cm1_display.plot()\n",
        "plt.show()"
      ]
    },
    {
      "cell_type": "markdown",
      "metadata": {
        "id": "zo3YXoTTx4kR"
      },
      "source": [
        "## Grilla y Kfold"
      ]
    },
    {
      "cell_type": "code",
      "execution_count": null,
      "metadata": {
        "id": "TFgnS8kTSqS5"
      },
      "outputs": [],
      "source": [
        "resultados = []"
      ]
    },
    {
      "cell_type": "code",
      "execution_count": null,
      "metadata": {
        "id": "YSTkTeNynEQa"
      },
      "outputs": [],
      "source": [
        "#K_fold para arbol de decision con todas las variables\n",
        "precision_entrenamiento, precision_prueba = funciones.evaluate_model(X_train_std_df, y_train, X_test_std_df, y_test, treedf, 10, 'accuracy')\n",
        "resultados.append(('Treedf', precision_entrenamiento, precision_prueba))\n",
        "precision_entrenamiento, precision_prueba = funciones.evaluate_model(X_train_std_df.loc[:,columnas_T], y_train, X_test_std_df.loc[:,columnas_T], y_test, treedf, 10, 'accuracy')\n",
        "resultados.append(('Treedf_VS', precision_entrenamiento, precision_prueba))\n"
      ]
    },
    {
      "cell_type": "code",
      "execution_count": null,
      "metadata": {
        "id": "2Gj76phxSLJa",
        "colab": {
          "base_uri": "https://localhost:8080/",
          "height": 112
        },
        "outputId": "5a8ef48b-d335-4696-8ea2-dcf5a8200c8d"
      },
      "outputs": [
        {
          "output_type": "execute_result",
          "data": {
            "text/plain": [
              "        Caso  Accuracy Entrenamiento  Accuracy Prueba\n",
              "0     Treedf               97.051732        82.540858\n",
              "1  Treedf_VS               97.902234        83.789581"
            ],
            "text/html": [
              "\n",
              "  <div id=\"df-90c9e7a9-1c01-4731-a1cf-4e1f9116cd71\" class=\"colab-df-container\">\n",
              "    <div>\n",
              "<style scoped>\n",
              "    .dataframe tbody tr th:only-of-type {\n",
              "        vertical-align: middle;\n",
              "    }\n",
              "\n",
              "    .dataframe tbody tr th {\n",
              "        vertical-align: top;\n",
              "    }\n",
              "\n",
              "    .dataframe thead th {\n",
              "        text-align: right;\n",
              "    }\n",
              "</style>\n",
              "<table border=\"1\" class=\"dataframe\">\n",
              "  <thead>\n",
              "    <tr style=\"text-align: right;\">\n",
              "      <th></th>\n",
              "      <th>Caso</th>\n",
              "      <th>Accuracy Entrenamiento</th>\n",
              "      <th>Accuracy Prueba</th>\n",
              "    </tr>\n",
              "  </thead>\n",
              "  <tbody>\n",
              "    <tr>\n",
              "      <th>0</th>\n",
              "      <td>Treedf</td>\n",
              "      <td>97.051732</td>\n",
              "      <td>82.540858</td>\n",
              "    </tr>\n",
              "    <tr>\n",
              "      <th>1</th>\n",
              "      <td>Treedf_VS</td>\n",
              "      <td>97.902234</td>\n",
              "      <td>83.789581</td>\n",
              "    </tr>\n",
              "  </tbody>\n",
              "</table>\n",
              "</div>\n",
              "    <div class=\"colab-df-buttons\">\n",
              "\n",
              "  <div class=\"colab-df-container\">\n",
              "    <button class=\"colab-df-convert\" onclick=\"convertToInteractive('df-90c9e7a9-1c01-4731-a1cf-4e1f9116cd71')\"\n",
              "            title=\"Convert this dataframe to an interactive table.\"\n",
              "            style=\"display:none;\">\n",
              "\n",
              "  <svg xmlns=\"http://www.w3.org/2000/svg\" height=\"24px\" viewBox=\"0 -960 960 960\">\n",
              "    <path d=\"M120-120v-720h720v720H120Zm60-500h600v-160H180v160Zm220 220h160v-160H400v160Zm0 220h160v-160H400v160ZM180-400h160v-160H180v160Zm440 0h160v-160H620v160ZM180-180h160v-160H180v160Zm440 0h160v-160H620v160Z\"/>\n",
              "  </svg>\n",
              "    </button>\n",
              "\n",
              "  <style>\n",
              "    .colab-df-container {\n",
              "      display:flex;\n",
              "      gap: 12px;\n",
              "    }\n",
              "\n",
              "    .colab-df-convert {\n",
              "      background-color: #E8F0FE;\n",
              "      border: none;\n",
              "      border-radius: 50%;\n",
              "      cursor: pointer;\n",
              "      display: none;\n",
              "      fill: #1967D2;\n",
              "      height: 32px;\n",
              "      padding: 0 0 0 0;\n",
              "      width: 32px;\n",
              "    }\n",
              "\n",
              "    .colab-df-convert:hover {\n",
              "      background-color: #E2EBFA;\n",
              "      box-shadow: 0px 1px 2px rgba(60, 64, 67, 0.3), 0px 1px 3px 1px rgba(60, 64, 67, 0.15);\n",
              "      fill: #174EA6;\n",
              "    }\n",
              "\n",
              "    .colab-df-buttons div {\n",
              "      margin-bottom: 4px;\n",
              "    }\n",
              "\n",
              "    [theme=dark] .colab-df-convert {\n",
              "      background-color: #3B4455;\n",
              "      fill: #D2E3FC;\n",
              "    }\n",
              "\n",
              "    [theme=dark] .colab-df-convert:hover {\n",
              "      background-color: #434B5C;\n",
              "      box-shadow: 0px 1px 3px 1px rgba(0, 0, 0, 0.15);\n",
              "      filter: drop-shadow(0px 1px 2px rgba(0, 0, 0, 0.3));\n",
              "      fill: #FFFFFF;\n",
              "    }\n",
              "  </style>\n",
              "\n",
              "    <script>\n",
              "      const buttonEl =\n",
              "        document.querySelector('#df-90c9e7a9-1c01-4731-a1cf-4e1f9116cd71 button.colab-df-convert');\n",
              "      buttonEl.style.display =\n",
              "        google.colab.kernel.accessAllowed ? 'block' : 'none';\n",
              "\n",
              "      async function convertToInteractive(key) {\n",
              "        const element = document.querySelector('#df-90c9e7a9-1c01-4731-a1cf-4e1f9116cd71');\n",
              "        const dataTable =\n",
              "          await google.colab.kernel.invokeFunction('convertToInteractive',\n",
              "                                                    [key], {});\n",
              "        if (!dataTable) return;\n",
              "\n",
              "        const docLinkHtml = 'Like what you see? Visit the ' +\n",
              "          '<a target=\"_blank\" href=https://colab.research.google.com/notebooks/data_table.ipynb>data table notebook</a>'\n",
              "          + ' to learn more about interactive tables.';\n",
              "        element.innerHTML = '';\n",
              "        dataTable['output_type'] = 'display_data';\n",
              "        await google.colab.output.renderOutput(dataTable, element);\n",
              "        const docLink = document.createElement('div');\n",
              "        docLink.innerHTML = docLinkHtml;\n",
              "        element.appendChild(docLink);\n",
              "      }\n",
              "    </script>\n",
              "  </div>\n",
              "\n",
              "\n",
              "<div id=\"df-03d2a2b5-ec40-43fd-be96-6e39445dcb8b\">\n",
              "  <button class=\"colab-df-quickchart\" onclick=\"quickchart('df-03d2a2b5-ec40-43fd-be96-6e39445dcb8b')\"\n",
              "            title=\"Suggest charts.\"\n",
              "            style=\"display:none;\">\n",
              "\n",
              "<svg xmlns=\"http://www.w3.org/2000/svg\" height=\"24px\"viewBox=\"0 0 24 24\"\n",
              "     width=\"24px\">\n",
              "    <g>\n",
              "        <path d=\"M19 3H5c-1.1 0-2 .9-2 2v14c0 1.1.9 2 2 2h14c1.1 0 2-.9 2-2V5c0-1.1-.9-2-2-2zM9 17H7v-7h2v7zm4 0h-2V7h2v10zm4 0h-2v-4h2v4z\"/>\n",
              "    </g>\n",
              "</svg>\n",
              "  </button>\n",
              "\n",
              "<style>\n",
              "  .colab-df-quickchart {\n",
              "      --bg-color: #E8F0FE;\n",
              "      --fill-color: #1967D2;\n",
              "      --hover-bg-color: #E2EBFA;\n",
              "      --hover-fill-color: #174EA6;\n",
              "      --disabled-fill-color: #AAA;\n",
              "      --disabled-bg-color: #DDD;\n",
              "  }\n",
              "\n",
              "  [theme=dark] .colab-df-quickchart {\n",
              "      --bg-color: #3B4455;\n",
              "      --fill-color: #D2E3FC;\n",
              "      --hover-bg-color: #434B5C;\n",
              "      --hover-fill-color: #FFFFFF;\n",
              "      --disabled-bg-color: #3B4455;\n",
              "      --disabled-fill-color: #666;\n",
              "  }\n",
              "\n",
              "  .colab-df-quickchart {\n",
              "    background-color: var(--bg-color);\n",
              "    border: none;\n",
              "    border-radius: 50%;\n",
              "    cursor: pointer;\n",
              "    display: none;\n",
              "    fill: var(--fill-color);\n",
              "    height: 32px;\n",
              "    padding: 0;\n",
              "    width: 32px;\n",
              "  }\n",
              "\n",
              "  .colab-df-quickchart:hover {\n",
              "    background-color: var(--hover-bg-color);\n",
              "    box-shadow: 0 1px 2px rgba(60, 64, 67, 0.3), 0 1px 3px 1px rgba(60, 64, 67, 0.15);\n",
              "    fill: var(--button-hover-fill-color);\n",
              "  }\n",
              "\n",
              "  .colab-df-quickchart-complete:disabled,\n",
              "  .colab-df-quickchart-complete:disabled:hover {\n",
              "    background-color: var(--disabled-bg-color);\n",
              "    fill: var(--disabled-fill-color);\n",
              "    box-shadow: none;\n",
              "  }\n",
              "\n",
              "  .colab-df-spinner {\n",
              "    border: 2px solid var(--fill-color);\n",
              "    border-color: transparent;\n",
              "    border-bottom-color: var(--fill-color);\n",
              "    animation:\n",
              "      spin 1s steps(1) infinite;\n",
              "  }\n",
              "\n",
              "  @keyframes spin {\n",
              "    0% {\n",
              "      border-color: transparent;\n",
              "      border-bottom-color: var(--fill-color);\n",
              "      border-left-color: var(--fill-color);\n",
              "    }\n",
              "    20% {\n",
              "      border-color: transparent;\n",
              "      border-left-color: var(--fill-color);\n",
              "      border-top-color: var(--fill-color);\n",
              "    }\n",
              "    30% {\n",
              "      border-color: transparent;\n",
              "      border-left-color: var(--fill-color);\n",
              "      border-top-color: var(--fill-color);\n",
              "      border-right-color: var(--fill-color);\n",
              "    }\n",
              "    40% {\n",
              "      border-color: transparent;\n",
              "      border-right-color: var(--fill-color);\n",
              "      border-top-color: var(--fill-color);\n",
              "    }\n",
              "    60% {\n",
              "      border-color: transparent;\n",
              "      border-right-color: var(--fill-color);\n",
              "    }\n",
              "    80% {\n",
              "      border-color: transparent;\n",
              "      border-right-color: var(--fill-color);\n",
              "      border-bottom-color: var(--fill-color);\n",
              "    }\n",
              "    90% {\n",
              "      border-color: transparent;\n",
              "      border-bottom-color: var(--fill-color);\n",
              "    }\n",
              "  }\n",
              "</style>\n",
              "\n",
              "  <script>\n",
              "    async function quickchart(key) {\n",
              "      const quickchartButtonEl =\n",
              "        document.querySelector('#' + key + ' button');\n",
              "      quickchartButtonEl.disabled = true;  // To prevent multiple clicks.\n",
              "      quickchartButtonEl.classList.add('colab-df-spinner');\n",
              "      try {\n",
              "        const charts = await google.colab.kernel.invokeFunction(\n",
              "            'suggestCharts', [key], {});\n",
              "      } catch (error) {\n",
              "        console.error('Error during call to suggestCharts:', error);\n",
              "      }\n",
              "      quickchartButtonEl.classList.remove('colab-df-spinner');\n",
              "      quickchartButtonEl.classList.add('colab-df-quickchart-complete');\n",
              "    }\n",
              "    (() => {\n",
              "      let quickchartButtonEl =\n",
              "        document.querySelector('#df-03d2a2b5-ec40-43fd-be96-6e39445dcb8b button');\n",
              "      quickchartButtonEl.style.display =\n",
              "        google.colab.kernel.accessAllowed ? 'block' : 'none';\n",
              "    })();\n",
              "  </script>\n",
              "</div>\n",
              "    </div>\n",
              "  </div>\n"
            ]
          },
          "metadata": {},
          "execution_count": 199
        }
      ],
      "source": [
        "# Crear un DataFrame a partir de la lista de resultados\n",
        "df_resultados = pd.DataFrame(resultados, columns=['Caso', 'Accuracy Entrenamiento', 'Accuracy Prueba'])\n",
        "\n",
        "# Imprimir el DataFrame\n",
        "df_resultados"
      ]
    },
    {
      "cell_type": "code",
      "execution_count": null,
      "metadata": {
        "id": "Wu7wCvFqD_G9"
      },
      "outputs": [],
      "source": [
        "parametros = []"
      ]
    },
    {
      "cell_type": "code",
      "execution_count": null,
      "metadata": {
        "id": "sE6_d2GGklHb"
      },
      "outputs": [],
      "source": [
        "param_grid = {\n",
        "    \"max_depth\": [10,20,25,30,None],\n",
        "    \"min_samples_split\": [3,5,10,15],\n",
        "    \"min_samples_leaf\": [2, 3,5,10,15]\n",
        "}"
      ]
    },
    {
      "cell_type": "code",
      "execution_count": null,
      "metadata": {
        "colab": {
          "base_uri": "https://localhost:8080/"
        },
        "id": "XfvyVEqGk9Gk",
        "outputId": "f6d86eed-4c69-4a50-da14-7d84b48a5fe6"
      },
      "outputs": [
        {
          "output_type": "stream",
          "name": "stdout",
          "text": [
            "{'max_depth': 20, 'min_samples_leaf': 2, 'min_samples_split': 3}\n",
            "0.7649122807017543\n"
          ]
        }
      ],
      "source": [
        "from sklearn.model_selection import GridSearchCV\n",
        "\n",
        "grid_cv = GridSearchCV(treedf, param_grid, scoring='recall', n_jobs=-1, cv=10).fit(X_train_std_df.loc[:,columnas_T], y_train)\n",
        "\n",
        "print(grid_cv.best_params_)\n",
        "print(grid_cv.best_score_)"
      ]
    },
    {
      "cell_type": "code",
      "execution_count": null,
      "metadata": {
        "id": "mugz6nsAlBtG"
      },
      "outputs": [],
      "source": [
        "treedf =tree.DecisionTreeClassifier(criterion = 'gini',\n",
        "          max_depth= 20, min_samples_leaf= 2, min_samples_split= 3,\n",
        "          random_state=0)\n",
        "treedf.fit(X_train_std_df.loc[:,columnas_T], y_train)\n",
        "treedfpred=treedf.predict(X_test_std_df.loc[:,columnas_T])"
      ]
    },
    {
      "cell_type": "code",
      "execution_count": null,
      "metadata": {
        "id": "a9HrueTpDWFd",
        "colab": {
          "base_uri": "https://localhost:8080/"
        },
        "outputId": "0da5ba9c-99d6-4e40-d2aa-b2db5e9f320e"
      },
      "outputs": [
        {
          "output_type": "stream",
          "name": "stdout",
          "text": [
            "Precision: 0.99\n",
            "Recall: 0.98\n",
            "F1-score: 0.99\n"
          ]
        }
      ],
      "source": [
        "from sklearn.metrics import precision_score, recall_score, f1_score, confusion_matrix\n",
        "\n",
        "# Extraccion de elementos de la matriz\n",
        "tn, fp, fn, tp = cm1.ravel()\n",
        "precision_tr = precision_score(y_train, treedf.predict(X_train_std_df.loc[:,columnas_T]))\n",
        "recall_tr = recall_score(y_train, treedf.predict(X_train_std_df.loc[:,columnas_T]))\n",
        "f1score_tr = f1_score(y_train, treedf.predict(X_train_std_df.loc[:,columnas_T]))\n",
        "accuracy_tr = metrics.accuracy_score(y_train, treedf.predict(X_train_std_df.loc[:,columnas_T]))\n",
        "\n",
        "print(f'Precision: {precision_tr:.2f}')\n",
        "print(f'Recall: {recall_tr:.2f}')\n",
        "print(f'F1-score: {f1score_tr:.2f}')"
      ]
    },
    {
      "cell_type": "code",
      "execution_count": null,
      "metadata": {
        "id": "dN7mGr7aDWFe",
        "colab": {
          "base_uri": "https://localhost:8080/"
        },
        "outputId": "8908dd63-dc92-48a1-c4a9-23142d6a9ab6"
      },
      "outputs": [
        {
          "output_type": "stream",
          "name": "stdout",
          "text": [
            "Precision: 0.89\n",
            "Recall: 0.84\n",
            "F1-score: 0.87\n"
          ]
        }
      ],
      "source": [
        "# Extraccion de elementos de la matriz\n",
        "tn, fp, fn, tp = cm1.ravel()\n",
        "precision_te  = precision_score(y_test, treedf.predict(X_test_std_df.loc[:,columnas_T]))\n",
        "recall_te = recall_score(y_test, treedf.predict(X_test_std_df.loc[:,columnas_T]))\n",
        "f1score_te = f1_score(y_test, treedf.predict(X_test_std_df.loc[:,columnas_T]))\n",
        "accuracy_te = metrics.accuracy_score(y_test, treedf.predict(X_test_std_df.loc[:,columnas_T]))\n",
        "\n",
        "print(f'Precision: {precision_te:.2f}')\n",
        "print(f'Recall: {recall_te:.2f}')\n",
        "print(f'F1-score: {f1score_te:.2f}')"
      ]
    },
    {
      "cell_type": "code",
      "execution_count": null,
      "metadata": {
        "id": "qNkiaaZDDWFf"
      },
      "outputs": [],
      "source": [
        "parametros.append(('TreeDF_Afinar', precision_tr, recall_tr, f1score_tr, accuracy_tr, precision_te, recall_te, f1score_te, accuracy_te))"
      ]
    },
    {
      "cell_type": "code",
      "execution_count": null,
      "metadata": {
        "id": "X7Chbb_mlwGh",
        "colab": {
          "base_uri": "https://localhost:8080/"
        },
        "outputId": "57e4f30f-15b5-4055-ff80-d5d72ec4b275"
      },
      "outputs": [
        {
          "output_type": "stream",
          "name": "stdout",
          "text": [
            "Train - Accuracy : 0.9951814058956916\n",
            "Train - classification report:\n",
            "               precision    recall  f1-score   support\n",
            "\n",
            "           0       1.00      1.00      1.00      2958\n",
            "           1       0.99      0.98      0.99       570\n",
            "\n",
            "    accuracy                           1.00      3528\n",
            "   macro avg       0.99      0.99      0.99      3528\n",
            "weighted avg       1.00      1.00      1.00      3528\n",
            "\n",
            "Test - Accuracy : 0.9580498866213152\n",
            "Test - classification report :               precision    recall  f1-score   support\n",
            "\n",
            "           0       0.97      0.98      0.98       741\n",
            "           1       0.89      0.84      0.87       141\n",
            "\n",
            "    accuracy                           0.96       882\n",
            "   macro avg       0.93      0.91      0.92       882\n",
            "weighted avg       0.96      0.96      0.96       882\n",
            "\n"
          ]
        }
      ],
      "source": [
        "# Métricas de desempeño\n",
        "print (\"Train - Accuracy :\", metrics.accuracy_score(y_train, treedf.predict(X_train_std_df.loc[:,columnas_T])))\n",
        "print (\"Train - classification report:\\n\", metrics.classification_report(y_train, treedf.predict(X_train_std_df.loc[:,columnas_T])))\n",
        "print (\"Test - Accuracy :\", metrics.accuracy_score(y_test, treedf.predict(X_test_std_df.loc[:,columnas_T])))\n",
        "print (\"Test - classification report :\", metrics.classification_report(y_test, treedf.predict(X_test_std_df.loc[:,columnas_T])))"
      ]
    },
    {
      "cell_type": "code",
      "execution_count": null,
      "metadata": {
        "colab": {
          "base_uri": "https://localhost:8080/",
          "height": 449
        },
        "id": "a-8vT-GhmAAL",
        "outputId": "8fd2ecfe-78f9-4ce1-9ad5-187ca2fe2689"
      },
      "outputs": [
        {
          "output_type": "display_data",
          "data": {
            "text/plain": [
              "<Figure size 640x480 with 2 Axes>"
            ],
            "image/png": "[encoded data removed]"
          },
          "metadata": {}
        }
      ],
      "source": [
        "from sklearn.metrics import confusion_matrix, ConfusionMatrixDisplay\n",
        "# Matriz de confusion\n",
        "cm1= confusion_matrix(y_test, treedf.predict(X_test_std_df.loc[:,columnas_T]))\n",
        "# Visualización de la matriz de confusion\n",
        "cm1_display = ConfusionMatrixDisplay(confusion_matrix = cm1)\n",
        "cm1_display.plot()\n",
        "plt.show()"
      ]
    },
    {
      "cell_type": "code",
      "execution_count": null,
      "metadata": {
        "colab": {
          "base_uri": "https://localhost:8080/"
        },
        "id": "suvwK0JtPVaR",
        "outputId": "e2745385-f460-4030-b226-24f840c9c2a6"
      },
      "outputs": [
        {
          "output_type": "stream",
          "name": "stdout",
          "text": [
            "                            Variable  Importancia\n",
            "0                                Age     0.176189\n",
            "2                  TotalWorkingYears     0.140813\n",
            "5               YearsWithCurrManager     0.085739\n",
            "7                    JobSatisfaction     0.083572\n",
            "3              TrainingTimesLastYear     0.080160\n",
            "4                     YearsAtCompany     0.074207\n",
            "8                    WorkLifeBalance     0.072501\n",
            "1                 NumCompaniesWorked     0.069419\n",
            "6            EnvironmentSatisfaction     0.052678\n",
            "19              MaritalStatus_Single     0.032909\n",
            "16         JobRole_Research Director     0.028758\n",
            "12        Department_Human Resources     0.020113\n",
            "10  BusinessTravel_Travel_Frequently     0.019021\n",
            "17            MaritalStatus_Divorced     0.018041\n",
            "13    EducationField_Human Resources     0.012474\n",
            "11      BusinessTravel_Travel_Rarely     0.011809\n",
            "18             MaritalStatus_Married     0.010295\n",
            "9          BusinessTravel_Non-Travel     0.010218\n",
            "14   EducationField_Technical Degree     0.001084\n",
            "15    JobRole_Manufacturing Director     0.000000\n"
          ]
        }
      ],
      "source": [
        "# Obtener importancia de las características\n",
        "importancias = treedf.feature_importances_\n",
        "\n",
        "# Crear un DataFrame con las importancias y los nombres de las características\n",
        "importancias_df = pd.DataFrame({'Variable': X_train_std_df.loc[:,columnas_T].columns, 'Importancia': importancias})\n",
        "importancias_df = importancias_df.reindex(importancias_df['Importancia'].sort_values(ascending=False).index)\n",
        "\n",
        "# Mostrar las variables más importantes\n",
        "print(importancias_df)"
      ]
    },
    {
      "cell_type": "code",
      "execution_count": null,
      "metadata": {
        "colab": {
          "base_uri": "https://localhost:8080/",
          "height": 567
        },
        "id": "xTCZW4gbPlr9",
        "outputId": "2413acd5-f0d2-42ef-d5ea-a6bd1fa269a7"
      },
      "outputs": [
        {
          "output_type": "display_data",
          "data": {
            "text/plain": [
              "<Figure size 1000x600 with 1 Axes>"
            ],
            "image/png": "[encoded data removed]"
          },
          "metadata": {}
        }
      ],
      "source": [
        "# Crear un gráfico de barras con las 10 primeras variables\n",
        "plt.figure(figsize=(10, 6))\n",
        "plt.barh(importancias_df['Variable'][:10], importancias_df['Importancia'][:10])\n",
        "plt.xlabel('Importancia')\n",
        "plt.ylabel('Variable')\n",
        "plt.title('Importancia de las 10 Variables Más Importantes - Árbol de Decisión')\n",
        "plt.show()"
      ]
    },
    {
      "cell_type": "code",
      "source": [
        "# Realiza una validación cruzada y guarda los resultados del accuracy\n",
        "\n",
        "resultados_accuracy = cross_val_score(treedf, X_test_std_df.loc[:,columnas_T], y_test, cv=10, scoring='accuracy')\n",
        "\n",
        "# Imprime los resultados del accuracy para cada fold\n",
        "print(\"Resultados del Accuracy:\", resultados_accuracy)\n",
        "\n",
        "# Calcula la precisión media y su desviación estándar\n",
        "precision_media = np.mean(resultados_accuracy)\n",
        "desviacion_estandar = np.std(resultados_accuracy)\n"
      ],
      "metadata": {
        "colab": {
          "base_uri": "https://localhost:8080/"
        },
        "id": "PKVy91HmLAky",
        "outputId": "f4022d06-085e-4fb6-c31e-1dbc96db5e52"
      },
      "execution_count": null,
      "outputs": [
        {
          "output_type": "stream",
          "name": "stdout",
          "text": [
            "Resultados del Accuracy: [0.84269663 0.85393258 0.82954545 0.81818182 0.85227273 0.80681818\n",
            " 0.82954545 0.84090909 0.78409091 0.81818182]\n"
          ]
        }
      ]
    },
    {
      "cell_type": "code",
      "source": [
        "plt.figure(figsize=(8, 6))  # Ajusta el tamaño del gráfico si es necesario\n",
        "plt.boxplot(resultados_accuracy)\n",
        "plt.title('Boxplot de Precisión en Validación Cruzada')\n",
        "plt.ylabel('Precisión (Accuracy)')\n",
        "plt.show()"
      ],
      "metadata": {
        "colab": {
          "base_uri": "https://localhost:8080/",
          "height": 545
        },
        "id": "xQOnyOFFLA2z",
        "outputId": "de8ce216-96e1-4d7f-f338-ff2928322cdc"
      },
      "execution_count": null,
      "outputs": [
        {
          "output_type": "display_data",
          "data": {
            "text/plain": [
              "<Figure size 800x600 with 1 Axes>"
            ],
            "image/png": "[encoded data removed]"
          },
          "metadata": {}
        }
      ]
    },
    {
      "cell_type": "code",
      "execution_count": null,
      "metadata": {
        "id": "-vAmtoC17zsg",
        "colab": {
          "base_uri": "https://localhost:8080/",
          "height": 98
        },
        "outputId": "60cbc1d6-9c9c-4ee0-a32c-520a72b8a44d"
      },
      "outputs": [
        {
          "output_type": "execute_result",
          "data": {
            "text/plain": [
              "          Modelo  Precisión Entrenamiento  Recall Entrenamiento  \\\n",
              "0  TreeDF_Afinar                 0.987654              0.982456   \n",
              "\n",
              "   F1 Entrenamiento  Accuracy Entrenamiento  Precision Prueba  Recall Prueba  \\\n",
              "0          0.985048                0.995181           0.88806       0.843972   \n",
              "\n",
              "   F1 Prueba  Accuracy Prueba  \n",
              "0   0.865455          0.95805  "
            ],
            "text/html": [
              "\n",
              "  <div id=\"df-90447ae5-fa9d-4bbc-9f98-744dbe8d53c0\" class=\"colab-df-container\">\n",
              "    <div>\n",
              "<style scoped>\n",
              "    .dataframe tbody tr th:only-of-type {\n",
              "        vertical-align: middle;\n",
              "    }\n",
              "\n",
              "    .dataframe tbody tr th {\n",
              "        vertical-align: top;\n",
              "    }\n",
              "\n",
              "    .dataframe thead th {\n",
              "        text-align: right;\n",
              "    }\n",
              "</style>\n",
              "<table border=\"1\" class=\"dataframe\">\n",
              "  <thead>\n",
              "    <tr style=\"text-align: right;\">\n",
              "      <th></th>\n",
              "      <th>Modelo</th>\n",
              "      <th>Precisión Entrenamiento</th>\n",
              "      <th>Recall Entrenamiento</th>\n",
              "      <th>F1 Entrenamiento</th>\n",
              "      <th>Accuracy Entrenamiento</th>\n",
              "      <th>Precision Prueba</th>\n",
              "      <th>Recall Prueba</th>\n",
              "      <th>F1 Prueba</th>\n",
              "      <th>Accuracy Prueba</th>\n",
              "    </tr>\n",
              "  </thead>\n",
              "  <tbody>\n",
              "    <tr>\n",
              "      <th>0</th>\n",
              "      <td>TreeDF_Afinar</td>\n",
              "      <td>0.987654</td>\n",
              "      <td>0.982456</td>\n",
              "      <td>0.985048</td>\n",
              "      <td>0.995181</td>\n",
              "      <td>0.88806</td>\n",
              "      <td>0.843972</td>\n",
              "      <td>0.865455</td>\n",
              "      <td>0.95805</td>\n",
              "    </tr>\n",
              "  </tbody>\n",
              "</table>\n",
              "</div>\n",
              "    <div class=\"colab-df-buttons\">\n",
              "\n",
              "  <div class=\"colab-df-container\">\n",
              "    <button class=\"colab-df-convert\" onclick=\"convertToInteractive('df-90447ae5-fa9d-4bbc-9f98-744dbe8d53c0')\"\n",
              "            title=\"Convert this dataframe to an interactive table.\"\n",
              "            style=\"display:none;\">\n",
              "\n",
              "  <svg xmlns=\"http://www.w3.org/2000/svg\" height=\"24px\" viewBox=\"0 -960 960 960\">\n",
              "    <path d=\"M120-120v-720h720v720H120Zm60-500h600v-160H180v160Zm220 220h160v-160H400v160Zm0 220h160v-160H400v160ZM180-400h160v-160H180v160Zm440 0h160v-160H620v160ZM180-180h160v-160H180v160Zm440 0h160v-160H620v160Z\"/>\n",
              "  </svg>\n",
              "    </button>\n",
              "\n",
              "  <style>\n",
              "    .colab-df-container {\n",
              "      display:flex;\n",
              "      gap: 12px;\n",
              "    }\n",
              "\n",
              "    .colab-df-convert {\n",
              "      background-color: #E8F0FE;\n",
              "      border: none;\n",
              "      border-radius: 50%;\n",
              "      cursor: pointer;\n",
              "      display: none;\n",
              "      fill: #1967D2;\n",
              "      height: 32px;\n",
              "      padding: 0 0 0 0;\n",
              "      width: 32px;\n",
              "    }\n",
              "\n",
              "    .colab-df-convert:hover {\n",
              "      background-color: #E2EBFA;\n",
              "      box-shadow: 0px 1px 2px rgba(60, 64, 67, 0.3), 0px 1px 3px 1px rgba(60, 64, 67, 0.15);\n",
              "      fill: #174EA6;\n",
              "    }\n",
              "\n",
              "    .colab-df-buttons div {\n",
              "      margin-bottom: 4px;\n",
              "    }\n",
              "\n",
              "    [theme=dark] .colab-df-convert {\n",
              "      background-color: #3B4455;\n",
              "      fill: #D2E3FC;\n",
              "    }\n",
              "\n",
              "    [theme=dark] .colab-df-convert:hover {\n",
              "      background-color: #434B5C;\n",
              "      box-shadow: 0px 1px 3px 1px rgba(0, 0, 0, 0.15);\n",
              "      filter: drop-shadow(0px 1px 2px rgba(0, 0, 0, 0.3));\n",
              "      fill: #FFFFFF;\n",
              "    }\n",
              "  </style>\n",
              "\n",
              "    <script>\n",
              "      const buttonEl =\n",
              "        document.querySelector('#df-90447ae5-fa9d-4bbc-9f98-744dbe8d53c0 button.colab-df-convert');\n",
              "      buttonEl.style.display =\n",
              "        google.colab.kernel.accessAllowed ? 'block' : 'none';\n",
              "\n",
              "      async function convertToInteractive(key) {\n",
              "        const element = document.querySelector('#df-90447ae5-fa9d-4bbc-9f98-744dbe8d53c0');\n",
              "        const dataTable =\n",
              "          await google.colab.kernel.invokeFunction('convertToInteractive',\n",
              "                                                    [key], {});\n",
              "        if (!dataTable) return;\n",
              "\n",
              "        const docLinkHtml = 'Like what you see? Visit the ' +\n",
              "          '<a target=\"_blank\" href=https://colab.research.google.com/notebooks/data_table.ipynb>data table notebook</a>'\n",
              "          + ' to learn more about interactive tables.';\n",
              "        element.innerHTML = '';\n",
              "        dataTable['output_type'] = 'display_data';\n",
              "        await google.colab.output.renderOutput(dataTable, element);\n",
              "        const docLink = document.createElement('div');\n",
              "        docLink.innerHTML = docLinkHtml;\n",
              "        element.appendChild(docLink);\n",
              "      }\n",
              "    </script>\n",
              "  </div>\n",
              "\n",
              "    </div>\n",
              "  </div>\n"
            ]
          },
          "metadata": {},
          "execution_count": 216
        }
      ],
      "source": [
        "# Crear un DataFrame a partir de la lista de resultados\n",
        "df_afinarparametros = pd.DataFrame(parametros, columns=['Modelo', 'Precisión Entrenamiento','Recall Entrenamiento','F1 Entrenamiento','Accuracy Entrenamiento',\n",
        "                                                     'Precision Prueba','Recall Prueba','F1 Prueba','Accuracy Prueba'])\n",
        "\n",
        "# Imprimir el DataFrame\n",
        "df_afinarparametros"
      ]
    },
    {
      "cell_type": "markdown",
      "source": [
        "##Conclusiones y recomendaciones\n"
      ],
      "metadata": {
        "id": "UD7ZM8BvdlYa"
      }
    },
    {
      "cell_type": "code",
      "execution_count": null,
      "metadata": {
        "id": "uwIA-CcgFAzL"
      },
      "outputs": [],
      "source": [
        "renuncia_si = dfdata[dfdata['Attrition'] == 'Yes']"
      ]
    },
    {
      "cell_type": "code",
      "execution_count": null,
      "metadata": {
        "id": "JRJCNgXOTFdb"
      },
      "outputs": [],
      "source": [
        "renuncia_no = dfdata[dfdata['Attrition'] == 'No']"
      ]
    },
    {
      "cell_type": "code",
      "execution_count": null,
      "metadata": {
        "id": "REjCdfF4UfPV",
        "colab": {
          "base_uri": "https://localhost:8080/"
        },
        "outputId": "8be21e42-f26e-43d3-9269-4dc6bd3b4c8e"
      },
      "outputs": [
        {
          "output_type": "execute_result",
          "data": {
            "text/plain": [
              "1       4\n",
              "6       1\n",
              "13      2\n",
              "28      1\n",
              "30      3\n",
              "       ..\n",
              "4381    2\n",
              "4386    1\n",
              "4388    4\n",
              "4391    1\n",
              "4402    3\n",
              "Name: WorkLifeBalance, Length: 711, dtype: int64"
            ]
          },
          "metadata": {},
          "execution_count": 189
        }
      ],
      "source": [
        "renuncia_si.WorkLifeBalance"
      ]
    },
    {
      "cell_type": "code",
      "execution_count": null,
      "metadata": {
        "id": "eNRyCGR0UX6c",
        "colab": {
          "base_uri": "https://localhost:8080/",
          "height": 542
        },
        "outputId": "27145ab6-553e-4583-ea54-e73ca657a7ee"
      },
      "outputs": [
        {
          "output_type": "display_data",
          "data": {
            "text/html": [
              "<html>\n",
              "<head><meta charset=\"utf-8\" /></head>\n",
              "<body>\n",
              "    <div>            <script src=\"https://cdnjs.cloudflare.com/ajax/libs/mathjax/2.7.5/MathJax.js?config=TeX-AMS-MML_SVG\"></script><script type=\"text/javascript\">if (window.MathJax && window.MathJax.Hub && window.MathJax.Hub.Config) {window.MathJax.Hub.Config({SVG: {font: \"STIX-Web\"}});}</script>                <script type=\"text/javascript\">window.PlotlyConfig = {MathJaxConfig: 'local'};</script>\n",
              "        <script charset=\"utf-8\" src=\"https://cdn.plot.ly/plotly-2.24.1.min.js\"></script>                <div id=\"1bacfb9d-ef15-4c71-8053-d0a6b7d69ab4\" class=\"plotly-graph-div\" style=\"height:525px; width:100%;\"></div>            <script type=\"text/javascript\">                                    window.PLOTLYENV=window.PLOTLYENV || {};                                    if (document.getElementById(\"1bacfb9d-ef15-4c71-8053-d0a6b7d69ab4\")) {                    Plotly.newPlot(                        \"1bacfb9d-ef15-4c71-8053-d0a6b7d69ab4\",                        [{\"alignmentgroup\":\"True\",\"hovertemplate\":\"WorkLifeBalance=%{x}\\u003cbr\\u003eEmployeeID=%{y}\\u003cextra\\u003e\\u003c\\u002fextra\\u003e\",\"legendgroup\":\"\",\"marker\":{\"color\":\"#636efa\",\"pattern\":{\"shape\":\"\"}},\"name\":\"\",\"offsetgroup\":\"\",\"orientation\":\"v\",\"showlegend\":false,\"textposition\":\"auto\",\"x\":[4,1,2,1,3,3,3,2,2,2,2,3,3,3,3,3,2,3,3,3,3,2,4,4,4,3,3,3,3,2,3,1,3,3,4,1,3,3,3,3,3,3,3,3,2,3,3,2,3,3,3,3,2,4,2,3,2,3,1,2,2,2,4,2,1,3,4,3,3,1,3,2,3,3,3,1,3,3,1,3,3,3,2,3,3,2,4,2,3,3,3,4,2,3,3,3,3,3,3,2,1,2,2,2,3,3,1,1,4,3,3,1,3,3,3,3,3,2,4,4,2,2,4,2,2,3,3,3,3,4,3,4,4,3,1,3,4,1,4,2,2,1,1,1,3,3,3,3,3,4,3,2,1,4,3,3,3,3,3,1,3,3,2,3,2,3,3,3,3,2,3,2,1,3,4,3,3,2,2,3,2,3,3,3,3,3,3,3,2,3,2,2,4,1,3,3,1,3,3,3,3,3,4,2,3,2,3,3,2,2,3,3,3,3,3,3,2,2,2,3,3,4,4,2,2,3,3,2,2,3,2,2,2,1,4,1,3,4,1,2,1,3,3,3,2,2,2,2,3,3,3,3,3,2,3,3,3,3,2,4,4,4,3,3,3,3,2,3,1,3,3,4,1,3,3,3,3,3,3,3,3,2,3,3,3,3,3,3,3,2,4,2,3,3,3,1,2,2,2,4,2,1,3,4,3,3,1,3,2,3,3,3,1,3,3,1,3,3,3,2,3,3,2,4,2,3,3,3,4,2,3,3,3,3,3,3,2,1,2,2,2,3,3,1,1,4,3,3,1,3,3,3,3,3,2,4,4,2,2,4,2,2,3,3,3,3,4,3,4,4,3,1,3,4,1,4,2,2,1,1,1,3,3,3,3,3,4,3,2,1,4,3,3,3,3,3,1,3,3,2,3,2,3,3,3,3,2,3,2,1,3,4,3,3,2,2,3,2,3,3,3,3,3,3,3,2,3,2,2,4,1,3,3,1,3,3,3,3,3,4,2,3,2,3,3,2,2,3,3,3,3,3,3,2,2,2,3,3,4,4,2,2,3,3,2,2,3,3,2,2,1,4,1,3,4,1,2,1,3,3,3,2,2,2,2,3,3,3,3,3,2,3,3,3,3,2,4,4,4,3,3,3,3,2,3,1,3,3,4,1,3,3,3,3,3,3,3,3,2,3,3,2,3,3,3,3,2,4,2,3,2,3,1,2,2,2,4,2,1,3,4,3,3,1,3,2,3,3,3,1,3,3,1,3,3,3,2,3,3,2,4,2,3,3,3,4,2,3,3,3,3,3,3,2,1,2,2,2,3,3,1,1,4,3,3,1,3,3,3,3,3,2,4,4,2,2,4,2,2,3,3,3,3,4,3,4,4,3,1,3,4,1,4,2,2,1,1,1,3,3,3,3,3,4,3,2,1,4,3,3,3,3,3,1,3,3,2,3,2,3,3,3,3,2,3,2,1,3,4,3,3,2,2,3,2,3,3,3,3,3,3,3,2,3,2,2,4,1,3,3,1,3,3,3,3,3,4,2,3,2,3,3,2,2,3,3,3,3,3,3,2,2,2,3,3,4,4,2,2,3,3,2,2,3,2,2,2,1,4,1,3],\"xaxis\":\"x\",\"y\":[2,7,14,29,31,36,39,60,66,70,79,100,106,109,111,113,121,125,128,148,157,158,164,165,178,179,182,183,186,196,200,206,212,222,223,225,238,247,256,257,268,271,283,290,305,309,311,316,328,332,334,338,341,350,351,357,379,388,399,403,405,406,409,410,412,426,431,432,436,438,443,449,452,454,463,468,474,475,487,491,492,495,504,505,519,520,522,523,532,534,535,539,540,541,543,544,556,571,572,574,579,581,585,592,600,603,607,614,635,654,656,658,671,675,682,683,689,690,695,696,709,718,723,724,728,740,749,750,755,759,764,774,775,776,779,782,799,800,801,803,811,820,826,828,849,853,854,855,879,896,905,910,914,929,944,947,948,956,965,966,979,980,989,992,998,1000,1005,1014,1016,1022,1024,1033,1034,1040,1041,1055,1056,1069,1075,1076,1081,1082,1096,1097,1108,1112,1118,1122,1133,1138,1139,1181,1185,1187,1195,1204,1213,1215,1227,1234,1237,1239,1246,1247,1249,1255,1258,1263,1264,1282,1302,1313,1315,1320,1324,1335,1337,1339,1340,1345,1349,1353,1384,1390,1395,1405,1417,1418,1423,1427,1429,1430,1442,1447,1449,1452,1463,1472,1477,1484,1499,1501,1506,1509,1530,1536,1540,1549,1570,1576,1579,1581,1583,1591,1595,1598,1618,1627,1628,1634,1635,1648,1649,1652,1653,1656,1666,1670,1676,1682,1692,1693,1695,1708,1717,1726,1727,1738,1741,1753,1760,1775,1779,1781,1786,1798,1802,1804,1808,1811,1820,1821,1827,1849,1858,1869,1873,1875,1876,1879,1880,1882,1896,1901,1902,1906,1908,1913,1919,1922,1924,1933,1938,1944,1945,1957,1961,1962,1965,1974,1975,1989,1990,1992,1993,2002,2004,2005,2009,2010,2011,2013,2014,2026,2041,2042,2044,2049,2051,2055,2062,2070,2073,2077,2084,2105,2124,2126,2128,2141,2145,2152,2153,2159,2160,2165,2166,2179,2188,2193,2194,2198,2210,2219,2220,2225,2229,2234,2244,2245,2246,2249,2252,2269,2270,2271,2273,2281,2290,2296,2298,2319,2323,2324,2325,2349,2366,2375,2380,2384,2399,2414,2417,2418,2426,2435,2436,2449,2450,2459,2462,2468,2470,2475,2484,2486,2492,2494,2503,2504,2510,2511,2525,2526,2539,2545,2546,2551,2552,2566,2567,2578,2582,2588,2592,2603,2608,2609,2651,2655,2657,2665,2674,2683,2685,2697,2704,2707,2709,2716,2717,2719,2725,2728,2733,2734,2752,2772,2783,2785,2790,2794,2805,2807,2809,2810,2815,2819,2823,2854,2860,2865,2875,2887,2888,2893,2897,2899,2900,2912,2917,2919,2922,2933,2942,2947,2954,2969,2971,2976,2979,3000,3006,3010,3019,3040,3046,3049,3051,3053,3061,3065,3068,3088,3097,3098,3104,3105,3118,3119,3122,3123,3126,3136,3140,3146,3152,3162,3163,3165,3178,3187,3196,3197,3208,3211,3223,3230,3245,3249,3251,3256,3268,3272,3274,3278,3281,3290,3291,3297,3319,3328,3339,3343,3345,3346,3349,3350,3352,3366,3371,3372,3376,3378,3383,3389,3392,3394,3403,3408,3414,3415,3427,3431,3432,3435,3444,3445,3459,3460,3462,3463,3472,3474,3475,3479,3480,3481,3483,3484,3496,3511,3512,3514,3519,3521,3525,3532,3540,3543,3547,3554,3575,3594,3596,3598,3611,3615,3622,3623,3629,3630,3635,3636,3649,3658,3663,3664,3668,3680,3689,3690,3695,3699,3704,3714,3715,3716,3719,3722,3739,3740,3741,3743,3751,3760,3766,3768,3789,3793,3794,3795,3819,3836,3845,3850,3854,3869,3884,3887,3888,3896,3905,3906,3919,3920,3929,3932,3938,3940,3945,3954,3956,3962,3964,3973,3974,3980,3981,3995,3996,4009,4015,4016,4021,4022,4036,4037,4048,4052,4058,4062,4073,4078,4079,4121,4125,4127,4135,4144,4153,4155,4167,4174,4177,4179,4186,4187,4189,4195,4198,4203,4204,4222,4242,4253,4255,4260,4264,4275,4277,4279,4280,4285,4289,4293,4324,4330,4335,4345,4357,4358,4363,4367,4369,4370,4382,4387,4389,4392,4403],\"yaxis\":\"y\",\"type\":\"bar\"}],                        {\"template\":{\"data\":{\"barpolar\":[{\"marker\":{\"line\":{\"color\":\"white\",\"width\":0.5},\"pattern\":{\"fillmode\":\"overlay\",\"size\":10,\"solidity\":0.2}},\"type\":\"barpolar\"}],\"bar\":[{\"error_x\":{\"color\":\"rgb(36,36,36)\"},\"error_y\":{\"color\":\"rgb(36,36,36)\"},\"marker\":{\"line\":{\"color\":\"white\",\"width\":0.5},\"pattern\":{\"fillmode\":\"overlay\",\"size\":10,\"solidity\":0.2}},\"type\":\"bar\"}],\"carpet\":[{\"aaxis\":{\"endlinecolor\":\"rgb(36,36,36)\",\"gridcolor\":\"white\",\"linecolor\":\"white\",\"minorgridcolor\":\"white\",\"startlinecolor\":\"rgb(36,36,36)\"},\"baxis\":{\"endlinecolor\":\"rgb(36,36,36)\",\"gridcolor\":\"white\",\"linecolor\":\"white\",\"minorgridcolor\":\"white\",\"startlinecolor\":\"rgb(36,36,36)\"},\"type\":\"carpet\"}],\"choropleth\":[{\"colorbar\":{\"outlinewidth\":1,\"tickcolor\":\"rgb(36,36,36)\",\"ticks\":\"outside\"},\"type\":\"choropleth\"}],\"contourcarpet\":[{\"colorbar\":{\"outlinewidth\":1,\"tickcolor\":\"rgb(36,36,36)\",\"ticks\":\"outside\"},\"type\":\"contourcarpet\"}],\"contour\":[{\"colorbar\":{\"outlinewidth\":1,\"tickcolor\":\"rgb(36,36,36)\",\"ticks\":\"outside\"},\"colorscale\":[[0.0,\"#440154\"],[0.1111111111111111,\"#482878\"],[0.2222222222222222,\"#3e4989\"],[0.3333333333333333,\"#31688e\"],[0.4444444444444444,\"#26828e\"],[0.5555555555555556,\"#1f9e89\"],[0.6666666666666666,\"#35b779\"],[0.7777777777777778,\"#6ece58\"],[0.8888888888888888,\"#b5de2b\"],[1.0,\"#fde725\"]],\"type\":\"contour\"}],\"heatmapgl\":[{\"colorbar\":{\"outlinewidth\":1,\"tickcolor\":\"rgb(36,36,36)\",\"ticks\":\"outside\"},\"colorscale\":[[0.0,\"#440154\"],[0.1111111111111111,\"#482878\"],[0.2222222222222222,\"#3e4989\"],[0.3333333333333333,\"#31688e\"],[0.4444444444444444,\"#26828e\"],[0.5555555555555556,\"#1f9e89\"],[0.6666666666666666,\"#35b779\"],[0.7777777777777778,\"#6ece58\"],[0.8888888888888888,\"#b5de2b\"],[1.0,\"#fde725\"]],\"type\":\"heatmapgl\"}],\"heatmap\":[{\"colorbar\":{\"outlinewidth\":1,\"tickcolor\":\"rgb(36,36,36)\",\"ticks\":\"outside\"},\"colorscale\":[[0.0,\"#440154\"],[0.1111111111111111,\"#482878\"],[0.2222222222222222,\"#3e4989\"],[0.3333333333333333,\"#31688e\"],[0.4444444444444444,\"#26828e\"],[0.5555555555555556,\"#1f9e89\"],[0.6666666666666666,\"#35b779\"],[0.7777777777777778,\"#6ece58\"],[0.8888888888888888,\"#b5de2b\"],[1.0,\"#fde725\"]],\"type\":\"heatmap\"}],\"histogram2dcontour\":[{\"colorbar\":{\"outlinewidth\":1,\"tickcolor\":\"rgb(36,36,36)\",\"ticks\":\"outside\"},\"colorscale\":[[0.0,\"#440154\"],[0.1111111111111111,\"#482878\"],[0.2222222222222222,\"#3e4989\"],[0.3333333333333333,\"#31688e\"],[0.4444444444444444,\"#26828e\"],[0.5555555555555556,\"#1f9e89\"],[0.6666666666666666,\"#35b779\"],[0.7777777777777778,\"#6ece58\"],[0.8888888888888888,\"#b5de2b\"],[1.0,\"#fde725\"]],\"type\":\"histogram2dcontour\"}],\"histogram2d\":[{\"colorbar\":{\"outlinewidth\":1,\"tickcolor\":\"rgb(36,36,36)\",\"ticks\":\"outside\"},\"colorscale\":[[0.0,\"#440154\"],[0.1111111111111111,\"#482878\"],[0.2222222222222222,\"#3e4989\"],[0.3333333333333333,\"#31688e\"],[0.4444444444444444,\"#26828e\"],[0.5555555555555556,\"#1f9e89\"],[0.6666666666666666,\"#35b779\"],[0.7777777777777778,\"#6ece58\"],[0.8888888888888888,\"#b5de2b\"],[1.0,\"#fde725\"]],\"type\":\"histogram2d\"}],\"histogram\":[{\"marker\":{\"line\":{\"color\":\"white\",\"width\":0.6}},\"type\":\"histogram\"}],\"mesh3d\":[{\"colorbar\":{\"outlinewidth\":1,\"tickcolor\":\"rgb(36,36,36)\",\"ticks\":\"outside\"},\"type\":\"mesh3d\"}],\"parcoords\":[{\"line\":{\"colorbar\":{\"outlinewidth\":1,\"tickcolor\":\"rgb(36,36,36)\",\"ticks\":\"outside\"}},\"type\":\"parcoords\"}],\"pie\":[{\"automargin\":true,\"type\":\"pie\"}],\"scatter3d\":[{\"line\":{\"colorbar\":{\"outlinewidth\":1,\"tickcolor\":\"rgb(36,36,36)\",\"ticks\":\"outside\"}},\"marker\":{\"colorbar\":{\"outlinewidth\":1,\"tickcolor\":\"rgb(36,36,36)\",\"ticks\":\"outside\"}},\"type\":\"scatter3d\"}],\"scattercarpet\":[{\"marker\":{\"colorbar\":{\"outlinewidth\":1,\"tickcolor\":\"rgb(36,36,36)\",\"ticks\":\"outside\"}},\"type\":\"scattercarpet\"}],\"scattergeo\":[{\"marker\":{\"colorbar\":{\"outlinewidth\":1,\"tickcolor\":\"rgb(36,36,36)\",\"ticks\":\"outside\"}},\"type\":\"scattergeo\"}],\"scattergl\":[{\"marker\":{\"colorbar\":{\"outlinewidth\":1,\"tickcolor\":\"rgb(36,36,36)\",\"ticks\":\"outside\"}},\"type\":\"scattergl\"}],\"scattermapbox\":[{\"marker\":{\"colorbar\":{\"outlinewidth\":1,\"tickcolor\":\"rgb(36,36,36)\",\"ticks\":\"outside\"}},\"type\":\"scattermapbox\"}],\"scatterpolargl\":[{\"marker\":{\"colorbar\":{\"outlinewidth\":1,\"tickcolor\":\"rgb(36,36,36)\",\"ticks\":\"outside\"}},\"type\":\"scatterpolargl\"}],\"scatterpolar\":[{\"marker\":{\"colorbar\":{\"outlinewidth\":1,\"tickcolor\":\"rgb(36,36,36)\",\"ticks\":\"outside\"}},\"type\":\"scatterpolar\"}],\"scatter\":[{\"fillpattern\":{\"fillmode\":\"overlay\",\"size\":10,\"solidity\":0.2},\"type\":\"scatter\"}],\"scatterternary\":[{\"marker\":{\"colorbar\":{\"outlinewidth\":1,\"tickcolor\":\"rgb(36,36,36)\",\"ticks\":\"outside\"}},\"type\":\"scatterternary\"}],\"surface\":[{\"colorbar\":{\"outlinewidth\":1,\"tickcolor\":\"rgb(36,36,36)\",\"ticks\":\"outside\"},\"colorscale\":[[0.0,\"#440154\"],[0.1111111111111111,\"#482878\"],[0.2222222222222222,\"#3e4989\"],[0.3333333333333333,\"#31688e\"],[0.4444444444444444,\"#26828e\"],[0.5555555555555556,\"#1f9e89\"],[0.6666666666666666,\"#35b779\"],[0.7777777777777778,\"#6ece58\"],[0.8888888888888888,\"#b5de2b\"],[1.0,\"#fde725\"]],\"type\":\"surface\"}],\"table\":[{\"cells\":{\"fill\":{\"color\":\"rgb(237,237,237)\"},\"line\":{\"color\":\"white\"}},\"header\":{\"fill\":{\"color\":\"rgb(217,217,217)\"},\"line\":{\"color\":\"white\"}},\"type\":\"table\"}]},\"layout\":{\"annotationdefaults\":{\"arrowhead\":0,\"arrowwidth\":1},\"autotypenumbers\":\"strict\",\"coloraxis\":{\"colorbar\":{\"outlinewidth\":1,\"tickcolor\":\"rgb(36,36,36)\",\"ticks\":\"outside\"}},\"colorscale\":{\"diverging\":[[0.0,\"rgb(103,0,31)\"],[0.1,\"rgb(178,24,43)\"],[0.2,\"rgb(214,96,77)\"],[0.3,\"rgb(244,165,130)\"],[0.4,\"rgb(253,219,199)\"],[0.5,\"rgb(247,247,247)\"],[0.6,\"rgb(209,229,240)\"],[0.7,\"rgb(146,197,222)\"],[0.8,\"rgb(67,147,195)\"],[0.9,\"rgb(33,102,172)\"],[1.0,\"rgb(5,48,97)\"]],\"sequential\":[[0.0,\"#440154\"],[0.1111111111111111,\"#482878\"],[0.2222222222222222,\"#3e4989\"],[0.3333333333333333,\"#31688e\"],[0.4444444444444444,\"#26828e\"],[0.5555555555555556,\"#1f9e89\"],[0.6666666666666666,\"#35b779\"],[0.7777777777777778,\"#6ece58\"],[0.8888888888888888,\"#b5de2b\"],[1.0,\"#fde725\"]],\"sequentialminus\":[[0.0,\"#440154\"],[0.1111111111111111,\"#482878\"],[0.2222222222222222,\"#3e4989\"],[0.3333333333333333,\"#31688e\"],[0.4444444444444444,\"#26828e\"],[0.5555555555555556,\"#1f9e89\"],[0.6666666666666666,\"#35b779\"],[0.7777777777777778,\"#6ece58\"],[0.8888888888888888,\"#b5de2b\"],[1.0,\"#fde725\"]]},\"colorway\":[\"#1F77B4\",\"#FF7F0E\",\"#2CA02C\",\"#D62728\",\"#9467BD\",\"#8C564B\",\"#E377C2\",\"#7F7F7F\",\"#BCBD22\",\"#17BECF\"],\"font\":{\"color\":\"rgb(36,36,36)\"},\"geo\":{\"bgcolor\":\"white\",\"lakecolor\":\"white\",\"landcolor\":\"white\",\"showlakes\":true,\"showland\":true,\"subunitcolor\":\"white\"},\"hoverlabel\":{\"align\":\"left\"},\"hovermode\":\"closest\",\"mapbox\":{\"style\":\"light\"},\"paper_bgcolor\":\"white\",\"plot_bgcolor\":\"white\",\"polar\":{\"angularaxis\":{\"gridcolor\":\"rgb(232,232,232)\",\"linecolor\":\"rgb(36,36,36)\",\"showgrid\":false,\"showline\":true,\"ticks\":\"outside\"},\"bgcolor\":\"white\",\"radialaxis\":{\"gridcolor\":\"rgb(232,232,232)\",\"linecolor\":\"rgb(36,36,36)\",\"showgrid\":false,\"showline\":true,\"ticks\":\"outside\"}},\"scene\":{\"xaxis\":{\"backgroundcolor\":\"white\",\"gridcolor\":\"rgb(232,232,232)\",\"gridwidth\":2,\"linecolor\":\"rgb(36,36,36)\",\"showbackground\":true,\"showgrid\":false,\"showline\":true,\"ticks\":\"outside\",\"zeroline\":false,\"zerolinecolor\":\"rgb(36,36,36)\"},\"yaxis\":{\"backgroundcolor\":\"white\",\"gridcolor\":\"rgb(232,232,232)\",\"gridwidth\":2,\"linecolor\":\"rgb(36,36,36)\",\"showbackground\":true,\"showgrid\":false,\"showline\":true,\"ticks\":\"outside\",\"zeroline\":false,\"zerolinecolor\":\"rgb(36,36,36)\"},\"zaxis\":{\"backgroundcolor\":\"white\",\"gridcolor\":\"rgb(232,232,232)\",\"gridwidth\":2,\"linecolor\":\"rgb(36,36,36)\",\"showbackground\":true,\"showgrid\":false,\"showline\":true,\"ticks\":\"outside\",\"zeroline\":false,\"zerolinecolor\":\"rgb(36,36,36)\"}},\"shapedefaults\":{\"fillcolor\":\"black\",\"line\":{\"width\":0},\"opacity\":0.3},\"ternary\":{\"aaxis\":{\"gridcolor\":\"rgb(232,232,232)\",\"linecolor\":\"rgb(36,36,36)\",\"showgrid\":false,\"showline\":true,\"ticks\":\"outside\"},\"baxis\":{\"gridcolor\":\"rgb(232,232,232)\",\"linecolor\":\"rgb(36,36,36)\",\"showgrid\":false,\"showline\":true,\"ticks\":\"outside\"},\"bgcolor\":\"white\",\"caxis\":{\"gridcolor\":\"rgb(232,232,232)\",\"linecolor\":\"rgb(36,36,36)\",\"showgrid\":false,\"showline\":true,\"ticks\":\"outside\"}},\"title\":{\"x\":0.05},\"xaxis\":{\"automargin\":true,\"gridcolor\":\"rgb(232,232,232)\",\"linecolor\":\"rgb(36,36,36)\",\"showgrid\":false,\"showline\":true,\"ticks\":\"outside\",\"title\":{\"standoff\":15},\"zeroline\":false,\"zerolinecolor\":\"rgb(36,36,36)\"},\"yaxis\":{\"automargin\":true,\"gridcolor\":\"rgb(232,232,232)\",\"linecolor\":\"rgb(36,36,36)\",\"showgrid\":false,\"showline\":true,\"ticks\":\"outside\",\"title\":{\"standoff\":15},\"zeroline\":false,\"zerolinecolor\":\"rgb(36,36,36)\"}}},\"xaxis\":{\"anchor\":\"y\",\"domain\":[0.0,1.0],\"title\":{\"text\":\"A\\u00f1os trabajado\"}},\"yaxis\":{\"anchor\":\"x\",\"domain\":[0.0,1.0],\"title\":{\"text\":\"Numero de trabajadores\"}},\"legend\":{\"tracegroupgap\":0,\"title\":{\"text\":\"A\\u00f1os trabajado\"}},\"title\":{\"text\":\"\\u003cb\\u003eEdad de los que renunciaron \\u003cb\\u003e\",\"x\":0.5},\"barmode\":\"relative\"},                        {\"responsive\": true}                    ).then(function(){\n",
              "                            \n",
              "var gd = document.getElementById('1bacfb9d-ef15-4c71-8053-d0a6b7d69ab4');\n",
              "var x = new MutationObserver(function (mutations, observer) {{\n",
              "        var display = window.getComputedStyle(gd).display;\n",
              "        if (!display || display === 'none') {{\n",
              "            console.log([gd, 'removed!']);\n",
              "            Plotly.purge(gd);\n",
              "            observer.disconnect();\n",
              "        }}\n",
              "}});\n",
              "\n",
              "// Listen for the removal of the full notebook cells\n",
              "var notebookContainer = gd.closest('#notebook-container');\n",
              "if (notebookContainer) {{\n",
              "    x.observe(notebookContainer, {childList: true});\n",
              "}}\n",
              "\n",
              "// Listen for the clearing of the current output cell\n",
              "var outputEl = gd.closest('.output');\n",
              "if (outputEl) {{\n",
              "    x.observe(outputEl, {childList: true});\n",
              "}}\n",
              "\n",
              "                        })                };                            </script>        </div>\n",
              "</body>\n",
              "</html>"
            ]
          },
          "metadata": {}
        }
      ],
      "source": [
        "fig= px.bar(renuncia_si, x='WorkLifeBalance', y='EmployeeID', title= '<b>Edad de los que renunciaron <b>')\n",
        "fig.update_layout(\n",
        "    xaxis_title='Años trabajado',\n",
        "    yaxis_title='Numero de trabajadores',\n",
        "    legend_title='Años trabajado',\n",
        "    template= 'simple_white', #color del fondo\n",
        "    title_x=0.5, #ubicacion del titulo\n",
        "\n",
        ")"
      ]
    },
    {
      "cell_type": "code",
      "execution_count": null,
      "metadata": {
        "id": "Yeumo9vXTLDo",
        "colab": {
          "base_uri": "https://localhost:8080/",
          "height": 542
        },
        "outputId": "a2c8ce77-5f71-4d15-92a9-f4c21825cb25"
      },
      "outputs": [
        {
          "output_type": "display_data",
          "data": {
            "text/html": [
              "<html>\n",
              "<head><meta charset=\"utf-8\" /></head>\n",
              "<body>\n",
              "    <div>            <script src=\"https://cdnjs.cloudflare.com/ajax/libs/mathjax/2.7.5/MathJax.js?config=TeX-AMS-MML_SVG\"></script><script type=\"text/javascript\">if (window.MathJax && window.MathJax.Hub && window.MathJax.Hub.Config) {window.MathJax.Hub.Config({SVG: {font: \"STIX-Web\"}});}</script>                <script type=\"text/javascript\">window.PlotlyConfig = {MathJaxConfig: 'local'};</script>\n",
              "        <script charset=\"utf-8\" src=\"https://cdn.plot.ly/plotly-2.24.1.min.js\"></script>                <div id=\"74946a77-abed-466f-9462-985e40880fd6\" class=\"plotly-graph-div\" style=\"height:525px; width:100%;\"></div>            <script type=\"text/javascript\">                                    window.PLOTLYENV=window.PLOTLYENV || {};                                    if (document.getElementById(\"74946a77-abed-466f-9462-985e40880fd6\")) {                    Plotly.newPlot(                        \"74946a77-abed-466f-9462-985e40880fd6\",                        [{\"alignmentgroup\":\"True\",\"hovertemplate\":\"JobSatisfaction=%{x}\\u003cbr\\u003eEmployeeID=%{y}\\u003cextra\\u003e\\u003c\\u002fextra\\u003e\",\"legendgroup\":\"\",\"marker\":{\"color\":\"#636efa\",\"pattern\":{\"shape\":\"\"}},\"name\":\"\",\"offsetgroup\":\"\",\"orientation\":\"v\",\"showlegend\":false,\"textposition\":\"auto\",\"x\":[4,2,4,1,2,2,4,1,4,4,1,4,4,3,4,2,1,2,2,3,3,4,4,1,4,4,4,1,2,2,4,2,2,4,2,2,3,1,4,4,2,3,2,3,4,1,1,4,2,1,4,3,2,2,3,4,4,4,3,4,4,3,3,2,3,1,4,4,4,3,2,4,4,4,2,2,4,2,3,4,3,3,2,3,1,3,3,4,4,4,3,3,4,1,3,4,2,4,2,2,4,3,4,3,4,3,2,2,3,1,2,1,2,2,3,1,3,1,4,3,4,3,1,3,1,3,1,1,3,4,4,3,4,1,3,4,4,3,4,4,3,1,4,3,4,1,4,3,3,3,3,4,2,2,3,3,4,4,2,4,3,3,3,4,1,2,4,3,4,1,3,3,3,4,4,3,1,2,1,4,3,2,3,4,2,2,2,3,4,4,4,3,3,2,4,4,1,3,1,3,3,3,4,3,3,4,3,1,4,4,3,3,4,4,2,2,4,3,1,2,4,4,2,4,4,3,2,3,4,4,1,4,1,1,3,4,1,1,3,2,1,3,3,3,4,3,4,3,1,2,4,4,1,2,4,1,4,3,1,1,4,3,3,4,1,4,4,3,4,1,4,1,1,1,4,3,2,1,4,2,3,3,3,4,2,3,3,4,2,3,3,4,3,2,1,4,1,4,3,2,4,4,3,2,1,1,1,4,4,4,4,1,3,4,3,4,4,4,4,1,1,3,4,1,1,4,2,2,4,4,4,2,4,4,4,4,2,1,4,2,4,1,4,2,4,4,3,3,2,3,1,2,3,4,2,3,3,4,1,2,2,1,1,3,4,2,1,4,2,4,3,4,3,3,4,4,3,3,4,3,4,4,4,2,3,2,1,4,3,3,3,3,1,4,3,3,1,4,1,3,3,3,4,4,4,3,4,4,2,3,4,4,3,1,4,4,3,4,4,2,2,3,2,3,3,2,1,3,4,3,3,4,1,4,1,1,1,3,3,4,3,2,3,4,3,4,4,1,2,4,4,3,2,3,4,2,3,2,1,3,2,2,4,4,2,4,2,3,2,4,4,3,3,4,4,3,3,3,3,1,3,2,4,4,4,2,1,4,1,1,4,1,3,4,3,3,4,1,3,3,1,2,1,1,2,1,3,3,3,4,4,4,1,4,2,3,1,4,2,4,2,1,4,1,3,4,4,4,1,1,4,4,3,2,2,3,4,4,4,3,2,3,4,3,4,2,2,1,2,4,2,3,1,2,3,2,4,2,4,3,3,1,2,4,2,2,3,4,3,1,4,1,1,3,3,2,3,3,2,3,4,4,1,3,2,1,1,4,2,1,4,4,2,4,4,4,2,3,3,3,3,4,1,4,2,4,3,4,2,3,3,3,3,4,4,1,1,3,4,4,1,1,4,1,4,2,1,2,1,1,4,1,4,3,1,3,3,4,2,3,3,4,1,2,4,1,2,1,3,2,3,3,2,1,1,3,4,3,3,3,2,1,3,2,3,3,3,3,2,3,3,1,1,2,2,3,4,4,1,2,2,2,3,3,4,3,2,4,1,2,4,4,1,3,4,1,4,2,3,2,4,3,3,1,3,1,2,1,1,4,4,4,4,2,2,3,1,3,3,4,3,3,1,4,3,3,1,2,4,1,3,3,4,4,2,1,1,1,3,4,1,1,1,1,1,4,3,3,3,3,3,3,4,3,2,4,4,4,4,3,4,3,1,3,2,2,1,3,2,2,3,3,1,3,3,4,2,4,2,4,1,2,2,3,3,1,4,3,4,3,4,4,2,4,4,2,4,4,4,4,4,3,3,3,4,3,3,2,3,3,2,1,1,2,3,4,2,4,2,4,4,3,2,3,1,4,3,4,3,1,4,2,4,2,1,3,2,4,2,1,2,1,3,3,4,4,3,4,3,2,4,1,2,1,4,3,2,1,1,4,2,4,3,2,3,3,4,3,2,3,2,1,4,1,1,4,4,3,3,3,2,4,4,4,4,3,3,4,4,3,3,1,3,2,3,2,1,4,4,2,3,3,4,1,1,2,4,4,1,3,3,4,1,2,2,1,4,4,3,4,3,3,4,3,2,4,2,1,1,2,4,4,4,4,1,3,1,2,4,3,1,1,4,1,1,4,4,4,3,3,3,2,2,4,1,3,3,1,3,4,3,2,2,2,3,3,3,2,3,3,1,4,2,3,3,3,4,2,4,2,4,3,4,4,3,4,4,1,4,4,2,3,3,2,3,4,2,1,4,4,4,3,3,3,3,4,2,1,4,1,3,4,1,2,2,3,2,3,2,4,1,3,3,3,2,3,3,4,1,2,4,4,4,3,2,4,3,2,4,1,4,4,3,3,4,1,1,4,1,3,4,3,2,4,4,1,1,4,4,1,1,4,3,4,4,3,1,3,3,2,1,1,3,2,2,2,4,4,1,1,3,2,4,3,4,4,2,4,1,4,4,2,4,2,1,3,3,3,3,3,2,1,3,4,4,2,4,4,1,4,3,2,4,1,4,4,4,3,2,3,2,4,1,3,4,3,3,2,3,3,4,4,3,3,4,1,4,1,1,2,2,2,3,2,4,3,3,2,4,3,4,2,4,4,3,2,3,4,4,3,2,2,1,1,1,4,1,4,4,2,3,1,2,3,2,3,2,3,2,4,4,1,2,3,3,4,1,4,3,4,2,4,4,1,3,3,2,4,4,1,2,2,4,3,3,4,4,4,3,4,4,3,4,4,3,2,3,4,1,4,4,3,4,1,1,3,3,4,1,4,3,4,3,4,2,4,1,2,2,4,1,4,4,1,4,4,3,4,2,1,2,2,3,3,4,4,1,4,4,4,1,2,2,4,2,2,4,2,2,3,1,4,4,2,3,2,3,4,1,1,4,2,1,4,3,2,2,3,4,4,4,3,4,4,3,3,2,3,1,4,4,4,3,2,4,4,4,2,2,4,2,3,4,3,3,2,3,1,3,3,4,4,4,3,3,4,1,3,4,2,4,2,2,4,3,4,3,4,3,2,2,3,1,2,1,2,2,3,1,3,1,4,3,4,3,1,3,1,3,1,1,3,4,4,3,4,1,3,4,4,3,4,4,3,1,4,3,4,1,4,3,3,3,3,4,2,2,3,3,4,4,2,4,3,3,3,4,1,2,4,3,4,1,3,3,3,4,4,3,4,2,1,4,3,2,3,4,2,2,2,3,4,4,4,3,3,2,4,4,1,3,1,3,3,3,4,3,3,4,3,1,4,4,3,3,4,4,2,2,4,3,1,2,4,4,2,4,4,3,2,3,4,4,1,4,1,1,3,4,1,1,3,2,1,3,3,3,4,3,4,3,1,2,4,4,1,2,4,1,4,3,1,1,4,3,3,4,1,4,4,3,4,1,4,1,1,1,4,3,2,1,4,2,3,3,3,4,2,3,3,4,2,3,3,4,3,2,1,4,1,4,3,2,4,4,3,2,1,1,1,4,4,4,4,1,3,4,3,4,4,4,4,1,1,3,4,1,1,4,2,2,4,4,4,2,4,4,4,4,2,1,4,2,4,1,4,2,4,4,3,3,2,3,1,2,3,4,2,3,3,4,1,2,2,1,1,3,4,2,1,4,2,4,3,4,3,3,4,4,3,3,4,3,4,4,4,2,3,2,1,4,3,3,3,3,1,4,3,3,1,4,1,3,3,3,4,4,4,3,4,4,2,3,4,4,3,1,4,4,3,4,4,2,2,3,2,3,3,2,1,3,4,3,3,4,1,4,1,1,1,3,3,4,3,2,3,4,3,4,4,1,2,4,4,3,2,3,4,2,3,2,1,3,2,2,4,4,2,4,2,3,2,4,4,3,3,4,4,3,3,3,3,1,3,2,4,3,4,2,1,4,1,1,4,1,3,4,3,3,4,1,3,3,1,2,1,1,2,1,3,3,3,4,4,4,1,4,2,3,1,4,2,4,2,1,4,1,3,4,4,4,1,1,4,4,3,2,2,3,4,4,4,3,2,3,4,3,4,2,2,1,2,4,2,3,1,2,3,2,4,2,4,3,3,1,2,4,2,2,3,4,3,1,4,1,1,3,3,2,3,3,2,3,4,4,1,3,2,1,1,4,2,1,4,4,2,4,4,4,2,3,3,3,3,4,1,4,2,4,3,4,2,3,3,3,3,4,4,1,1,3,4,4,1,1,4,1,4,2,1,2,1,1,4,1,4,3,1,3,3,4,2,3,3,4,1,2,4,1,2,1,3,2,3,3,2,1,1,3,4,3,3,3,2,1,3,2,3,3,3,3,2,3,3,1,1,2,2,3,4,4,1,2,2,2,3,3,4,3,2,4,1,2,4,4,1,3,4,1,4,2,3,2,4,3,3,1,3,1,2,1,1,4,4,4,4,2,2,3,1,3,3,4,3,3,1,4,3,3,1,2,4,1,3,3,4,4,2,1,1,1,3,4,1,1,1,1,1,4,3,3,3,3,3,3,4,3,2,4,4,4,4,3,4,3,1,3,2,2,1,3,2,2,3,3,1,3,3,4,2,4,2,4,1,2,2,3,3,1,4,3,4,3,4,4,2,4,4,2,4,4,4,4,4,3,3,3,4,3,3,2,3,3,2,1,1,2,3,4,2,4,2,4,4,3,2,3,1,4,3,4,3,1,4,2,4,2,1,3,2,4,2,4,2,1,3,3,4,4,3,4,3,2,4,1,2,1,4,3,2,1,1,4,2,4,3,2,3,3,4,3,2,3,2,1,4,1,1,4,4,3,3,3,2,4,4,4,4,3,3,4,4,3,3,1,3,2,3,2,1,4,4,2,3,3,4,1,1,2,4,4,1,3,3,4,1,2,2,1,4,4,3,4,3,3,4,3,2,4,2,1,1,2,4,4,4,4,1,3,1,2,4,3,1,1,4,1,1,4,4,4,3,3,3,2,2,4,1,3,3,1,3,4,3,2,2,2,3,3,3,2,3,3,1,4,2,3,3,3,4,2,4,2,4,3,4,4,3,4,4,1,4,4,2,3,3,2,3,4,2,1,4,4,4,3,3,3,3,4,2,1,4,1,3,4,1,2,2,3,2,3,2,4,1,3,3,3,2,3,3,4,1,2,4,4,4,3,2,4,4,2,4,1,4,4,3,3,4,1,1,4,1,3,4,3,2,4,4,1,1,4,4,1,1,4,3,4,4,3,1,3,3,2,1,1,3,2,2,2,4,4,1,1,3,2,4,3,4,4,2,4,1,4,4,2,4,2,1,3,3,3,3,3,2,1,3,4,4,2,4,4,1,4,3,2,4,1,4,4,4,3,2,3,2,4,1,3,4,3,3,2,3,3,4,4,3,3,4,1,4,1,1,2,2,2,3,2,4,3,3,2,4,3,4,2,4,4,3,2,3,4,4,3,2,2,1,1,1,4,1,4,4,2,3,1,2,3,2,3,2,3,2,4,4,1,2,3,3,4,1,4,3,4,2,4,4,1,3,3,2,4,4,1,2,2,4,3,3,4,4,4,3,4,4,3,4,4,3,2,3,4,1,4,4,3,4,1,1,3,3,4,1,4,3,1,3,4,2,4,1,2,2,4,1,4,4,1,4,4,3,4,2,1,2,2,3,3,4,4,1,4,4,4,1,2,2,4,2,2,4,2,2,3,1,4,4,2,3,2,3,4,1,1,4,2,1,4,3,2,2,3,4,4,4,3,4,4,3,3,2,3,1,4,4,4,3,2,4,4,4,2,2,4,2,3,4,3,3,2,3,1,3,3,4,4,4,3,3,4,1,3,4,2,4,2,2,4,3,4,3,4,3,2,2,3,1,2,1,2,2,3,1,3,1,4,3,4,3,1,3,1,3,4,1,3,4,4,3,4,1,3,4,4,3,4,4,3,1,4,3,4,1,4,3,3,3,3,4,2,2,3,3,4,4,2,4,3,3,3,4,1,2,4,3,4,1,3,3,3,4,4,3,1,2,1,4,3,2,3,4,2,2,2,3,4,4,4,3,3,2,4,4,1,3,1,3,3,3,4,3,3,4,3,1,4,4,3,3,4,4,2,2,4,3,1,2,4,4,2,4,4,3,2,3,4,4,1,4,1,1,3,4,1,1,3,2,1,3,3,3,4,3,4,3,1,2,4,4,1,2,4,1,4,3,1,1,4,3,3,4,1,4,4,3,4,1,4,1,1,1,4,3,2,1,4,2,3,3,3,4,2,3,3,4,2,3,3,4,3,2,1,4,1,4,3,2,4,4,3,2,1,1,1,4,4,4,4,1,3,4,3,4,4,4,4,1,1,3,4,1,1,4,2,2,4,4,4,2,4,4,4,4,2,1,4,2,4,1,4,2,4,4,3,3,2,3,1,2,3,4,2,3,3,4,1,2,2,1,1,3,4,2,1,4,2,4,3,4,3,3,4,4,3,3,4,3,4,4,4,2,3,2,1,4,3,3,3,3,1,4,3,3,1,4,1,3,3,3,4,4,4,3,4,4,2,3,4,4,3,1,4,4,3,4,4,2,2,3,2,3,3,2,1,3,4,3,3,4,1,4,1,1,1,3,3,4,3,2,3,4,3,4,4,1,2,4,4,3,2,3,4,2,3,2,1,3,2,2,4,4,2,4,2,3,2,4,4,3,3,4,4,3,3,3,3,1,3,2,4,4,4,2,1,4,1,1,4,1,3,4,3,3,4,1,3,3,1,2,1,1,2,1,3,3,3,4,4,4,1,4,2,3,1,4,2,4,2,1,4,1,3,4,4,4,1,1,4,4,3,2,2,3,4,4,4,3,2,3,4,3,4,2,2,1,2,4,2,3,1,2,3,2,4,2,4,3,3,1,2,4,2,2,3,4,3,1,4,1,1,3,3,2,3,3,2,3,4,4,1,3,2,1,1,4,2,1,4,4,2,4,4,4,2,3,3,3,3,4,1,4,2,4,3,4,2,3,3,3,3,4,4,1,1,3,4,4,1,1,4,1,4,2,1,2,1,1,4,1,4,3,1,3,3,4,2,3,3,4,1,2,4,1,2,1,3,2,3,3,2,1,1,3,4,3,3,3,2,1,3,2,3,3,3,3,2,3,3,1,1,2,2,3,4,4,1,2,2,2,3,3,4,3,2,4,1,2,4,4,1,3,4,1,4,2,3,2,4,3,3,1,3,1,2,1,1,4,4,4,4,2,2,3,1,3,3,4,3,3,1,4,3,3,1,2,4,1,3,3,4,4,2,1,1,1,3,4,1,1,1,1,1,4,3,3,3,3,3,3,4,3,2,4,4,4,4,3,4,3,1,3,2,2,1,3,2,2,3,3,1,3,3,4,2,4,2,4,1,2,2,3,3,1,4,3,4,3,4,4,2,4,4,2,4,4,4,4,4,3,3,3,4,3,3,2,3,3,2,1,1,2,3,4,2,4,2,4,4,3,2,3,1,4,3,4,3,1,4,2,4,2,1,3,2,4,2,1,2,1,3,3,4,4,3,4,3,2,4,1,2,1,4,3,2,1,1,4,2,4,3,2,3,3,4,3,2,3,2,1,4,1,1,4,4,3,3,3,2,4,4,4,4,3,3,4,4,3,3,1,3,2,3,2,1,4,4,2,3,3,4,1,1,2,4,4,4,3,3,4,1,2,2,1,4,4,3,4,3,3,4,3,2,4,2,1,1,2,4,4,4,4,1,3,1,2,4,3,1,1,4,1,1,4,4,4,3,3,3,2,2,4,1,3,3,1,3,4,3,2,2,2,3,3,3,2,3,3,1,4,2,3,3,3,4,2,4,2,4,3,4,4,3,4,4,1,4,4,2,3,3,2,3,4,2,1,4,4,4,3,3,3,3,4,2,1,4,1,3,4,1,2,2,3,2,3,2,4,1,3,3,3,2,3,3,4,1,2,4,4,4,3,2,4,3,2,4,1,4,4,3,3,4,1,1,4,1,3,4,3,2,4,4,1,1,4,4,1,1,4,3,4,4,3,1,3,3,2,4,1,3,2,2,2,4,4,1,1,3,2,4,3,4,4,2,4,1,4,4,2,4,2,1,3,3,3,3,3,2,1,3,4,4,2,4,4,1,4,3,2,4,1,4,4,4,3,2,3,2,4,1,3,4,3,3,2,3,3,4,4,3,3,4,1,4,1,1,2,2,2,3,2,4,3,3,2,4,3,4,2,4,4,3,2,3,4,4,3,2,2,1,1,1,4,1,4,4,2,3,1,2,3,2,3,2,3,2,4,4,1,2,3,3,4,1,4,3,4,2,4,4,1,3,3,2,4,4,1,2,2,4,3,3,4,4,4,3,4,4,3,4,4,3,2,3,4,1,4,4,3,4,1,1,3,3,4,1,4,3,1,3],\"xaxis\":\"x\",\"y\":[1,3,4,5,6,8,9,10,11,12,13,15,16,17,18,19,20,21,22,23,24,25,26,27,28,30,32,33,34,35,37,38,40,41,42,43,44,45,46,47,48,49,50,51,52,53,54,55,56,57,58,59,61,62,63,64,65,67,68,69,71,72,73,74,75,76,77,78,80,81,82,83,84,85,86,87,88,89,90,91,92,93,94,95,96,97,98,99,101,102,103,104,105,107,108,110,112,114,115,116,117,118,119,120,122,123,124,126,127,129,130,131,132,133,134,135,136,137,138,139,140,141,142,143,144,145,146,147,149,150,151,152,153,154,155,156,159,160,161,162,163,166,167,168,169,170,171,172,173,174,175,176,177,180,181,184,185,187,188,189,190,191,192,193,194,195,197,198,199,201,202,203,204,205,207,208,209,210,211,213,214,215,216,217,218,219,220,221,224,226,227,228,229,230,231,232,233,234,235,236,237,239,240,241,242,243,244,245,246,248,249,250,251,252,253,254,255,258,259,260,261,262,263,264,265,266,267,269,270,272,273,274,275,276,277,278,279,280,281,282,284,285,286,287,288,289,291,292,293,294,295,296,297,298,299,300,301,302,303,304,306,307,308,310,312,313,314,315,317,318,319,320,321,322,323,324,325,326,327,329,330,331,333,335,336,337,339,340,342,343,344,345,346,347,348,349,352,353,354,355,356,358,359,360,361,362,363,364,365,366,367,368,369,370,371,372,373,374,375,376,377,378,380,381,382,383,384,385,386,387,389,390,391,392,393,394,395,396,397,398,400,401,402,404,407,408,411,413,414,415,416,417,418,419,420,421,422,423,424,425,427,428,429,430,433,434,435,437,439,440,441,442,444,445,446,447,448,450,451,453,455,456,457,458,459,460,461,462,464,465,466,467,469,470,471,472,473,476,477,478,479,480,481,482,483,484,485,486,488,489,490,493,494,496,497,498,499,500,501,502,503,506,507,508,509,510,511,512,513,514,515,516,517,518,521,524,525,526,527,528,529,530,531,533,536,537,538,542,545,546,547,548,549,550,551,552,553,554,555,557,558,559,560,561,562,563,564,565,566,567,568,569,570,573,575,576,577,578,580,582,583,584,586,587,588,589,590,591,593,594,595,596,597,598,599,601,602,604,605,606,608,609,610,611,612,613,615,616,617,618,619,620,621,622,623,624,625,626,627,628,629,630,631,632,633,634,636,637,638,639,640,641,642,643,644,645,646,647,648,649,650,651,652,653,655,657,659,660,661,662,663,664,665,666,667,668,669,670,672,673,674,676,677,678,679,680,681,684,685,686,687,688,691,692,693,694,697,698,699,700,701,702,703,704,705,706,707,708,710,711,712,713,714,715,716,717,719,720,721,722,725,726,727,729,730,731,732,733,734,735,736,737,738,739,741,742,743,744,745,746,747,748,751,752,753,754,756,757,758,760,761,762,763,765,766,767,768,769,770,771,772,773,777,778,780,781,783,784,785,786,787,788,789,790,791,792,793,794,795,796,797,798,802,804,805,806,807,808,809,810,812,813,814,815,816,817,818,819,821,822,823,824,825,827,829,830,831,832,833,834,835,836,837,838,839,840,841,842,843,844,845,846,847,848,850,851,852,856,857,858,859,860,861,862,863,864,865,866,867,868,869,870,871,872,873,874,875,876,877,878,880,881,882,883,884,885,886,887,888,889,890,891,892,893,894,895,897,898,899,900,901,902,903,904,906,907,908,909,911,912,913,915,916,917,918,919,920,921,922,923,924,925,926,927,928,930,931,932,933,934,935,936,937,938,939,940,941,942,943,945,946,949,950,951,952,953,954,955,957,958,959,960,961,962,963,964,967,968,969,970,971,972,973,974,975,976,977,978,981,982,983,984,985,986,987,988,990,991,993,994,995,996,997,999,1001,1002,1003,1004,1006,1007,1008,1009,1010,1011,1012,1013,1015,1017,1018,1019,1020,1021,1023,1025,1026,1027,1028,1029,1030,1031,1032,1035,1036,1037,1038,1039,1042,1043,1044,1045,1046,1047,1048,1049,1050,1051,1052,1053,1054,1057,1058,1059,1060,1061,1062,1063,1064,1065,1066,1067,1068,1070,1071,1072,1073,1074,1077,1078,1079,1080,1083,1084,1085,1086,1087,1088,1089,1090,1091,1092,1093,1094,1095,1098,1099,1100,1101,1102,1103,1104,1105,1106,1107,1109,1110,1111,1113,1114,1115,1116,1117,1119,1120,1121,1123,1124,1125,1126,1127,1128,1129,1130,1131,1132,1134,1135,1136,1137,1140,1141,1142,1143,1144,1145,1146,1147,1148,1149,1150,1151,1152,1153,1154,1155,1156,1157,1158,1159,1160,1161,1162,1163,1164,1165,1166,1167,1168,1169,1170,1171,1172,1173,1174,1175,1176,1177,1178,1179,1180,1182,1183,1184,1186,1188,1189,1190,1191,1192,1193,1194,1196,1197,1198,1199,1200,1201,1202,1203,1205,1206,1207,1208,1209,1210,1211,1212,1214,1216,1217,1218,1219,1220,1221,1222,1223,1224,1225,1226,1228,1229,1230,1231,1232,1233,1235,1236,1238,1240,1241,1242,1243,1244,1245,1248,1250,1251,1252,1253,1254,1256,1257,1259,1260,1261,1262,1265,1266,1267,1268,1269,1270,1271,1272,1273,1274,1275,1276,1277,1278,1279,1280,1281,1283,1284,1285,1286,1287,1288,1289,1290,1291,1292,1293,1294,1295,1296,1297,1298,1299,1300,1301,1303,1304,1305,1306,1307,1308,1309,1310,1311,1312,1314,1316,1317,1318,1319,1321,1322,1323,1325,1326,1327,1328,1329,1330,1331,1332,1333,1334,1336,1338,1341,1342,1343,1344,1346,1347,1348,1350,1351,1352,1354,1355,1356,1357,1358,1359,1360,1361,1362,1363,1364,1365,1366,1367,1368,1369,1370,1371,1372,1373,1374,1375,1376,1377,1378,1379,1380,1381,1382,1383,1385,1386,1387,1388,1389,1391,1392,1393,1394,1396,1397,1398,1399,1400,1401,1402,1403,1404,1406,1407,1408,1409,1410,1411,1412,1413,1414,1415,1416,1419,1420,1421,1422,1424,1425,1426,1428,1431,1432,1433,1434,1435,1436,1437,1438,1439,1440,1441,1443,1444,1445,1446,1448,1450,1451,1453,1454,1455,1456,1457,1458,1459,1460,1461,1462,1464,1465,1466,1467,1468,1469,1470,1471,1473,1474,1475,1476,1478,1479,1480,1481,1482,1483,1485,1486,1487,1488,1489,1490,1491,1492,1493,1494,1495,1496,1497,1498,1500,1502,1503,1504,1505,1507,1508,1510,1511,1512,1513,1514,1515,1516,1517,1518,1519,1520,1521,1522,1523,1524,1525,1526,1527,1528,1529,1531,1532,1533,1534,1535,1537,1538,1539,1541,1542,1543,1544,1545,1546,1547,1548,1550,1551,1552,1553,1554,1555,1556,1557,1558,1559,1560,1561,1562,1563,1564,1565,1566,1567,1568,1569,1571,1572,1573,1574,1575,1577,1578,1580,1582,1584,1585,1586,1587,1588,1589,1590,1592,1593,1594,1596,1597,1599,1600,1601,1602,1603,1604,1605,1606,1607,1608,1609,1610,1611,1612,1613,1614,1615,1616,1617,1619,1620,1621,1622,1623,1624,1625,1626,1629,1630,1631,1632,1633,1636,1637,1638,1639,1640,1641,1642,1643,1644,1645,1646,1647,1650,1651,1654,1655,1657,1658,1659,1660,1661,1662,1663,1664,1665,1667,1668,1669,1671,1672,1673,1674,1675,1677,1678,1679,1680,1681,1683,1684,1685,1686,1687,1688,1689,1690,1691,1694,1696,1697,1698,1699,1700,1701,1702,1703,1704,1705,1706,1707,1709,1710,1711,1712,1713,1714,1715,1716,1718,1719,1720,1721,1722,1723,1724,1725,1728,1729,1730,1731,1732,1733,1734,1735,1736,1737,1739,1740,1742,1743,1744,1745,1746,1747,1748,1749,1750,1751,1752,1754,1755,1756,1757,1758,1759,1761,1762,1763,1764,1765,1766,1767,1768,1769,1770,1771,1772,1773,1774,1776,1777,1778,1780,1782,1783,1784,1785,1787,1788,1789,1790,1791,1792,1793,1794,1795,1796,1797,1799,1800,1801,1803,1805,1806,1807,1809,1810,1812,1813,1814,1815,1816,1817,1818,1819,1822,1823,1824,1825,1826,1828,1829,1830,1831,1832,1833,1834,1835,1836,1837,1838,1839,1840,1841,1842,1843,1844,1845,1846,1847,1848,1850,1851,1852,1853,1854,1855,1856,1857,1859,1860,1861,1862,1863,1864,1865,1866,1867,1868,1870,1871,1872,1874,1877,1878,1881,1883,1884,1885,1886,1887,1888,1889,1890,1891,1892,1893,1894,1895,1897,1898,1899,1900,1903,1904,1905,1907,1909,1910,1911,1912,1914,1915,1916,1917,1918,1920,1921,1923,1925,1926,1927,1928,1929,1930,1931,1932,1934,1935,1936,1937,1939,1940,1941,1942,1943,1946,1947,1948,1949,1950,1951,1952,1953,1954,1955,1956,1958,1959,1960,1963,1964,1966,1967,1968,1969,1970,1971,1972,1973,1976,1977,1978,1979,1980,1981,1982,1983,1984,1985,1986,1987,1988,1991,1994,1995,1996,1997,1998,1999,2000,2001,2003,2006,2007,2008,2012,2015,2016,2017,2018,2019,2020,2021,2022,2023,2024,2025,2027,2028,2029,2030,2031,2032,2033,2034,2035,2036,2037,2038,2039,2040,2043,2045,2046,2047,2048,2050,2052,2053,2054,2056,2057,2058,2059,2060,2061,2063,2064,2065,2066,2067,2068,2069,2071,2072,2074,2075,2076,2078,2079,2080,2081,2082,2083,2085,2086,2087,2088,2089,2090,2091,2092,2093,2094,2095,2096,2097,2098,2099,2100,2101,2102,2103,2104,2106,2107,2108,2109,2110,2111,2112,2113,2114,2115,2116,2117,2118,2119,2120,2121,2122,2123,2125,2127,2129,2130,2131,2132,2133,2134,2135,2136,2137,2138,2139,2140,2142,2143,2144,2146,2147,2148,2149,2150,2151,2154,2155,2156,2157,2158,2161,2162,2163,2164,2167,2168,2169,2170,2171,2172,2173,2174,2175,2176,2177,2178,2180,2181,2182,2183,2184,2185,2186,2187,2189,2190,2191,2192,2195,2196,2197,2199,2200,2201,2202,2203,2204,2205,2206,2207,2208,2209,2211,2212,2213,2214,2215,2216,2217,2218,2221,2222,2223,2224,2226,2227,2228,2230,2231,2232,2233,2235,2236,2237,2238,2239,2240,2241,2242,2243,2247,2248,2250,2251,2253,2254,2255,2256,2257,2258,2259,2260,2261,2262,2263,2264,2265,2266,2267,2268,2272,2274,2275,2276,2277,2278,2279,2280,2282,2283,2284,2285,2286,2287,2288,2289,2291,2292,2293,2294,2295,2297,2299,2300,2301,2302,2303,2304,2305,2306,2307,2308,2309,2310,2311,2312,2313,2314,2315,2316,2317,2318,2320,2321,2322,2326,2327,2328,2329,2330,2331,2332,2333,2334,2335,2336,2337,2338,2339,2340,2341,2342,2343,2344,2345,2346,2347,2348,2350,2351,2352,2353,2354,2355,2356,2357,2358,2359,2360,2361,2362,2363,2364,2365,2367,2368,2369,2370,2371,2372,2373,2374,2376,2377,2378,2379,2381,2382,2383,2385,2386,2387,2388,2389,2390,2391,2392,2393,2394,2395,2396,2397,2398,2400,2401,2402,2403,2404,2405,2406,2407,2408,2409,2410,2411,2412,2413,2415,2416,2419,2420,2421,2422,2423,2424,2425,2427,2428,2429,2430,2431,2432,2433,2434,2437,2438,2439,2440,2441,2442,2443,2444,2445,2446,2447,2448,2451,2452,2453,2454,2455,2456,2457,2458,2460,2461,2463,2464,2465,2466,2467,2469,2471,2472,2473,2474,2476,2477,2478,2479,2480,2481,2482,2483,2485,2487,2488,2489,2490,2491,2493,2495,2496,2497,2498,2499,2500,2501,2502,2505,2506,2507,2508,2509,2512,2513,2514,2515,2516,2517,2518,2519,2520,2521,2522,2523,2524,2527,2528,2529,2530,2531,2532,2533,2534,2535,2536,2537,2538,2540,2541,2542,2543,2544,2547,2548,2549,2550,2553,2554,2555,2556,2557,2558,2559,2560,2561,2562,2563,2564,2565,2568,2569,2570,2571,2572,2573,2574,2575,2576,2577,2579,2580,2581,2583,2584,2585,2586,2587,2589,2590,2591,2593,2594,2595,2596,2597,2598,2599,2600,2601,2602,2604,2605,2606,2607,2610,2611,2612,2613,2614,2615,2616,2617,2618,2619,2620,2621,2622,2623,2624,2625,2626,2627,2628,2629,2630,2631,2632,2633,2634,2635,2636,2637,2638,2639,2640,2641,2642,2643,2644,2645,2646,2647,2648,2649,2650,2652,2653,2654,2656,2658,2659,2660,2661,2662,2663,2664,2666,2667,2668,2669,2670,2671,2672,2673,2675,2676,2677,2678,2679,2680,2681,2682,2684,2686,2687,2688,2689,2690,2691,2692,2693,2694,2695,2696,2698,2699,2700,2701,2702,2703,2705,2706,2708,2710,2711,2712,2713,2714,2715,2718,2720,2721,2722,2723,2724,2726,2727,2729,2730,2731,2732,2735,2736,2737,2738,2739,2740,2741,2742,2743,2744,2745,2746,2747,2748,2749,2750,2751,2753,2754,2755,2756,2757,2758,2759,2760,2761,2762,2763,2764,2765,2766,2767,2768,2769,2770,2771,2773,2774,2775,2776,2777,2778,2779,2780,2781,2782,2784,2786,2787,2788,2789,2791,2792,2793,2795,2796,2797,2798,2799,2800,2801,2802,2803,2804,2806,2808,2811,2812,2813,2814,2816,2817,2818,2820,2821,2822,2824,2825,2826,2827,2828,2829,2830,2831,2832,2833,2834,2835,2836,2837,2838,2839,2840,2841,2842,2843,2844,2845,2846,2847,2848,2849,2850,2851,2852,2853,2855,2856,2857,2858,2859,2861,2862,2863,2864,2866,2867,2868,2869,2870,2871,2872,2873,2874,2876,2877,2878,2879,2880,2881,2882,2883,2884,2885,2886,2889,2890,2891,2892,2894,2895,2896,2898,2901,2902,2903,2904,2905,2906,2907,2908,2909,2910,2911,2913,2914,2915,2916,2918,2920,2921,2923,2924,2925,2926,2927,2928,2929,2930,2931,2932,2934,2935,2936,2937,2938,2939,2940,2941,2943,2944,2945,2946,2948,2949,2950,2951,2952,2953,2955,2956,2957,2958,2959,2960,2961,2962,2963,2964,2965,2966,2967,2968,2970,2972,2973,2974,2975,2977,2978,2980,2981,2982,2983,2984,2985,2986,2987,2988,2989,2990,2991,2992,2993,2994,2995,2996,2997,2998,2999,3001,3002,3003,3004,3005,3007,3008,3009,3011,3012,3013,3014,3015,3016,3017,3018,3020,3021,3022,3023,3024,3025,3026,3027,3028,3029,3030,3031,3032,3033,3034,3035,3036,3037,3038,3039,3041,3042,3043,3044,3045,3047,3048,3050,3052,3054,3055,3056,3057,3058,3059,3060,3062,3063,3064,3066,3067,3069,3070,3071,3072,3073,3074,3075,3076,3077,3078,3079,3080,3081,3082,3083,3084,3085,3086,3087,3089,3090,3091,3092,3093,3094,3095,3096,3099,3100,3101,3102,3103,3106,3107,3108,3109,3110,3111,3112,3113,3114,3115,3116,3117,3120,3121,3124,3125,3127,3128,3129,3130,3131,3132,3133,3134,3135,3137,3138,3139,3141,3142,3143,3144,3145,3147,3148,3149,3150,3151,3153,3154,3155,3156,3157,3158,3159,3160,3161,3164,3166,3167,3168,3169,3170,3171,3172,3173,3174,3175,3176,3177,3179,3180,3181,3182,3183,3184,3185,3186,3188,3189,3190,3191,3192,3193,3194,3195,3198,3199,3200,3201,3202,3203,3204,3205,3206,3207,3209,3210,3212,3213,3214,3215,3216,3217,3218,3219,3220,3221,3222,3224,3225,3226,3227,3228,3229,3231,3232,3233,3234,3235,3236,3237,3238,3239,3240,3241,3242,3243,3244,3246,3247,3248,3250,3252,3253,3254,3255,3257,3258,3259,3260,3261,3262,3263,3264,3265,3266,3267,3269,3270,3271,3273,3275,3276,3277,3279,3280,3282,3283,3284,3285,3286,3287,3288,3289,3292,3293,3294,3295,3296,3298,3299,3300,3301,3302,3303,3304,3305,3306,3307,3308,3309,3310,3311,3312,3313,3314,3315,3316,3317,3318,3320,3321,3322,3323,3324,3325,3326,3327,3329,3330,3331,3332,3333,3334,3335,3336,3337,3338,3340,3341,3342,3344,3347,3348,3351,3353,3354,3355,3356,3357,3358,3359,3360,3361,3362,3363,3364,3365,3367,3368,3369,3370,3373,3374,3375,3377,3379,3380,3381,3382,3384,3385,3386,3387,3388,3390,3391,3393,3395,3396,3397,3398,3399,3400,3401,3402,3404,3405,3406,3407,3409,3410,3411,3412,3413,3416,3417,3418,3419,3420,3421,3422,3423,3424,3425,3426,3428,3429,3430,3433,3434,3436,3437,3438,3439,3440,3441,3442,3443,3446,3447,3448,3449,3450,3451,3452,3453,3454,3455,3456,3457,3458,3461,3464,3465,3466,3467,3468,3469,3470,3471,3473,3476,3477,3478,3482,3485,3486,3487,3488,3489,3490,3491,3492,3493,3494,3495,3497,3498,3499,3500,3501,3502,3503,3504,3505,3506,3507,3508,3509,3510,3513,3515,3516,3517,3518,3520,3522,3523,3524,3526,3527,3528,3529,3530,3531,3533,3534,3535,3536,3537,3538,3539,3541,3542,3544,3545,3546,3548,3549,3550,3551,3552,3553,3555,3556,3557,3558,3559,3560,3561,3562,3563,3564,3565,3566,3567,3568,3569,3570,3571,3572,3573,3574,3576,3577,3578,3579,3580,3581,3582,3583,3584,3585,3586,3587,3588,3589,3590,3591,3592,3593,3595,3597,3599,3600,3601,3602,3603,3604,3605,3606,3607,3608,3609,3610,3612,3613,3614,3616,3617,3618,3619,3620,3621,3624,3625,3626,3627,3628,3631,3632,3633,3634,3637,3638,3639,3640,3641,3642,3643,3644,3645,3646,3647,3648,3650,3651,3652,3653,3654,3655,3656,3657,3659,3660,3661,3662,3665,3666,3667,3669,3670,3671,3672,3673,3674,3675,3676,3677,3678,3679,3681,3682,3683,3684,3685,3686,3687,3688,3691,3692,3693,3694,3696,3697,3698,3700,3701,3702,3703,3705,3706,3707,3708,3709,3710,3711,3712,3713,3717,3718,3720,3721,3723,3724,3725,3726,3727,3728,3729,3730,3731,3732,3733,3734,3735,3736,3737,3738,3742,3744,3745,3746,3747,3748,3749,3750,3752,3753,3754,3755,3756,3757,3758,3759,3761,3762,3763,3764,3765,3767,3769,3770,3771,3772,3773,3774,3775,3776,3777,3778,3779,3780,3781,3782,3783,3784,3785,3786,3787,3788,3790,3791,3792,3796,3797,3798,3799,3800,3801,3802,3803,3804,3805,3806,3807,3808,3809,3810,3811,3812,3813,3814,3815,3816,3817,3818,3820,3821,3822,3823,3824,3825,3826,3827,3828,3829,3830,3831,3832,3833,3834,3835,3837,3838,3839,3840,3841,3842,3843,3844,3846,3847,3848,3849,3851,3852,3853,3855,3856,3857,3858,3859,3860,3861,3862,3863,3864,3865,3866,3867,3868,3870,3871,3872,3873,3874,3875,3876,3877,3878,3879,3880,3881,3882,3883,3885,3886,3889,3890,3891,3892,3893,3894,3895,3897,3898,3899,3900,3901,3902,3903,3904,3907,3908,3909,3910,3911,3912,3913,3914,3915,3916,3917,3918,3921,3922,3923,3924,3925,3926,3927,3928,3930,3931,3933,3934,3935,3936,3937,3939,3941,3942,3943,3944,3946,3947,3948,3949,3950,3951,3952,3953,3955,3957,3958,3959,3960,3961,3963,3965,3966,3967,3968,3969,3970,3971,3972,3975,3976,3977,3978,3979,3982,3983,3984,3985,3986,3987,3988,3989,3990,3991,3992,3993,3994,3997,3998,3999,4000,4001,4002,4003,4004,4005,4006,4007,4008,4010,4011,4012,4013,4014,4017,4018,4019,4020,4023,4024,4025,4026,4027,4028,4029,4030,4031,4032,4033,4034,4035,4038,4039,4040,4041,4042,4043,4044,4045,4046,4047,4049,4050,4051,4053,4054,4055,4056,4057,4059,4060,4061,4063,4064,4065,4066,4067,4068,4069,4070,4071,4072,4074,4075,4076,4077,4080,4081,4082,4083,4084,4085,4086,4087,4088,4089,4090,4091,4092,4093,4094,4095,4096,4097,4098,4099,4100,4101,4102,4103,4104,4105,4106,4107,4108,4109,4110,4111,4112,4113,4114,4115,4116,4117,4118,4119,4120,4122,4123,4124,4126,4128,4129,4130,4131,4132,4133,4134,4136,4137,4138,4139,4140,4141,4142,4143,4145,4146,4147,4148,4149,4150,4151,4152,4154,4156,4157,4158,4159,4160,4161,4162,4163,4164,4165,4166,4168,4169,4170,4171,4172,4173,4175,4176,4178,4180,4181,4182,4183,4184,4185,4188,4190,4191,4192,4193,4194,4196,4197,4199,4200,4201,4202,4205,4206,4207,4208,4209,4210,4211,4212,4213,4214,4215,4216,4217,4218,4219,4220,4221,4223,4224,4225,4226,4227,4228,4229,4230,4231,4232,4233,4234,4235,4236,4237,4238,4239,4240,4241,4243,4244,4245,4246,4247,4248,4249,4250,4251,4252,4254,4256,4257,4258,4259,4261,4262,4263,4265,4266,4267,4268,4269,4270,4271,4272,4273,4274,4276,4278,4281,4282,4283,4284,4286,4287,4288,4290,4291,4292,4294,4295,4296,4297,4298,4299,4300,4301,4302,4303,4304,4305,4306,4307,4308,4309,4310,4311,4312,4313,4314,4315,4316,4317,4318,4319,4320,4321,4322,4323,4325,4326,4327,4328,4329,4331,4332,4333,4334,4336,4337,4338,4339,4340,4341,4342,4343,4344,4346,4347,4348,4349,4350,4351,4352,4353,4354,4355,4356,4359,4360,4361,4362,4364,4365,4366,4368,4371,4372,4373,4374,4375,4376,4377,4378,4379,4380,4381,4383,4384,4385,4386,4388,4390,4391,4393,4394,4395,4396,4397,4398,4399,4400,4401,4402,4404,4405,4406,4407,4408,4409,4410],\"yaxis\":\"y\",\"type\":\"bar\"}],                        {\"template\":{\"data\":{\"barpolar\":[{\"marker\":{\"line\":{\"color\":\"white\",\"width\":0.5},\"pattern\":{\"fillmode\":\"overlay\",\"size\":10,\"solidity\":0.2}},\"type\":\"barpolar\"}],\"bar\":[{\"error_x\":{\"color\":\"rgb(36,36,36)\"},\"error_y\":{\"color\":\"rgb(36,36,36)\"},\"marker\":{\"line\":{\"color\":\"white\",\"width\":0.5},\"pattern\":{\"fillmode\":\"overlay\",\"size\":10,\"solidity\":0.2}},\"type\":\"bar\"}],\"carpet\":[{\"aaxis\":{\"endlinecolor\":\"rgb(36,36,36)\",\"gridcolor\":\"white\",\"linecolor\":\"white\",\"minorgridcolor\":\"white\",\"startlinecolor\":\"rgb(36,36,36)\"},\"baxis\":{\"endlinecolor\":\"rgb(36,36,36)\",\"gridcolor\":\"white\",\"linecolor\":\"white\",\"minorgridcolor\":\"white\",\"startlinecolor\":\"rgb(36,36,36)\"},\"type\":\"carpet\"}],\"choropleth\":[{\"colorbar\":{\"outlinewidth\":1,\"tickcolor\":\"rgb(36,36,36)\",\"ticks\":\"outside\"},\"type\":\"choropleth\"}],\"contourcarpet\":[{\"colorbar\":{\"outlinewidth\":1,\"tickcolor\":\"rgb(36,36,36)\",\"ticks\":\"outside\"},\"type\":\"contourcarpet\"}],\"contour\":[{\"colorbar\":{\"outlinewidth\":1,\"tickcolor\":\"rgb(36,36,36)\",\"ticks\":\"outside\"},\"colorscale\":[[0.0,\"#440154\"],[0.1111111111111111,\"#482878\"],[0.2222222222222222,\"#3e4989\"],[0.3333333333333333,\"#31688e\"],[0.4444444444444444,\"#26828e\"],[0.5555555555555556,\"#1f9e89\"],[0.6666666666666666,\"#35b779\"],[0.7777777777777778,\"#6ece58\"],[0.8888888888888888,\"#b5de2b\"],[1.0,\"#fde725\"]],\"type\":\"contour\"}],\"heatmapgl\":[{\"colorbar\":{\"outlinewidth\":1,\"tickcolor\":\"rgb(36,36,36)\",\"ticks\":\"outside\"},\"colorscale\":[[0.0,\"#440154\"],[0.1111111111111111,\"#482878\"],[0.2222222222222222,\"#3e4989\"],[0.3333333333333333,\"#31688e\"],[0.4444444444444444,\"#26828e\"],[0.5555555555555556,\"#1f9e89\"],[0.6666666666666666,\"#35b779\"],[0.7777777777777778,\"#6ece58\"],[0.8888888888888888,\"#b5de2b\"],[1.0,\"#fde725\"]],\"type\":\"heatmapgl\"}],\"heatmap\":[{\"colorbar\":{\"outlinewidth\":1,\"tickcolor\":\"rgb(36,36,36)\",\"ticks\":\"outside\"},\"colorscale\":[[0.0,\"#440154\"],[0.1111111111111111,\"#482878\"],[0.2222222222222222,\"#3e4989\"],[0.3333333333333333,\"#31688e\"],[0.4444444444444444,\"#26828e\"],[0.5555555555555556,\"#1f9e89\"],[0.6666666666666666,\"#35b779\"],[0.7777777777777778,\"#6ece58\"],[0.8888888888888888,\"#b5de2b\"],[1.0,\"#fde725\"]],\"type\":\"heatmap\"}],\"histogram2dcontour\":[{\"colorbar\":{\"outlinewidth\":1,\"tickcolor\":\"rgb(36,36,36)\",\"ticks\":\"outside\"},\"colorscale\":[[0.0,\"#440154\"],[0.1111111111111111,\"#482878\"],[0.2222222222222222,\"#3e4989\"],[0.3333333333333333,\"#31688e\"],[0.4444444444444444,\"#26828e\"],[0.5555555555555556,\"#1f9e89\"],[0.6666666666666666,\"#35b779\"],[0.7777777777777778,\"#6ece58\"],[0.8888888888888888,\"#b5de2b\"],[1.0,\"#fde725\"]],\"type\":\"histogram2dcontour\"}],\"histogram2d\":[{\"colorbar\":{\"outlinewidth\":1,\"tickcolor\":\"rgb(36,36,36)\",\"ticks\":\"outside\"},\"colorscale\":[[0.0,\"#440154\"],[0.1111111111111111,\"#482878\"],[0.2222222222222222,\"#3e4989\"],[0.3333333333333333,\"#31688e\"],[0.4444444444444444,\"#26828e\"],[0.5555555555555556,\"#1f9e89\"],[0.6666666666666666,\"#35b779\"],[0.7777777777777778,\"#6ece58\"],[0.8888888888888888,\"#b5de2b\"],[1.0,\"#fde725\"]],\"type\":\"histogram2d\"}],\"histogram\":[{\"marker\":{\"line\":{\"color\":\"white\",\"width\":0.6}},\"type\":\"histogram\"}],\"mesh3d\":[{\"colorbar\":{\"outlinewidth\":1,\"tickcolor\":\"rgb(36,36,36)\",\"ticks\":\"outside\"},\"type\":\"mesh3d\"}],\"parcoords\":[{\"line\":{\"colorbar\":{\"outlinewidth\":1,\"tickcolor\":\"rgb(36,36,36)\",\"ticks\":\"outside\"}},\"type\":\"parcoords\"}],\"pie\":[{\"automargin\":true,\"type\":\"pie\"}],\"scatter3d\":[{\"line\":{\"colorbar\":{\"outlinewidth\":1,\"tickcolor\":\"rgb(36,36,36)\",\"ticks\":\"outside\"}},\"marker\":{\"colorbar\":{\"outlinewidth\":1,\"tickcolor\":\"rgb(36,36,36)\",\"ticks\":\"outside\"}},\"type\":\"scatter3d\"}],\"scattercarpet\":[{\"marker\":{\"colorbar\":{\"outlinewidth\":1,\"tickcolor\":\"rgb(36,36,36)\",\"ticks\":\"outside\"}},\"type\":\"scattercarpet\"}],\"scattergeo\":[{\"marker\":{\"colorbar\":{\"outlinewidth\":1,\"tickcolor\":\"rgb(36,36,36)\",\"ticks\":\"outside\"}},\"type\":\"scattergeo\"}],\"scattergl\":[{\"marker\":{\"colorbar\":{\"outlinewidth\":1,\"tickcolor\":\"rgb(36,36,36)\",\"ticks\":\"outside\"}},\"type\":\"scattergl\"}],\"scattermapbox\":[{\"marker\":{\"colorbar\":{\"outlinewidth\":1,\"tickcolor\":\"rgb(36,36,36)\",\"ticks\":\"outside\"}},\"type\":\"scattermapbox\"}],\"scatterpolargl\":[{\"marker\":{\"colorbar\":{\"outlinewidth\":1,\"tickcolor\":\"rgb(36,36,36)\",\"ticks\":\"outside\"}},\"type\":\"scatterpolargl\"}],\"scatterpolar\":[{\"marker\":{\"colorbar\":{\"outlinewidth\":1,\"tickcolor\":\"rgb(36,36,36)\",\"ticks\":\"outside\"}},\"type\":\"scatterpolar\"}],\"scatter\":[{\"fillpattern\":{\"fillmode\":\"overlay\",\"size\":10,\"solidity\":0.2},\"type\":\"scatter\"}],\"scatterternary\":[{\"marker\":{\"colorbar\":{\"outlinewidth\":1,\"tickcolor\":\"rgb(36,36,36)\",\"ticks\":\"outside\"}},\"type\":\"scatterternary\"}],\"surface\":[{\"colorbar\":{\"outlinewidth\":1,\"tickcolor\":\"rgb(36,36,36)\",\"ticks\":\"outside\"},\"colorscale\":[[0.0,\"#440154\"],[0.1111111111111111,\"#482878\"],[0.2222222222222222,\"#3e4989\"],[0.3333333333333333,\"#31688e\"],[0.4444444444444444,\"#26828e\"],[0.5555555555555556,\"#1f9e89\"],[0.6666666666666666,\"#35b779\"],[0.7777777777777778,\"#6ece58\"],[0.8888888888888888,\"#b5de2b\"],[1.0,\"#fde725\"]],\"type\":\"surface\"}],\"table\":[{\"cells\":{\"fill\":{\"color\":\"rgb(237,237,237)\"},\"line\":{\"color\":\"white\"}},\"header\":{\"fill\":{\"color\":\"rgb(217,217,217)\"},\"line\":{\"color\":\"white\"}},\"type\":\"table\"}]},\"layout\":{\"annotationdefaults\":{\"arrowhead\":0,\"arrowwidth\":1},\"autotypenumbers\":\"strict\",\"coloraxis\":{\"colorbar\":{\"outlinewidth\":1,\"tickcolor\":\"rgb(36,36,36)\",\"ticks\":\"outside\"}},\"colorscale\":{\"diverging\":[[0.0,\"rgb(103,0,31)\"],[0.1,\"rgb(178,24,43)\"],[0.2,\"rgb(214,96,77)\"],[0.3,\"rgb(244,165,130)\"],[0.4,\"rgb(253,219,199)\"],[0.5,\"rgb(247,247,247)\"],[0.6,\"rgb(209,229,240)\"],[0.7,\"rgb(146,197,222)\"],[0.8,\"rgb(67,147,195)\"],[0.9,\"rgb(33,102,172)\"],[1.0,\"rgb(5,48,97)\"]],\"sequential\":[[0.0,\"#440154\"],[0.1111111111111111,\"#482878\"],[0.2222222222222222,\"#3e4989\"],[0.3333333333333333,\"#31688e\"],[0.4444444444444444,\"#26828e\"],[0.5555555555555556,\"#1f9e89\"],[0.6666666666666666,\"#35b779\"],[0.7777777777777778,\"#6ece58\"],[0.8888888888888888,\"#b5de2b\"],[1.0,\"#fde725\"]],\"sequentialminus\":[[0.0,\"#440154\"],[0.1111111111111111,\"#482878\"],[0.2222222222222222,\"#3e4989\"],[0.3333333333333333,\"#31688e\"],[0.4444444444444444,\"#26828e\"],[0.5555555555555556,\"#1f9e89\"],[0.6666666666666666,\"#35b779\"],[0.7777777777777778,\"#6ece58\"],[0.8888888888888888,\"#b5de2b\"],[1.0,\"#fde725\"]]},\"colorway\":[\"#1F77B4\",\"#FF7F0E\",\"#2CA02C\",\"#D62728\",\"#9467BD\",\"#8C564B\",\"#E377C2\",\"#7F7F7F\",\"#BCBD22\",\"#17BECF\"],\"font\":{\"color\":\"rgb(36,36,36)\"},\"geo\":{\"bgcolor\":\"white\",\"lakecolor\":\"white\",\"landcolor\":\"white\",\"showlakes\":true,\"showland\":true,\"subunitcolor\":\"white\"},\"hoverlabel\":{\"align\":\"left\"},\"hovermode\":\"closest\",\"mapbox\":{\"style\":\"light\"},\"paper_bgcolor\":\"white\",\"plot_bgcolor\":\"white\",\"polar\":{\"angularaxis\":{\"gridcolor\":\"rgb(232,232,232)\",\"linecolor\":\"rgb(36,36,36)\",\"showgrid\":false,\"showline\":true,\"ticks\":\"outside\"},\"bgcolor\":\"white\",\"radialaxis\":{\"gridcolor\":\"rgb(232,232,232)\",\"linecolor\":\"rgb(36,36,36)\",\"showgrid\":false,\"showline\":true,\"ticks\":\"outside\"}},\"scene\":{\"xaxis\":{\"backgroundcolor\":\"white\",\"gridcolor\":\"rgb(232,232,232)\",\"gridwidth\":2,\"linecolor\":\"rgb(36,36,36)\",\"showbackground\":true,\"showgrid\":false,\"showline\":true,\"ticks\":\"outside\",\"zeroline\":false,\"zerolinecolor\":\"rgb(36,36,36)\"},\"yaxis\":{\"backgroundcolor\":\"white\",\"gridcolor\":\"rgb(232,232,232)\",\"gridwidth\":2,\"linecolor\":\"rgb(36,36,36)\",\"showbackground\":true,\"showgrid\":false,\"showline\":true,\"ticks\":\"outside\",\"zeroline\":false,\"zerolinecolor\":\"rgb(36,36,36)\"},\"zaxis\":{\"backgroundcolor\":\"white\",\"gridcolor\":\"rgb(232,232,232)\",\"gridwidth\":2,\"linecolor\":\"rgb(36,36,36)\",\"showbackground\":true,\"showgrid\":false,\"showline\":true,\"ticks\":\"outside\",\"zeroline\":false,\"zerolinecolor\":\"rgb(36,36,36)\"}},\"shapedefaults\":{\"fillcolor\":\"black\",\"line\":{\"width\":0},\"opacity\":0.3},\"ternary\":{\"aaxis\":{\"gridcolor\":\"rgb(232,232,232)\",\"linecolor\":\"rgb(36,36,36)\",\"showgrid\":false,\"showline\":true,\"ticks\":\"outside\"},\"baxis\":{\"gridcolor\":\"rgb(232,232,232)\",\"linecolor\":\"rgb(36,36,36)\",\"showgrid\":false,\"showline\":true,\"ticks\":\"outside\"},\"bgcolor\":\"white\",\"caxis\":{\"gridcolor\":\"rgb(232,232,232)\",\"linecolor\":\"rgb(36,36,36)\",\"showgrid\":false,\"showline\":true,\"ticks\":\"outside\"}},\"title\":{\"x\":0.05},\"xaxis\":{\"automargin\":true,\"gridcolor\":\"rgb(232,232,232)\",\"linecolor\":\"rgb(36,36,36)\",\"showgrid\":false,\"showline\":true,\"ticks\":\"outside\",\"title\":{\"standoff\":15},\"zeroline\":false,\"zerolinecolor\":\"rgb(36,36,36)\"},\"yaxis\":{\"automargin\":true,\"gridcolor\":\"rgb(232,232,232)\",\"linecolor\":\"rgb(36,36,36)\",\"showgrid\":false,\"showline\":true,\"ticks\":\"outside\",\"title\":{\"standoff\":15},\"zeroline\":false,\"zerolinecolor\":\"rgb(36,36,36)\"}}},\"xaxis\":{\"anchor\":\"y\",\"domain\":[0.0,1.0],\"title\":{\"text\":\"A\\u00f1os trabajado\"}},\"yaxis\":{\"anchor\":\"x\",\"domain\":[0.0,1.0],\"title\":{\"text\":\"Numero de trabajadores\"}},\"legend\":{\"tracegroupgap\":0,\"title\":{\"text\":\"A\\u00f1os trabajado\"}},\"title\":{\"text\":\"\\u003cb\\u003eEdad de los que renunciaron \\u003cb\\u003e\",\"x\":0.5},\"barmode\":\"relative\"},                        {\"responsive\": true}                    ).then(function(){\n",
              "                            \n",
              "var gd = document.getElementById('74946a77-abed-466f-9462-985e40880fd6');\n",
              "var x = new MutationObserver(function (mutations, observer) {{\n",
              "        var display = window.getComputedStyle(gd).display;\n",
              "        if (!display || display === 'none') {{\n",
              "            console.log([gd, 'removed!']);\n",
              "            Plotly.purge(gd);\n",
              "            observer.disconnect();\n",
              "        }}\n",
              "}});\n",
              "\n",
              "// Listen for the removal of the full notebook cells\n",
              "var notebookContainer = gd.closest('#notebook-container');\n",
              "if (notebookContainer) {{\n",
              "    x.observe(notebookContainer, {childList: true});\n",
              "}}\n",
              "\n",
              "// Listen for the clearing of the current output cell\n",
              "var outputEl = gd.closest('.output');\n",
              "if (outputEl) {{\n",
              "    x.observe(outputEl, {childList: true});\n",
              "}}\n",
              "\n",
              "                        })                };                            </script>        </div>\n",
              "</body>\n",
              "</html>"
            ]
          },
          "metadata": {}
        }
      ],
      "source": [
        "fig= px.bar(renuncia_no, x='JobSatisfaction', y='EmployeeID', title= '<b>Edad de los que renunciaron <b>')\n",
        "fig.update_layout(\n",
        "    xaxis_title='Años trabajado',\n",
        "    yaxis_title='Numero de trabajadores',\n",
        "    legend_title='Años trabajado',\n",
        "    template= 'simple_white', #color del fondo\n",
        "    title_x=0.5, #ubicacion del titulo\n",
        "\n",
        ")"
      ]
    },
    {
      "cell_type": "code",
      "execution_count": null,
      "metadata": {
        "id": "y-nxNYGcSxZp",
        "colab": {
          "base_uri": "https://localhost:8080/",
          "height": 542
        },
        "outputId": "dad47b6e-95d1-478e-8af8-b45bcbacfe24"
      },
      "outputs": [
        {
          "output_type": "display_data",
          "data": {
            "text/html": [
              "<html>\n",
              "<head><meta charset=\"utf-8\" /></head>\n",
              "<body>\n",
              "    <div>            <script src=\"https://cdnjs.cloudflare.com/ajax/libs/mathjax/2.7.5/MathJax.js?config=TeX-AMS-MML_SVG\"></script><script type=\"text/javascript\">if (window.MathJax && window.MathJax.Hub && window.MathJax.Hub.Config) {window.MathJax.Hub.Config({SVG: {font: \"STIX-Web\"}});}</script>                <script type=\"text/javascript\">window.PlotlyConfig = {MathJaxConfig: 'local'};</script>\n",
              "        <script charset=\"utf-8\" src=\"https://cdn.plot.ly/plotly-2.24.1.min.js\"></script>                <div id=\"5d8c9716-85f0-4857-8dd7-676dcbbb4e16\" class=\"plotly-graph-div\" style=\"height:525px; width:100%;\"></div>            <script type=\"text/javascript\">                                    window.PLOTLYENV=window.PLOTLYENV || {};                                    if (document.getElementById(\"5d8c9716-85f0-4857-8dd7-676dcbbb4e16\")) {                    Plotly.newPlot(                        \"5d8c9716-85f0-4857-8dd7-676dcbbb4e16\",                        [{\"alignmentgroup\":\"True\",\"hovertemplate\":\"JobSatisfaction=%{x}\\u003cbr\\u003eEmployeeID=%{y}\\u003cextra\\u003e\\u003c\\u002fextra\\u003e\",\"legendgroup\":\"\",\"marker\":{\"color\":\"#636efa\",\"pattern\":{\"shape\":\"\"}},\"name\":\"\",\"offsetgroup\":\"\",\"orientation\":\"v\",\"showlegend\":false,\"textposition\":\"auto\",\"x\":[2,3,2,3,2,4,3,2,4,3,1,2,3,2,3,2,4,4,4,1,2,3,2,4,3,4,3,1,3,3,2,4,3,3,1,1,1,1,3,1,3,3,2,3,4,3,1,1,1,1,1,2,3,4,4,3,2,3,4,4,3,4,3,4,1,2,2,1,4,3,3,2,1,1,3,2,1,2,2,1,4,1,3,1,4,1,3,1,1,1,3,4,3,2,2,3,4,3,1,3,1,1,4,3,3,4,1,2,2,4,2,3,4,3,3,1,2,2,2,1,1,3,4,3,3,3,1,4,3,2,1,4,1,2,4,3,3,2,2,1,1,1,1,3,1,1,4,2,2,4,1,4,1,4,3,3,2,4,3,3,1,2,4,2,1,3,3,2,1,2,4,1,1,2,2,1,1,2,4,2,4,2,1,4,1,3,3,2,4,4,1,1,4,3,3,1,4,3,3,1,1,1,4,4,3,3,3,3,3,3,4,1,4,3,3,2,3,4,3,3,4,1,1,4,2,3,1,4,4,1,1,3,4,4,1,3,3,2,3,2,3,2,4,3,2,4,3,1,2,3,2,3,2,4,1,4,1,2,3,2,4,3,4,3,1,3,3,2,4,3,3,1,1,1,1,3,1,3,3,2,3,4,3,1,1,1,1,1,2,3,4,4,3,2,3,4,4,3,4,3,4,1,2,2,1,4,3,3,2,1,1,3,2,1,2,2,1,4,1,3,1,4,1,3,1,1,1,3,4,3,2,2,3,4,3,1,3,1,1,4,3,3,4,1,2,2,4,2,3,4,3,3,1,2,2,2,1,1,3,4,3,3,3,1,4,3,2,1,4,1,2,4,3,3,2,2,1,1,1,1,3,1,1,4,2,2,4,1,4,1,4,3,3,2,4,3,3,1,2,4,2,1,3,3,2,1,2,4,1,1,2,2,1,1,2,4,2,4,2,1,4,1,3,3,2,4,4,1,1,4,3,3,1,4,3,3,1,1,1,4,4,3,3,3,3,3,3,4,1,4,3,3,2,3,4,3,3,4,1,1,4,2,3,1,4,4,1,1,3,4,4,1,3,3,2,3,2,3,2,4,3,2,4,3,1,2,3,2,3,2,4,1,4,1,2,3,2,4,3,4,3,1,3,3,2,4,3,3,1,1,1,1,3,1,3,3,2,3,4,3,1,1,1,1,1,2,3,4,4,3,2,3,4,4,3,4,3,4,1,2,2,1,4,3,3,2,1,1,3,2,1,2,2,1,4,1,3,1,4,1,3,1,1,1,3,4,3,2,2,3,4,3,1,3,1,1,4,3,3,4,1,2,2,4,2,3,4,3,3,1,2,2,2,1,1,3,4,3,3,3,1,4,3,2,1,4,1,2,4,3,3,2,2,1,1,1,1,3,1,1,4,2,2,4,1,4,1,4,3,3,2,4,3,3,1,2,4,2,1,3,3,2,1,2,4,1,1,2,2,1,1,2,4,2,4,2,1,4,1,3,3,2,4,4,1,1,4,3,3,1,4,3,3,1,1,1,4,4,3,3,3,3,3,3,4,1,4,3,3,2,3,4,3,3,4,1,1,4,2,3,1,4,4,1,1,3,4,4,1,3,3],\"xaxis\":\"x\",\"y\":[2,7,14,29,31,36,39,60,66,70,79,100,106,109,111,113,121,125,128,148,157,158,164,165,178,179,182,183,186,196,200,206,212,222,223,225,238,247,256,257,268,271,283,290,305,309,311,316,328,332,334,338,341,350,351,357,379,388,399,403,405,406,409,410,412,426,431,432,436,438,443,449,452,454,463,468,474,475,487,491,492,495,504,505,519,520,522,523,532,534,535,539,540,541,543,544,556,571,572,574,579,581,585,592,600,603,607,614,635,654,656,658,671,675,682,683,689,690,695,696,709,718,723,724,728,740,749,750,755,759,764,774,775,776,779,782,799,800,801,803,811,820,826,828,849,853,854,855,879,896,905,910,914,929,944,947,948,956,965,966,979,980,989,992,998,1000,1005,1014,1016,1022,1024,1033,1034,1040,1041,1055,1056,1069,1075,1076,1081,1082,1096,1097,1108,1112,1118,1122,1133,1138,1139,1181,1185,1187,1195,1204,1213,1215,1227,1234,1237,1239,1246,1247,1249,1255,1258,1263,1264,1282,1302,1313,1315,1320,1324,1335,1337,1339,1340,1345,1349,1353,1384,1390,1395,1405,1417,1418,1423,1427,1429,1430,1442,1447,1449,1452,1463,1472,1477,1484,1499,1501,1506,1509,1530,1536,1540,1549,1570,1576,1579,1581,1583,1591,1595,1598,1618,1627,1628,1634,1635,1648,1649,1652,1653,1656,1666,1670,1676,1682,1692,1693,1695,1708,1717,1726,1727,1738,1741,1753,1760,1775,1779,1781,1786,1798,1802,1804,1808,1811,1820,1821,1827,1849,1858,1869,1873,1875,1876,1879,1880,1882,1896,1901,1902,1906,1908,1913,1919,1922,1924,1933,1938,1944,1945,1957,1961,1962,1965,1974,1975,1989,1990,1992,1993,2002,2004,2005,2009,2010,2011,2013,2014,2026,2041,2042,2044,2049,2051,2055,2062,2070,2073,2077,2084,2105,2124,2126,2128,2141,2145,2152,2153,2159,2160,2165,2166,2179,2188,2193,2194,2198,2210,2219,2220,2225,2229,2234,2244,2245,2246,2249,2252,2269,2270,2271,2273,2281,2290,2296,2298,2319,2323,2324,2325,2349,2366,2375,2380,2384,2399,2414,2417,2418,2426,2435,2436,2449,2450,2459,2462,2468,2470,2475,2484,2486,2492,2494,2503,2504,2510,2511,2525,2526,2539,2545,2546,2551,2552,2566,2567,2578,2582,2588,2592,2603,2608,2609,2651,2655,2657,2665,2674,2683,2685,2697,2704,2707,2709,2716,2717,2719,2725,2728,2733,2734,2752,2772,2783,2785,2790,2794,2805,2807,2809,2810,2815,2819,2823,2854,2860,2865,2875,2887,2888,2893,2897,2899,2900,2912,2917,2919,2922,2933,2942,2947,2954,2969,2971,2976,2979,3000,3006,3010,3019,3040,3046,3049,3051,3053,3061,3065,3068,3088,3097,3098,3104,3105,3118,3119,3122,3123,3126,3136,3140,3146,3152,3162,3163,3165,3178,3187,3196,3197,3208,3211,3223,3230,3245,3249,3251,3256,3268,3272,3274,3278,3281,3290,3291,3297,3319,3328,3339,3343,3345,3346,3349,3350,3352,3366,3371,3372,3376,3378,3383,3389,3392,3394,3403,3408,3414,3415,3427,3431,3432,3435,3444,3445,3459,3460,3462,3463,3472,3474,3475,3479,3480,3481,3483,3484,3496,3511,3512,3514,3519,3521,3525,3532,3540,3543,3547,3554,3575,3594,3596,3598,3611,3615,3622,3623,3629,3630,3635,3636,3649,3658,3663,3664,3668,3680,3689,3690,3695,3699,3704,3714,3715,3716,3719,3722,3739,3740,3741,3743,3751,3760,3766,3768,3789,3793,3794,3795,3819,3836,3845,3850,3854,3869,3884,3887,3888,3896,3905,3906,3919,3920,3929,3932,3938,3940,3945,3954,3956,3962,3964,3973,3974,3980,3981,3995,3996,4009,4015,4016,4021,4022,4036,4037,4048,4052,4058,4062,4073,4078,4079,4121,4125,4127,4135,4144,4153,4155,4167,4174,4177,4179,4186,4187,4189,4195,4198,4203,4204,4222,4242,4253,4255,4260,4264,4275,4277,4279,4280,4285,4289,4293,4324,4330,4335,4345,4357,4358,4363,4367,4369,4370,4382,4387,4389,4392,4403],\"yaxis\":\"y\",\"type\":\"bar\"}],                        {\"template\":{\"data\":{\"barpolar\":[{\"marker\":{\"line\":{\"color\":\"white\",\"width\":0.5},\"pattern\":{\"fillmode\":\"overlay\",\"size\":10,\"solidity\":0.2}},\"type\":\"barpolar\"}],\"bar\":[{\"error_x\":{\"color\":\"rgb(36,36,36)\"},\"error_y\":{\"color\":\"rgb(36,36,36)\"},\"marker\":{\"line\":{\"color\":\"white\",\"width\":0.5},\"pattern\":{\"fillmode\":\"overlay\",\"size\":10,\"solidity\":0.2}},\"type\":\"bar\"}],\"carpet\":[{\"aaxis\":{\"endlinecolor\":\"rgb(36,36,36)\",\"gridcolor\":\"white\",\"linecolor\":\"white\",\"minorgridcolor\":\"white\",\"startlinecolor\":\"rgb(36,36,36)\"},\"baxis\":{\"endlinecolor\":\"rgb(36,36,36)\",\"gridcolor\":\"white\",\"linecolor\":\"white\",\"minorgridcolor\":\"white\",\"startlinecolor\":\"rgb(36,36,36)\"},\"type\":\"carpet\"}],\"choropleth\":[{\"colorbar\":{\"outlinewidth\":1,\"tickcolor\":\"rgb(36,36,36)\",\"ticks\":\"outside\"},\"type\":\"choropleth\"}],\"contourcarpet\":[{\"colorbar\":{\"outlinewidth\":1,\"tickcolor\":\"rgb(36,36,36)\",\"ticks\":\"outside\"},\"type\":\"contourcarpet\"}],\"contour\":[{\"colorbar\":{\"outlinewidth\":1,\"tickcolor\":\"rgb(36,36,36)\",\"ticks\":\"outside\"},\"colorscale\":[[0.0,\"#440154\"],[0.1111111111111111,\"#482878\"],[0.2222222222222222,\"#3e4989\"],[0.3333333333333333,\"#31688e\"],[0.4444444444444444,\"#26828e\"],[0.5555555555555556,\"#1f9e89\"],[0.6666666666666666,\"#35b779\"],[0.7777777777777778,\"#6ece58\"],[0.8888888888888888,\"#b5de2b\"],[1.0,\"#fde725\"]],\"type\":\"contour\"}],\"heatmapgl\":[{\"colorbar\":{\"outlinewidth\":1,\"tickcolor\":\"rgb(36,36,36)\",\"ticks\":\"outside\"},\"colorscale\":[[0.0,\"#440154\"],[0.1111111111111111,\"#482878\"],[0.2222222222222222,\"#3e4989\"],[0.3333333333333333,\"#31688e\"],[0.4444444444444444,\"#26828e\"],[0.5555555555555556,\"#1f9e89\"],[0.6666666666666666,\"#35b779\"],[0.7777777777777778,\"#6ece58\"],[0.8888888888888888,\"#b5de2b\"],[1.0,\"#fde725\"]],\"type\":\"heatmapgl\"}],\"heatmap\":[{\"colorbar\":{\"outlinewidth\":1,\"tickcolor\":\"rgb(36,36,36)\",\"ticks\":\"outside\"},\"colorscale\":[[0.0,\"#440154\"],[0.1111111111111111,\"#482878\"],[0.2222222222222222,\"#3e4989\"],[0.3333333333333333,\"#31688e\"],[0.4444444444444444,\"#26828e\"],[0.5555555555555556,\"#1f9e89\"],[0.6666666666666666,\"#35b779\"],[0.7777777777777778,\"#6ece58\"],[0.8888888888888888,\"#b5de2b\"],[1.0,\"#fde725\"]],\"type\":\"heatmap\"}],\"histogram2dcontour\":[{\"colorbar\":{\"outlinewidth\":1,\"tickcolor\":\"rgb(36,36,36)\",\"ticks\":\"outside\"},\"colorscale\":[[0.0,\"#440154\"],[0.1111111111111111,\"#482878\"],[0.2222222222222222,\"#3e4989\"],[0.3333333333333333,\"#31688e\"],[0.4444444444444444,\"#26828e\"],[0.5555555555555556,\"#1f9e89\"],[0.6666666666666666,\"#35b779\"],[0.7777777777777778,\"#6ece58\"],[0.8888888888888888,\"#b5de2b\"],[1.0,\"#fde725\"]],\"type\":\"histogram2dcontour\"}],\"histogram2d\":[{\"colorbar\":{\"outlinewidth\":1,\"tickcolor\":\"rgb(36,36,36)\",\"ticks\":\"outside\"},\"colorscale\":[[0.0,\"#440154\"],[0.1111111111111111,\"#482878\"],[0.2222222222222222,\"#3e4989\"],[0.3333333333333333,\"#31688e\"],[0.4444444444444444,\"#26828e\"],[0.5555555555555556,\"#1f9e89\"],[0.6666666666666666,\"#35b779\"],[0.7777777777777778,\"#6ece58\"],[0.8888888888888888,\"#b5de2b\"],[1.0,\"#fde725\"]],\"type\":\"histogram2d\"}],\"histogram\":[{\"marker\":{\"line\":{\"color\":\"white\",\"width\":0.6}},\"type\":\"histogram\"}],\"mesh3d\":[{\"colorbar\":{\"outlinewidth\":1,\"tickcolor\":\"rgb(36,36,36)\",\"ticks\":\"outside\"},\"type\":\"mesh3d\"}],\"parcoords\":[{\"line\":{\"colorbar\":{\"outlinewidth\":1,\"tickcolor\":\"rgb(36,36,36)\",\"ticks\":\"outside\"}},\"type\":\"parcoords\"}],\"pie\":[{\"automargin\":true,\"type\":\"pie\"}],\"scatter3d\":[{\"line\":{\"colorbar\":{\"outlinewidth\":1,\"tickcolor\":\"rgb(36,36,36)\",\"ticks\":\"outside\"}},\"marker\":{\"colorbar\":{\"outlinewidth\":1,\"tickcolor\":\"rgb(36,36,36)\",\"ticks\":\"outside\"}},\"type\":\"scatter3d\"}],\"scattercarpet\":[{\"marker\":{\"colorbar\":{\"outlinewidth\":1,\"tickcolor\":\"rgb(36,36,36)\",\"ticks\":\"outside\"}},\"type\":\"scattercarpet\"}],\"scattergeo\":[{\"marker\":{\"colorbar\":{\"outlinewidth\":1,\"tickcolor\":\"rgb(36,36,36)\",\"ticks\":\"outside\"}},\"type\":\"scattergeo\"}],\"scattergl\":[{\"marker\":{\"colorbar\":{\"outlinewidth\":1,\"tickcolor\":\"rgb(36,36,36)\",\"ticks\":\"outside\"}},\"type\":\"scattergl\"}],\"scattermapbox\":[{\"marker\":{\"colorbar\":{\"outlinewidth\":1,\"tickcolor\":\"rgb(36,36,36)\",\"ticks\":\"outside\"}},\"type\":\"scattermapbox\"}],\"scatterpolargl\":[{\"marker\":{\"colorbar\":{\"outlinewidth\":1,\"tickcolor\":\"rgb(36,36,36)\",\"ticks\":\"outside\"}},\"type\":\"scatterpolargl\"}],\"scatterpolar\":[{\"marker\":{\"colorbar\":{\"outlinewidth\":1,\"tickcolor\":\"rgb(36,36,36)\",\"ticks\":\"outside\"}},\"type\":\"scatterpolar\"}],\"scatter\":[{\"fillpattern\":{\"fillmode\":\"overlay\",\"size\":10,\"solidity\":0.2},\"type\":\"scatter\"}],\"scatterternary\":[{\"marker\":{\"colorbar\":{\"outlinewidth\":1,\"tickcolor\":\"rgb(36,36,36)\",\"ticks\":\"outside\"}},\"type\":\"scatterternary\"}],\"surface\":[{\"colorbar\":{\"outlinewidth\":1,\"tickcolor\":\"rgb(36,36,36)\",\"ticks\":\"outside\"},\"colorscale\":[[0.0,\"#440154\"],[0.1111111111111111,\"#482878\"],[0.2222222222222222,\"#3e4989\"],[0.3333333333333333,\"#31688e\"],[0.4444444444444444,\"#26828e\"],[0.5555555555555556,\"#1f9e89\"],[0.6666666666666666,\"#35b779\"],[0.7777777777777778,\"#6ece58\"],[0.8888888888888888,\"#b5de2b\"],[1.0,\"#fde725\"]],\"type\":\"surface\"}],\"table\":[{\"cells\":{\"fill\":{\"color\":\"rgb(237,237,237)\"},\"line\":{\"color\":\"white\"}},\"header\":{\"fill\":{\"color\":\"rgb(217,217,217)\"},\"line\":{\"color\":\"white\"}},\"type\":\"table\"}]},\"layout\":{\"annotationdefaults\":{\"arrowhead\":0,\"arrowwidth\":1},\"autotypenumbers\":\"strict\",\"coloraxis\":{\"colorbar\":{\"outlinewidth\":1,\"tickcolor\":\"rgb(36,36,36)\",\"ticks\":\"outside\"}},\"colorscale\":{\"diverging\":[[0.0,\"rgb(103,0,31)\"],[0.1,\"rgb(178,24,43)\"],[0.2,\"rgb(214,96,77)\"],[0.3,\"rgb(244,165,130)\"],[0.4,\"rgb(253,219,199)\"],[0.5,\"rgb(247,247,247)\"],[0.6,\"rgb(209,229,240)\"],[0.7,\"rgb(146,197,222)\"],[0.8,\"rgb(67,147,195)\"],[0.9,\"rgb(33,102,172)\"],[1.0,\"rgb(5,48,97)\"]],\"sequential\":[[0.0,\"#440154\"],[0.1111111111111111,\"#482878\"],[0.2222222222222222,\"#3e4989\"],[0.3333333333333333,\"#31688e\"],[0.4444444444444444,\"#26828e\"],[0.5555555555555556,\"#1f9e89\"],[0.6666666666666666,\"#35b779\"],[0.7777777777777778,\"#6ece58\"],[0.8888888888888888,\"#b5de2b\"],[1.0,\"#fde725\"]],\"sequentialminus\":[[0.0,\"#440154\"],[0.1111111111111111,\"#482878\"],[0.2222222222222222,\"#3e4989\"],[0.3333333333333333,\"#31688e\"],[0.4444444444444444,\"#26828e\"],[0.5555555555555556,\"#1f9e89\"],[0.6666666666666666,\"#35b779\"],[0.7777777777777778,\"#6ece58\"],[0.8888888888888888,\"#b5de2b\"],[1.0,\"#fde725\"]]},\"colorway\":[\"#1F77B4\",\"#FF7F0E\",\"#2CA02C\",\"#D62728\",\"#9467BD\",\"#8C564B\",\"#E377C2\",\"#7F7F7F\",\"#BCBD22\",\"#17BECF\"],\"font\":{\"color\":\"rgb(36,36,36)\"},\"geo\":{\"bgcolor\":\"white\",\"lakecolor\":\"white\",\"landcolor\":\"white\",\"showlakes\":true,\"showland\":true,\"subunitcolor\":\"white\"},\"hoverlabel\":{\"align\":\"left\"},\"hovermode\":\"closest\",\"mapbox\":{\"style\":\"light\"},\"paper_bgcolor\":\"white\",\"plot_bgcolor\":\"white\",\"polar\":{\"angularaxis\":{\"gridcolor\":\"rgb(232,232,232)\",\"linecolor\":\"rgb(36,36,36)\",\"showgrid\":false,\"showline\":true,\"ticks\":\"outside\"},\"bgcolor\":\"white\",\"radialaxis\":{\"gridcolor\":\"rgb(232,232,232)\",\"linecolor\":\"rgb(36,36,36)\",\"showgrid\":false,\"showline\":true,\"ticks\":\"outside\"}},\"scene\":{\"xaxis\":{\"backgroundcolor\":\"white\",\"gridcolor\":\"rgb(232,232,232)\",\"gridwidth\":2,\"linecolor\":\"rgb(36,36,36)\",\"showbackground\":true,\"showgrid\":false,\"showline\":true,\"ticks\":\"outside\",\"zeroline\":false,\"zerolinecolor\":\"rgb(36,36,36)\"},\"yaxis\":{\"backgroundcolor\":\"white\",\"gridcolor\":\"rgb(232,232,232)\",\"gridwidth\":2,\"linecolor\":\"rgb(36,36,36)\",\"showbackground\":true,\"showgrid\":false,\"showline\":true,\"ticks\":\"outside\",\"zeroline\":false,\"zerolinecolor\":\"rgb(36,36,36)\"},\"zaxis\":{\"backgroundcolor\":\"white\",\"gridcolor\":\"rgb(232,232,232)\",\"gridwidth\":2,\"linecolor\":\"rgb(36,36,36)\",\"showbackground\":true,\"showgrid\":false,\"showline\":true,\"ticks\":\"outside\",\"zeroline\":false,\"zerolinecolor\":\"rgb(36,36,36)\"}},\"shapedefaults\":{\"fillcolor\":\"black\",\"line\":{\"width\":0},\"opacity\":0.3},\"ternary\":{\"aaxis\":{\"gridcolor\":\"rgb(232,232,232)\",\"linecolor\":\"rgb(36,36,36)\",\"showgrid\":false,\"showline\":true,\"ticks\":\"outside\"},\"baxis\":{\"gridcolor\":\"rgb(232,232,232)\",\"linecolor\":\"rgb(36,36,36)\",\"showgrid\":false,\"showline\":true,\"ticks\":\"outside\"},\"bgcolor\":\"white\",\"caxis\":{\"gridcolor\":\"rgb(232,232,232)\",\"linecolor\":\"rgb(36,36,36)\",\"showgrid\":false,\"showline\":true,\"ticks\":\"outside\"}},\"title\":{\"x\":0.05},\"xaxis\":{\"automargin\":true,\"gridcolor\":\"rgb(232,232,232)\",\"linecolor\":\"rgb(36,36,36)\",\"showgrid\":false,\"showline\":true,\"ticks\":\"outside\",\"title\":{\"standoff\":15},\"zeroline\":false,\"zerolinecolor\":\"rgb(36,36,36)\"},\"yaxis\":{\"automargin\":true,\"gridcolor\":\"rgb(232,232,232)\",\"linecolor\":\"rgb(36,36,36)\",\"showgrid\":false,\"showline\":true,\"ticks\":\"outside\",\"title\":{\"standoff\":15},\"zeroline\":false,\"zerolinecolor\":\"rgb(36,36,36)\"}}},\"xaxis\":{\"anchor\":\"y\",\"domain\":[0.0,1.0],\"title\":{\"text\":\"A\\u00f1os trabajado\"}},\"yaxis\":{\"anchor\":\"x\",\"domain\":[0.0,1.0],\"title\":{\"text\":\"Numero de trabajadores\"}},\"legend\":{\"tracegroupgap\":0,\"title\":{\"text\":\"A\\u00f1os trabajado\"}},\"title\":{\"text\":\"\\u003cb\\u003eEdad de los que renunciaron \\u003cb\\u003e\",\"x\":0.5},\"barmode\":\"relative\"},                        {\"responsive\": true}                    ).then(function(){\n",
              "                            \n",
              "var gd = document.getElementById('5d8c9716-85f0-4857-8dd7-676dcbbb4e16');\n",
              "var x = new MutationObserver(function (mutations, observer) {{\n",
              "        var display = window.getComputedStyle(gd).display;\n",
              "        if (!display || display === 'none') {{\n",
              "            console.log([gd, 'removed!']);\n",
              "            Plotly.purge(gd);\n",
              "            observer.disconnect();\n",
              "        }}\n",
              "}});\n",
              "\n",
              "// Listen for the removal of the full notebook cells\n",
              "var notebookContainer = gd.closest('#notebook-container');\n",
              "if (notebookContainer) {{\n",
              "    x.observe(notebookContainer, {childList: true});\n",
              "}}\n",
              "\n",
              "// Listen for the clearing of the current output cell\n",
              "var outputEl = gd.closest('.output');\n",
              "if (outputEl) {{\n",
              "    x.observe(outputEl, {childList: true});\n",
              "}}\n",
              "\n",
              "                        })                };                            </script>        </div>\n",
              "</body>\n",
              "</html>"
            ]
          },
          "metadata": {}
        }
      ],
      "source": [
        "fig= px.bar(renuncia_si, x='JobSatisfaction', y='EmployeeID', title= '<b>Edad de los que renunciaron <b>')\n",
        "fig.update_layout(\n",
        "    xaxis_title='Años trabajado',\n",
        "    yaxis_title='Numero de trabajadores',\n",
        "    legend_title='Años trabajado',\n",
        "    template= 'simple_white', #color del fondo\n",
        "    title_x=0.5, #ubicacion del titulo\n",
        "\n",
        ")"
      ]
    },
    {
      "cell_type": "code",
      "execution_count": null,
      "metadata": {
        "id": "5SJEcrVgRu1c",
        "colab": {
          "base_uri": "https://localhost:8080/",
          "height": 542
        },
        "outputId": "f0c01055-f1b0-4d51-d9a2-255843cfe407"
      },
      "outputs": [
        {
          "output_type": "display_data",
          "data": {
            "text/html": [
              "<html>\n",
              "<head><meta charset=\"utf-8\" /></head>\n",
              "<body>\n",
              "    <div>            <script src=\"https://cdnjs.cloudflare.com/ajax/libs/mathjax/2.7.5/MathJax.js?config=TeX-AMS-MML_SVG\"></script><script type=\"text/javascript\">if (window.MathJax && window.MathJax.Hub && window.MathJax.Hub.Config) {window.MathJax.Hub.Config({SVG: {font: \"STIX-Web\"}});}</script>                <script type=\"text/javascript\">window.PlotlyConfig = {MathJaxConfig: 'local'};</script>\n",
              "        <script charset=\"utf-8\" src=\"https://cdn.plot.ly/plotly-2.24.1.min.js\"></script>                <div id=\"9ce06c7f-7675-47b6-8bd1-631a9b72bf64\" class=\"plotly-graph-div\" style=\"height:525px; width:100%;\"></div>            <script type=\"text/javascript\">                                    window.PLOTLYENV=window.PLOTLYENV || {};                                    if (document.getElementById(\"9ce06c7f-7675-47b6-8bd1-631a9b72bf64\")) {                    Plotly.newPlot(                        \"9ce06c7f-7675-47b6-8bd1-631a9b72bf64\",                        [{\"alignmentgroup\":\"True\",\"hovertemplate\":\"Age=%{x}\\u003cbr\\u003eEmployeeID=%{y}\\u003cextra\\u003e\\u003c\\u002fextra\\u003e\",\"legendgroup\":\"\",\"marker\":{\"color\":\"#636efa\",\"pattern\":{\"shape\":\"\"}},\"name\":\"\",\"offsetgroup\":\"\",\"orientation\":\"v\",\"showlegend\":false,\"textposition\":\"auto\",\"x\":[31,28,47,44,26,26,18,52,28,39,29,21,33,41,40,21,34,26,30,25,24,34,29,19,33,33,31,34,22,26,18,26,32,24,30,31,27,45,20,33,24,50,28,42,33,47,55,26,23,29,33,58,28,49,55,26,35,29,32,58,20,21,22,41,39,25,19,20,36,37,58,40,31,29,30,35,20,30,37,26,52,36,36,26,20,21,51,28,44,35,33,25,26,33,28,50,39,18,33,31,29,42,28,43,44,22,41,24,19,25,45,21,44,29,32,39,40,52,31,44,58,55,31,35,31,27,49,29,31,31,25,46,39,31,31,34,28,29,34,24,28,29,40,31,30,35,53,38,28,18,35,35,40,35,23,48,32,23,24,47,36,32,30,29,33,31,43,21,22,44,35,34,37,26,46,31,29,32,29,46,30,22,34,56,29,28,32,27,28,31,53,23,29,56,50,50,41,37,28,36,34,32,39,24,50,26,41,48,28,36,46,37,20,25,34,56,31,58,19,31,51,32,19,19,41,35,38,29,32,30,30,29,29,33,33,32,37,31,28,47,44,26,26,18,52,28,39,29,21,33,41,40,21,34,26,30,25,24,34,29,19,33,33,31,34,22,26,18,26,32,24,30,31,27,45,20,33,24,50,28,42,33,47,55,26,23,29,33,58,28,49,55,26,35,29,32,58,20,21,22,41,39,25,19,20,36,37,58,40,31,29,30,35,20,30,37,26,52,36,36,26,20,21,51,28,44,35,33,25,26,33,28,50,39,18,33,31,29,42,28,43,44,22,41,24,19,25,45,21,44,29,32,39,40,52,31,44,58,55,31,35,31,27,49,29,31,31,25,46,39,31,31,34,28,29,34,24,28,29,40,31,30,35,53,38,28,18,35,35,40,35,23,48,32,23,24,47,36,32,30,29,33,31,43,21,22,44,35,34,37,26,46,31,29,32,29,46,30,22,34,56,29,28,32,27,28,31,53,23,29,56,50,50,41,37,28,36,34,32,39,24,50,26,41,48,28,36,46,37,20,25,34,56,31,58,19,31,51,32,19,19,41,35,38,29,32,30,30,29,29,33,33,32,37,31,28,47,44,26,26,18,52,28,39,29,21,33,41,40,21,34,26,30,25,24,34,29,19,33,33,31,34,22,26,18,26,32,24,30,31,27,45,20,33,24,50,28,42,33,47,55,26,23,29,33,58,28,49,55,26,35,29,32,58,20,21,22,41,39,25,19,20,36,37,58,40,31,29,30,35,20,30,37,26,52,36,36,26,20,21,51,28,44,35,33,25,26,33,28,50,39,18,33,31,29,42,28,43,44,22,41,24,19,25,45,21,44,29,32,39,40,52,31,44,58,55,31,35,31,27,49,29,31,31,25,46,39,31,31,34,28,29,34,24,28,29,40,31,30,35,53,38,28,18,35,35,40,35,23,48,32,23,24,47,36,32,30,29,33,31,43,21,22,44,35,34,37,26,46,31,29,32,29,46,30,22,34,56,29,28,32,27,28,31,53,23,29,56,50,50,41,37,28,36,34,32,39,24,50,26,41,48,28,36,46,37,20,25,34,56,31,58,19,31,51,32,19,19,41,35,38,29,32,30,30,29,29,33,33,32,37],\"xaxis\":\"x\",\"y\":[2,7,14,29,31,36,39,60,66,70,79,100,106,109,111,113,121,125,128,148,157,158,164,165,178,179,182,183,186,196,200,206,212,222,223,225,238,247,256,257,268,271,283,290,305,309,311,316,328,332,334,338,341,350,351,357,379,388,399,403,405,406,409,410,412,426,431,432,436,438,443,449,452,454,463,468,474,475,487,491,492,495,504,505,519,520,522,523,532,534,535,539,540,541,543,544,556,571,572,574,579,581,585,592,600,603,607,614,635,654,656,658,671,675,682,683,689,690,695,696,709,718,723,724,728,740,749,750,755,759,764,774,775,776,779,782,799,800,801,803,811,820,826,828,849,853,854,855,879,896,905,910,914,929,944,947,948,956,965,966,979,980,989,992,998,1000,1005,1014,1016,1022,1024,1033,1034,1040,1041,1055,1056,1069,1075,1076,1081,1082,1096,1097,1108,1112,1118,1122,1133,1138,1139,1181,1185,1187,1195,1204,1213,1215,1227,1234,1237,1239,1246,1247,1249,1255,1258,1263,1264,1282,1302,1313,1315,1320,1324,1335,1337,1339,1340,1345,1349,1353,1384,1390,1395,1405,1417,1418,1423,1427,1429,1430,1442,1447,1449,1452,1463,1472,1477,1484,1499,1501,1506,1509,1530,1536,1540,1549,1570,1576,1579,1581,1583,1591,1595,1598,1618,1627,1628,1634,1635,1648,1649,1652,1653,1656,1666,1670,1676,1682,1692,1693,1695,1708,1717,1726,1727,1738,1741,1753,1760,1775,1779,1781,1786,1798,1802,1804,1808,1811,1820,1821,1827,1849,1858,1869,1873,1875,1876,1879,1880,1882,1896,1901,1902,1906,1908,1913,1919,1922,1924,1933,1938,1944,1945,1957,1961,1962,1965,1974,1975,1989,1990,1992,1993,2002,2004,2005,2009,2010,2011,2013,2014,2026,2041,2042,2044,2049,2051,2055,2062,2070,2073,2077,2084,2105,2124,2126,2128,2141,2145,2152,2153,2159,2160,2165,2166,2179,2188,2193,2194,2198,2210,2219,2220,2225,2229,2234,2244,2245,2246,2249,2252,2269,2270,2271,2273,2281,2290,2296,2298,2319,2323,2324,2325,2349,2366,2375,2380,2384,2399,2414,2417,2418,2426,2435,2436,2449,2450,2459,2462,2468,2470,2475,2484,2486,2492,2494,2503,2504,2510,2511,2525,2526,2539,2545,2546,2551,2552,2566,2567,2578,2582,2588,2592,2603,2608,2609,2651,2655,2657,2665,2674,2683,2685,2697,2704,2707,2709,2716,2717,2719,2725,2728,2733,2734,2752,2772,2783,2785,2790,2794,2805,2807,2809,2810,2815,2819,2823,2854,2860,2865,2875,2887,2888,2893,2897,2899,2900,2912,2917,2919,2922,2933,2942,2947,2954,2969,2971,2976,2979,3000,3006,3010,3019,3040,3046,3049,3051,3053,3061,3065,3068,3088,3097,3098,3104,3105,3118,3119,3122,3123,3126,3136,3140,3146,3152,3162,3163,3165,3178,3187,3196,3197,3208,3211,3223,3230,3245,3249,3251,3256,3268,3272,3274,3278,3281,3290,3291,3297,3319,3328,3339,3343,3345,3346,3349,3350,3352,3366,3371,3372,3376,3378,3383,3389,3392,3394,3403,3408,3414,3415,3427,3431,3432,3435,3444,3445,3459,3460,3462,3463,3472,3474,3475,3479,3480,3481,3483,3484,3496,3511,3512,3514,3519,3521,3525,3532,3540,3543,3547,3554,3575,3594,3596,3598,3611,3615,3622,3623,3629,3630,3635,3636,3649,3658,3663,3664,3668,3680,3689,3690,3695,3699,3704,3714,3715,3716,3719,3722,3739,3740,3741,3743,3751,3760,3766,3768,3789,3793,3794,3795,3819,3836,3845,3850,3854,3869,3884,3887,3888,3896,3905,3906,3919,3920,3929,3932,3938,3940,3945,3954,3956,3962,3964,3973,3974,3980,3981,3995,3996,4009,4015,4016,4021,4022,4036,4037,4048,4052,4058,4062,4073,4078,4079,4121,4125,4127,4135,4144,4153,4155,4167,4174,4177,4179,4186,4187,4189,4195,4198,4203,4204,4222,4242,4253,4255,4260,4264,4275,4277,4279,4280,4285,4289,4293,4324,4330,4335,4345,4357,4358,4363,4367,4369,4370,4382,4387,4389,4392,4403],\"yaxis\":\"y\",\"type\":\"bar\"}],                        {\"template\":{\"data\":{\"barpolar\":[{\"marker\":{\"line\":{\"color\":\"white\",\"width\":0.5},\"pattern\":{\"fillmode\":\"overlay\",\"size\":10,\"solidity\":0.2}},\"type\":\"barpolar\"}],\"bar\":[{\"error_x\":{\"color\":\"rgb(36,36,36)\"},\"error_y\":{\"color\":\"rgb(36,36,36)\"},\"marker\":{\"line\":{\"color\":\"white\",\"width\":0.5},\"pattern\":{\"fillmode\":\"overlay\",\"size\":10,\"solidity\":0.2}},\"type\":\"bar\"}],\"carpet\":[{\"aaxis\":{\"endlinecolor\":\"rgb(36,36,36)\",\"gridcolor\":\"white\",\"linecolor\":\"white\",\"minorgridcolor\":\"white\",\"startlinecolor\":\"rgb(36,36,36)\"},\"baxis\":{\"endlinecolor\":\"rgb(36,36,36)\",\"gridcolor\":\"white\",\"linecolor\":\"white\",\"minorgridcolor\":\"white\",\"startlinecolor\":\"rgb(36,36,36)\"},\"type\":\"carpet\"}],\"choropleth\":[{\"colorbar\":{\"outlinewidth\":1,\"tickcolor\":\"rgb(36,36,36)\",\"ticks\":\"outside\"},\"type\":\"choropleth\"}],\"contourcarpet\":[{\"colorbar\":{\"outlinewidth\":1,\"tickcolor\":\"rgb(36,36,36)\",\"ticks\":\"outside\"},\"type\":\"contourcarpet\"}],\"contour\":[{\"colorbar\":{\"outlinewidth\":1,\"tickcolor\":\"rgb(36,36,36)\",\"ticks\":\"outside\"},\"colorscale\":[[0.0,\"#440154\"],[0.1111111111111111,\"#482878\"],[0.2222222222222222,\"#3e4989\"],[0.3333333333333333,\"#31688e\"],[0.4444444444444444,\"#26828e\"],[0.5555555555555556,\"#1f9e89\"],[0.6666666666666666,\"#35b779\"],[0.7777777777777778,\"#6ece58\"],[0.8888888888888888,\"#b5de2b\"],[1.0,\"#fde725\"]],\"type\":\"contour\"}],\"heatmapgl\":[{\"colorbar\":{\"outlinewidth\":1,\"tickcolor\":\"rgb(36,36,36)\",\"ticks\":\"outside\"},\"colorscale\":[[0.0,\"#440154\"],[0.1111111111111111,\"#482878\"],[0.2222222222222222,\"#3e4989\"],[0.3333333333333333,\"#31688e\"],[0.4444444444444444,\"#26828e\"],[0.5555555555555556,\"#1f9e89\"],[0.6666666666666666,\"#35b779\"],[0.7777777777777778,\"#6ece58\"],[0.8888888888888888,\"#b5de2b\"],[1.0,\"#fde725\"]],\"type\":\"heatmapgl\"}],\"heatmap\":[{\"colorbar\":{\"outlinewidth\":1,\"tickcolor\":\"rgb(36,36,36)\",\"ticks\":\"outside\"},\"colorscale\":[[0.0,\"#440154\"],[0.1111111111111111,\"#482878\"],[0.2222222222222222,\"#3e4989\"],[0.3333333333333333,\"#31688e\"],[0.4444444444444444,\"#26828e\"],[0.5555555555555556,\"#1f9e89\"],[0.6666666666666666,\"#35b779\"],[0.7777777777777778,\"#6ece58\"],[0.8888888888888888,\"#b5de2b\"],[1.0,\"#fde725\"]],\"type\":\"heatmap\"}],\"histogram2dcontour\":[{\"colorbar\":{\"outlinewidth\":1,\"tickcolor\":\"rgb(36,36,36)\",\"ticks\":\"outside\"},\"colorscale\":[[0.0,\"#440154\"],[0.1111111111111111,\"#482878\"],[0.2222222222222222,\"#3e4989\"],[0.3333333333333333,\"#31688e\"],[0.4444444444444444,\"#26828e\"],[0.5555555555555556,\"#1f9e89\"],[0.6666666666666666,\"#35b779\"],[0.7777777777777778,\"#6ece58\"],[0.8888888888888888,\"#b5de2b\"],[1.0,\"#fde725\"]],\"type\":\"histogram2dcontour\"}],\"histogram2d\":[{\"colorbar\":{\"outlinewidth\":1,\"tickcolor\":\"rgb(36,36,36)\",\"ticks\":\"outside\"},\"colorscale\":[[0.0,\"#440154\"],[0.1111111111111111,\"#482878\"],[0.2222222222222222,\"#3e4989\"],[0.3333333333333333,\"#31688e\"],[0.4444444444444444,\"#26828e\"],[0.5555555555555556,\"#1f9e89\"],[0.6666666666666666,\"#35b779\"],[0.7777777777777778,\"#6ece58\"],[0.8888888888888888,\"#b5de2b\"],[1.0,\"#fde725\"]],\"type\":\"histogram2d\"}],\"histogram\":[{\"marker\":{\"line\":{\"color\":\"white\",\"width\":0.6}},\"type\":\"histogram\"}],\"mesh3d\":[{\"colorbar\":{\"outlinewidth\":1,\"tickcolor\":\"rgb(36,36,36)\",\"ticks\":\"outside\"},\"type\":\"mesh3d\"}],\"parcoords\":[{\"line\":{\"colorbar\":{\"outlinewidth\":1,\"tickcolor\":\"rgb(36,36,36)\",\"ticks\":\"outside\"}},\"type\":\"parcoords\"}],\"pie\":[{\"automargin\":true,\"type\":\"pie\"}],\"scatter3d\":[{\"line\":{\"colorbar\":{\"outlinewidth\":1,\"tickcolor\":\"rgb(36,36,36)\",\"ticks\":\"outside\"}},\"marker\":{\"colorbar\":{\"outlinewidth\":1,\"tickcolor\":\"rgb(36,36,36)\",\"ticks\":\"outside\"}},\"type\":\"scatter3d\"}],\"scattercarpet\":[{\"marker\":{\"colorbar\":{\"outlinewidth\":1,\"tickcolor\":\"rgb(36,36,36)\",\"ticks\":\"outside\"}},\"type\":\"scattercarpet\"}],\"scattergeo\":[{\"marker\":{\"colorbar\":{\"outlinewidth\":1,\"tickcolor\":\"rgb(36,36,36)\",\"ticks\":\"outside\"}},\"type\":\"scattergeo\"}],\"scattergl\":[{\"marker\":{\"colorbar\":{\"outlinewidth\":1,\"tickcolor\":\"rgb(36,36,36)\",\"ticks\":\"outside\"}},\"type\":\"scattergl\"}],\"scattermapbox\":[{\"marker\":{\"colorbar\":{\"outlinewidth\":1,\"tickcolor\":\"rgb(36,36,36)\",\"ticks\":\"outside\"}},\"type\":\"scattermapbox\"}],\"scatterpolargl\":[{\"marker\":{\"colorbar\":{\"outlinewidth\":1,\"tickcolor\":\"rgb(36,36,36)\",\"ticks\":\"outside\"}},\"type\":\"scatterpolargl\"}],\"scatterpolar\":[{\"marker\":{\"colorbar\":{\"outlinewidth\":1,\"tickcolor\":\"rgb(36,36,36)\",\"ticks\":\"outside\"}},\"type\":\"scatterpolar\"}],\"scatter\":[{\"fillpattern\":{\"fillmode\":\"overlay\",\"size\":10,\"solidity\":0.2},\"type\":\"scatter\"}],\"scatterternary\":[{\"marker\":{\"colorbar\":{\"outlinewidth\":1,\"tickcolor\":\"rgb(36,36,36)\",\"ticks\":\"outside\"}},\"type\":\"scatterternary\"}],\"surface\":[{\"colorbar\":{\"outlinewidth\":1,\"tickcolor\":\"rgb(36,36,36)\",\"ticks\":\"outside\"},\"colorscale\":[[0.0,\"#440154\"],[0.1111111111111111,\"#482878\"],[0.2222222222222222,\"#3e4989\"],[0.3333333333333333,\"#31688e\"],[0.4444444444444444,\"#26828e\"],[0.5555555555555556,\"#1f9e89\"],[0.6666666666666666,\"#35b779\"],[0.7777777777777778,\"#6ece58\"],[0.8888888888888888,\"#b5de2b\"],[1.0,\"#fde725\"]],\"type\":\"surface\"}],\"table\":[{\"cells\":{\"fill\":{\"color\":\"rgb(237,237,237)\"},\"line\":{\"color\":\"white\"}},\"header\":{\"fill\":{\"color\":\"rgb(217,217,217)\"},\"line\":{\"color\":\"white\"}},\"type\":\"table\"}]},\"layout\":{\"annotationdefaults\":{\"arrowhead\":0,\"arrowwidth\":1},\"autotypenumbers\":\"strict\",\"coloraxis\":{\"colorbar\":{\"outlinewidth\":1,\"tickcolor\":\"rgb(36,36,36)\",\"ticks\":\"outside\"}},\"colorscale\":{\"diverging\":[[0.0,\"rgb(103,0,31)\"],[0.1,\"rgb(178,24,43)\"],[0.2,\"rgb(214,96,77)\"],[0.3,\"rgb(244,165,130)\"],[0.4,\"rgb(253,219,199)\"],[0.5,\"rgb(247,247,247)\"],[0.6,\"rgb(209,229,240)\"],[0.7,\"rgb(146,197,222)\"],[0.8,\"rgb(67,147,195)\"],[0.9,\"rgb(33,102,172)\"],[1.0,\"rgb(5,48,97)\"]],\"sequential\":[[0.0,\"#440154\"],[0.1111111111111111,\"#482878\"],[0.2222222222222222,\"#3e4989\"],[0.3333333333333333,\"#31688e\"],[0.4444444444444444,\"#26828e\"],[0.5555555555555556,\"#1f9e89\"],[0.6666666666666666,\"#35b779\"],[0.7777777777777778,\"#6ece58\"],[0.8888888888888888,\"#b5de2b\"],[1.0,\"#fde725\"]],\"sequentialminus\":[[0.0,\"#440154\"],[0.1111111111111111,\"#482878\"],[0.2222222222222222,\"#3e4989\"],[0.3333333333333333,\"#31688e\"],[0.4444444444444444,\"#26828e\"],[0.5555555555555556,\"#1f9e89\"],[0.6666666666666666,\"#35b779\"],[0.7777777777777778,\"#6ece58\"],[0.8888888888888888,\"#b5de2b\"],[1.0,\"#fde725\"]]},\"colorway\":[\"#1F77B4\",\"#FF7F0E\",\"#2CA02C\",\"#D62728\",\"#9467BD\",\"#8C564B\",\"#E377C2\",\"#7F7F7F\",\"#BCBD22\",\"#17BECF\"],\"font\":{\"color\":\"rgb(36,36,36)\"},\"geo\":{\"bgcolor\":\"white\",\"lakecolor\":\"white\",\"landcolor\":\"white\",\"showlakes\":true,\"showland\":true,\"subunitcolor\":\"white\"},\"hoverlabel\":{\"align\":\"left\"},\"hovermode\":\"closest\",\"mapbox\":{\"style\":\"light\"},\"paper_bgcolor\":\"white\",\"plot_bgcolor\":\"white\",\"polar\":{\"angularaxis\":{\"gridcolor\":\"rgb(232,232,232)\",\"linecolor\":\"rgb(36,36,36)\",\"showgrid\":false,\"showline\":true,\"ticks\":\"outside\"},\"bgcolor\":\"white\",\"radialaxis\":{\"gridcolor\":\"rgb(232,232,232)\",\"linecolor\":\"rgb(36,36,36)\",\"showgrid\":false,\"showline\":true,\"ticks\":\"outside\"}},\"scene\":{\"xaxis\":{\"backgroundcolor\":\"white\",\"gridcolor\":\"rgb(232,232,232)\",\"gridwidth\":2,\"linecolor\":\"rgb(36,36,36)\",\"showbackground\":true,\"showgrid\":false,\"showline\":true,\"ticks\":\"outside\",\"zeroline\":false,\"zerolinecolor\":\"rgb(36,36,36)\"},\"yaxis\":{\"backgroundcolor\":\"white\",\"gridcolor\":\"rgb(232,232,232)\",\"gridwidth\":2,\"linecolor\":\"rgb(36,36,36)\",\"showbackground\":true,\"showgrid\":false,\"showline\":true,\"ticks\":\"outside\",\"zeroline\":false,\"zerolinecolor\":\"rgb(36,36,36)\"},\"zaxis\":{\"backgroundcolor\":\"white\",\"gridcolor\":\"rgb(232,232,232)\",\"gridwidth\":2,\"linecolor\":\"rgb(36,36,36)\",\"showbackground\":true,\"showgrid\":false,\"showline\":true,\"ticks\":\"outside\",\"zeroline\":false,\"zerolinecolor\":\"rgb(36,36,36)\"}},\"shapedefaults\":{\"fillcolor\":\"black\",\"line\":{\"width\":0},\"opacity\":0.3},\"ternary\":{\"aaxis\":{\"gridcolor\":\"rgb(232,232,232)\",\"linecolor\":\"rgb(36,36,36)\",\"showgrid\":false,\"showline\":true,\"ticks\":\"outside\"},\"baxis\":{\"gridcolor\":\"rgb(232,232,232)\",\"linecolor\":\"rgb(36,36,36)\",\"showgrid\":false,\"showline\":true,\"ticks\":\"outside\"},\"bgcolor\":\"white\",\"caxis\":{\"gridcolor\":\"rgb(232,232,232)\",\"linecolor\":\"rgb(36,36,36)\",\"showgrid\":false,\"showline\":true,\"ticks\":\"outside\"}},\"title\":{\"x\":0.05},\"xaxis\":{\"automargin\":true,\"gridcolor\":\"rgb(232,232,232)\",\"linecolor\":\"rgb(36,36,36)\",\"showgrid\":false,\"showline\":true,\"ticks\":\"outside\",\"title\":{\"standoff\":15},\"zeroline\":false,\"zerolinecolor\":\"rgb(36,36,36)\"},\"yaxis\":{\"automargin\":true,\"gridcolor\":\"rgb(232,232,232)\",\"linecolor\":\"rgb(36,36,36)\",\"showgrid\":false,\"showline\":true,\"ticks\":\"outside\",\"title\":{\"standoff\":15},\"zeroline\":false,\"zerolinecolor\":\"rgb(36,36,36)\"}}},\"xaxis\":{\"anchor\":\"y\",\"domain\":[0.0,1.0],\"title\":{\"text\":\"A\\u00f1os trabajado\"}},\"yaxis\":{\"anchor\":\"x\",\"domain\":[0.0,1.0],\"title\":{\"text\":\"Numero de trabajadores\"}},\"legend\":{\"tracegroupgap\":0,\"title\":{\"text\":\"A\\u00f1os trabajado\"}},\"title\":{\"text\":\"\\u003cb\\u003eEdad de los que renunciaron \\u003cb\\u003e\",\"x\":0.5},\"barmode\":\"relative\"},                        {\"responsive\": true}                    ).then(function(){\n",
              "                            \n",
              "var gd = document.getElementById('9ce06c7f-7675-47b6-8bd1-631a9b72bf64');\n",
              "var x = new MutationObserver(function (mutations, observer) {{\n",
              "        var display = window.getComputedStyle(gd).display;\n",
              "        if (!display || display === 'none') {{\n",
              "            console.log([gd, 'removed!']);\n",
              "            Plotly.purge(gd);\n",
              "            observer.disconnect();\n",
              "        }}\n",
              "}});\n",
              "\n",
              "// Listen for the removal of the full notebook cells\n",
              "var notebookContainer = gd.closest('#notebook-container');\n",
              "if (notebookContainer) {{\n",
              "    x.observe(notebookContainer, {childList: true});\n",
              "}}\n",
              "\n",
              "// Listen for the clearing of the current output cell\n",
              "var outputEl = gd.closest('.output');\n",
              "if (outputEl) {{\n",
              "    x.observe(outputEl, {childList: true});\n",
              "}}\n",
              "\n",
              "                        })                };                            </script>        </div>\n",
              "</body>\n",
              "</html>"
            ]
          },
          "metadata": {}
        }
      ],
      "source": [
        "fig= px.bar(renuncia_si, x='Age', y='EmployeeID', title= '<b>Edad de los que renunciaron <b>')\n",
        "fig.update_layout(\n",
        "    xaxis_title='Años trabajado',\n",
        "    yaxis_title='Numero de trabajadores',\n",
        "    legend_title='Años trabajado',\n",
        "    template= 'simple_white', #color del fondo\n",
        "    title_x=0.5, #ubicacion del titulo\n",
        "\n",
        ")"
      ]
    },
    {
      "cell_type": "code",
      "execution_count": null,
      "metadata": {
        "id": "QKYaK2AZSTSY",
        "colab": {
          "base_uri": "https://localhost:8080/",
          "height": 542
        },
        "outputId": "418f51c2-da10-4d96-f346-08c4a011370d"
      },
      "outputs": [
        {
          "output_type": "display_data",
          "data": {
            "text/html": [
              "<html>\n",
              "<head><meta charset=\"utf-8\" /></head>\n",
              "<body>\n",
              "    <div>            <script src=\"https://cdnjs.cloudflare.com/ajax/libs/mathjax/2.7.5/MathJax.js?config=TeX-AMS-MML_SVG\"></script><script type=\"text/javascript\">if (window.MathJax && window.MathJax.Hub && window.MathJax.Hub.Config) {window.MathJax.Hub.Config({SVG: {font: \"STIX-Web\"}});}</script>                <script type=\"text/javascript\">window.PlotlyConfig = {MathJaxConfig: 'local'};</script>\n",
              "        <script charset=\"utf-8\" src=\"https://cdn.plot.ly/plotly-2.24.1.min.js\"></script>                <div id=\"d1486e77-7ad6-4f1c-a0e2-52ba9fa58fe1\" class=\"plotly-graph-div\" style=\"height:525px; width:100%;\"></div>            <script type=\"text/javascript\">                                    window.PLOTLYENV=window.PLOTLYENV || {};                                    if (document.getElementById(\"d1486e77-7ad6-4f1c-a0e2-52ba9fa58fe1\")) {                    Plotly.newPlot(                        \"d1486e77-7ad6-4f1c-a0e2-52ba9fa58fe1\",                        [{\"alignmentgroup\":\"True\",\"hovertemplate\":\"TotalWorkingYears=%{x}\\u003cbr\\u003eEmployeeID=%{y}\\u003cextra\\u003e\\u003c\\u002fextra\\u003e\",\"legendgroup\":\"\",\"marker\":{\"color\":\"#636efa\",\"pattern\":{\"shape\":\"\"}},\"name\":\"\",\"offsetgroup\":\"\",\"orientation\":\"v\",\"showlegend\":false,\"textposition\":\"auto\",\"x\":[6,5,10,19,5,8,0,11,5,12,7,3,1,8,8,1,9,7,3,6,6,3,6,1,15,8,12,11,4,8,0,1,6,6,1,9,5,5,1,10,4,18,10,7,10,10,24,6,1,1,6,40,5,9,12,8,10,5,1,3,2,1,4,10,8,1,1,1,16,17,7,22,4,3,7,5,1,4,15,7,33,18,9,6,2,1,18,10,24,9,14,7,1,5,1,5,21,0,6,2,11,22,1,7,6,1,5,1,1,1,26,2,10,10,10,6,9,10,3,10,31,24,3,5,10,8,20,9,1,1,6,28,11,10,7,2,5,7,16,4,8,11,15,7,10,1,34,7,1,0,15,7,10,13,5,19,1,3,1,25,16,10,6,2,11,10,6,1,1,6,10,11,10,6,13,2,4,7,1,14,1,1,5,5,1,6,8,1,6,10,15,1,4,14,12,20,8,7,6,10,8,10,19,6,3,1,23,23,2,2,9,7,1,6,9,7,12,40,0,4,18,10,1,1,4,8,17,10,14,8,9,7,4,8,13,4,17,6,5,10,19,5,8,0,11,5,12,7,3,1,8,8,1,9,7,3,6,6,3,6,1,15,8,12,11,4,8,0,1,6,6,1,9,5,5,1,10,4,18,10,7,10,8,24,6,1,1,6,40,5,9,12,8,10,5,1,3,2,1,4,10,8,1,1,1,16,17,7,22,4,3,7,5,1,4,15,7,33,18,9,6,2,1,18,10,24,9,14,7,1,5,1,5,21,0,6,2,11,22,1,7,6,1,5,1,1,1,26,2,10,10,10,6,9,10,3,10,31,24,3,5,10,8,20,9,1,1,6,28,11,10,7,2,5,7,16,4,8,11,15,7,10,1,34,7,1,0,15,7,10,13,5,19,1,3,1,25,16,10,6,2,11,10,6,1,1,6,10,11,10,6,13,2,4,7,1,14,1,1,5,5,1,6,8,1,6,10,15,1,4,14,12,20,8,7,6,10,8,10,19,6,3,1,23,23,2,2,9,7,1,6,9,7,12,40,0,4,18,10,1,1,4,8,17,10,14,8,9,7,4,8,13,4,17,6,5,10,19,5,8,0,11,5,12,7,3,1,8,8,1,9,7,3,6,6,3,6,1,15,8,12,11,4,8,0,1,6,6,1,9,5,5,1,10,4,18,10,7,10,8,24,6,1,1,6,40,5,9,12,8,10,5,1,3,2,1,4,10,8,1,1,1,16,17,7,22,4,3,7,5,1,4,15,7,33,18,9,6,2,1,18,10,24,9,14,7,1,5,1,5,21,0,6,2,11,22,1,7,6,1,5,1,1,1,26,2,10,10,10,6,9,10,3,10,31,24,3,5,10,8,20,9,1,1,6,28,11,10,7,2,5,7,16,4,8,11,15,7,10,1,34,7,10,0,15,7,10,13,5,19,1,3,1,25,16,10,6,2,11,10,6,1,1,6,10,11,10,6,13,2,4,7,1,14,1,1,5,5,1,6,8,1,6,10,15,1,4,14,12,20,8,7,6,10,8,10,19,6,3,1,23,23,2,2,9,7,1,6,9,7,12,40,0,4,18,10,1,1,4,8,17,10,14,8,9,7,4,8,13,4,17],\"xaxis\":\"x\",\"y\":[2,7,14,29,31,36,39,60,66,70,79,100,106,109,111,113,121,125,128,148,157,158,164,165,178,179,182,183,186,196,200,206,212,222,223,225,238,247,256,257,268,271,283,290,305,309,311,316,328,332,334,338,341,350,351,357,379,388,399,403,405,406,409,410,412,426,431,432,436,438,443,449,452,454,463,468,474,475,487,491,492,495,504,505,519,520,522,523,532,534,535,539,540,541,543,544,556,571,572,574,579,581,585,592,600,603,607,614,635,654,656,658,671,675,682,683,689,690,695,696,709,718,723,724,728,740,749,750,755,759,764,774,775,776,779,782,799,800,801,803,811,820,826,828,849,853,854,855,879,896,905,910,914,929,944,947,948,956,965,966,979,980,989,992,998,1000,1005,1014,1016,1022,1024,1033,1034,1040,1041,1055,1056,1069,1075,1076,1081,1082,1096,1097,1108,1112,1118,1122,1133,1138,1139,1181,1185,1187,1195,1204,1213,1215,1227,1234,1237,1239,1246,1247,1249,1255,1258,1263,1264,1282,1302,1313,1315,1320,1324,1335,1337,1339,1340,1345,1349,1353,1384,1390,1395,1405,1417,1418,1423,1427,1429,1430,1442,1447,1449,1452,1463,1472,1477,1484,1499,1501,1506,1509,1530,1536,1540,1549,1570,1576,1579,1581,1583,1591,1595,1598,1618,1627,1628,1634,1635,1648,1649,1652,1653,1656,1666,1670,1676,1682,1692,1693,1695,1708,1717,1726,1727,1738,1741,1753,1760,1775,1779,1781,1786,1798,1802,1804,1808,1811,1820,1821,1827,1849,1858,1869,1873,1875,1876,1879,1880,1882,1896,1901,1902,1906,1908,1913,1919,1922,1924,1933,1938,1944,1945,1957,1961,1962,1965,1974,1975,1989,1990,1992,1993,2002,2004,2005,2009,2010,2011,2013,2014,2026,2041,2042,2044,2049,2051,2055,2062,2070,2073,2077,2084,2105,2124,2126,2128,2141,2145,2152,2153,2159,2160,2165,2166,2179,2188,2193,2194,2198,2210,2219,2220,2225,2229,2234,2244,2245,2246,2249,2252,2269,2270,2271,2273,2281,2290,2296,2298,2319,2323,2324,2325,2349,2366,2375,2380,2384,2399,2414,2417,2418,2426,2435,2436,2449,2450,2459,2462,2468,2470,2475,2484,2486,2492,2494,2503,2504,2510,2511,2525,2526,2539,2545,2546,2551,2552,2566,2567,2578,2582,2588,2592,2603,2608,2609,2651,2655,2657,2665,2674,2683,2685,2697,2704,2707,2709,2716,2717,2719,2725,2728,2733,2734,2752,2772,2783,2785,2790,2794,2805,2807,2809,2810,2815,2819,2823,2854,2860,2865,2875,2887,2888,2893,2897,2899,2900,2912,2917,2919,2922,2933,2942,2947,2954,2969,2971,2976,2979,3000,3006,3010,3019,3040,3046,3049,3051,3053,3061,3065,3068,3088,3097,3098,3104,3105,3118,3119,3122,3123,3126,3136,3140,3146,3152,3162,3163,3165,3178,3187,3196,3197,3208,3211,3223,3230,3245,3249,3251,3256,3268,3272,3274,3278,3281,3290,3291,3297,3319,3328,3339,3343,3345,3346,3349,3350,3352,3366,3371,3372,3376,3378,3383,3389,3392,3394,3403,3408,3414,3415,3427,3431,3432,3435,3444,3445,3459,3460,3462,3463,3472,3474,3475,3479,3480,3481,3483,3484,3496,3511,3512,3514,3519,3521,3525,3532,3540,3543,3547,3554,3575,3594,3596,3598,3611,3615,3622,3623,3629,3630,3635,3636,3649,3658,3663,3664,3668,3680,3689,3690,3695,3699,3704,3714,3715,3716,3719,3722,3739,3740,3741,3743,3751,3760,3766,3768,3789,3793,3794,3795,3819,3836,3845,3850,3854,3869,3884,3887,3888,3896,3905,3906,3919,3920,3929,3932,3938,3940,3945,3954,3956,3962,3964,3973,3974,3980,3981,3995,3996,4009,4015,4016,4021,4022,4036,4037,4048,4052,4058,4062,4073,4078,4079,4121,4125,4127,4135,4144,4153,4155,4167,4174,4177,4179,4186,4187,4189,4195,4198,4203,4204,4222,4242,4253,4255,4260,4264,4275,4277,4279,4280,4285,4289,4293,4324,4330,4335,4345,4357,4358,4363,4367,4369,4370,4382,4387,4389,4392,4403],\"yaxis\":\"y\",\"type\":\"bar\"}],                        {\"template\":{\"data\":{\"barpolar\":[{\"marker\":{\"line\":{\"color\":\"white\",\"width\":0.5},\"pattern\":{\"fillmode\":\"overlay\",\"size\":10,\"solidity\":0.2}},\"type\":\"barpolar\"}],\"bar\":[{\"error_x\":{\"color\":\"rgb(36,36,36)\"},\"error_y\":{\"color\":\"rgb(36,36,36)\"},\"marker\":{\"line\":{\"color\":\"white\",\"width\":0.5},\"pattern\":{\"fillmode\":\"overlay\",\"size\":10,\"solidity\":0.2}},\"type\":\"bar\"}],\"carpet\":[{\"aaxis\":{\"endlinecolor\":\"rgb(36,36,36)\",\"gridcolor\":\"white\",\"linecolor\":\"white\",\"minorgridcolor\":\"white\",\"startlinecolor\":\"rgb(36,36,36)\"},\"baxis\":{\"endlinecolor\":\"rgb(36,36,36)\",\"gridcolor\":\"white\",\"linecolor\":\"white\",\"minorgridcolor\":\"white\",\"startlinecolor\":\"rgb(36,36,36)\"},\"type\":\"carpet\"}],\"choropleth\":[{\"colorbar\":{\"outlinewidth\":1,\"tickcolor\":\"rgb(36,36,36)\",\"ticks\":\"outside\"},\"type\":\"choropleth\"}],\"contourcarpet\":[{\"colorbar\":{\"outlinewidth\":1,\"tickcolor\":\"rgb(36,36,36)\",\"ticks\":\"outside\"},\"type\":\"contourcarpet\"}],\"contour\":[{\"colorbar\":{\"outlinewidth\":1,\"tickcolor\":\"rgb(36,36,36)\",\"ticks\":\"outside\"},\"colorscale\":[[0.0,\"#440154\"],[0.1111111111111111,\"#482878\"],[0.2222222222222222,\"#3e4989\"],[0.3333333333333333,\"#31688e\"],[0.4444444444444444,\"#26828e\"],[0.5555555555555556,\"#1f9e89\"],[0.6666666666666666,\"#35b779\"],[0.7777777777777778,\"#6ece58\"],[0.8888888888888888,\"#b5de2b\"],[1.0,\"#fde725\"]],\"type\":\"contour\"}],\"heatmapgl\":[{\"colorbar\":{\"outlinewidth\":1,\"tickcolor\":\"rgb(36,36,36)\",\"ticks\":\"outside\"},\"colorscale\":[[0.0,\"#440154\"],[0.1111111111111111,\"#482878\"],[0.2222222222222222,\"#3e4989\"],[0.3333333333333333,\"#31688e\"],[0.4444444444444444,\"#26828e\"],[0.5555555555555556,\"#1f9e89\"],[0.6666666666666666,\"#35b779\"],[0.7777777777777778,\"#6ece58\"],[0.8888888888888888,\"#b5de2b\"],[1.0,\"#fde725\"]],\"type\":\"heatmapgl\"}],\"heatmap\":[{\"colorbar\":{\"outlinewidth\":1,\"tickcolor\":\"rgb(36,36,36)\",\"ticks\":\"outside\"},\"colorscale\":[[0.0,\"#440154\"],[0.1111111111111111,\"#482878\"],[0.2222222222222222,\"#3e4989\"],[0.3333333333333333,\"#31688e\"],[0.4444444444444444,\"#26828e\"],[0.5555555555555556,\"#1f9e89\"],[0.6666666666666666,\"#35b779\"],[0.7777777777777778,\"#6ece58\"],[0.8888888888888888,\"#b5de2b\"],[1.0,\"#fde725\"]],\"type\":\"heatmap\"}],\"histogram2dcontour\":[{\"colorbar\":{\"outlinewidth\":1,\"tickcolor\":\"rgb(36,36,36)\",\"ticks\":\"outside\"},\"colorscale\":[[0.0,\"#440154\"],[0.1111111111111111,\"#482878\"],[0.2222222222222222,\"#3e4989\"],[0.3333333333333333,\"#31688e\"],[0.4444444444444444,\"#26828e\"],[0.5555555555555556,\"#1f9e89\"],[0.6666666666666666,\"#35b779\"],[0.7777777777777778,\"#6ece58\"],[0.8888888888888888,\"#b5de2b\"],[1.0,\"#fde725\"]],\"type\":\"histogram2dcontour\"}],\"histogram2d\":[{\"colorbar\":{\"outlinewidth\":1,\"tickcolor\":\"rgb(36,36,36)\",\"ticks\":\"outside\"},\"colorscale\":[[0.0,\"#440154\"],[0.1111111111111111,\"#482878\"],[0.2222222222222222,\"#3e4989\"],[0.3333333333333333,\"#31688e\"],[0.4444444444444444,\"#26828e\"],[0.5555555555555556,\"#1f9e89\"],[0.6666666666666666,\"#35b779\"],[0.7777777777777778,\"#6ece58\"],[0.8888888888888888,\"#b5de2b\"],[1.0,\"#fde725\"]],\"type\":\"histogram2d\"}],\"histogram\":[{\"marker\":{\"line\":{\"color\":\"white\",\"width\":0.6}},\"type\":\"histogram\"}],\"mesh3d\":[{\"colorbar\":{\"outlinewidth\":1,\"tickcolor\":\"rgb(36,36,36)\",\"ticks\":\"outside\"},\"type\":\"mesh3d\"}],\"parcoords\":[{\"line\":{\"colorbar\":{\"outlinewidth\":1,\"tickcolor\":\"rgb(36,36,36)\",\"ticks\":\"outside\"}},\"type\":\"parcoords\"}],\"pie\":[{\"automargin\":true,\"type\":\"pie\"}],\"scatter3d\":[{\"line\":{\"colorbar\":{\"outlinewidth\":1,\"tickcolor\":\"rgb(36,36,36)\",\"ticks\":\"outside\"}},\"marker\":{\"colorbar\":{\"outlinewidth\":1,\"tickcolor\":\"rgb(36,36,36)\",\"ticks\":\"outside\"}},\"type\":\"scatter3d\"}],\"scattercarpet\":[{\"marker\":{\"colorbar\":{\"outlinewidth\":1,\"tickcolor\":\"rgb(36,36,36)\",\"ticks\":\"outside\"}},\"type\":\"scattercarpet\"}],\"scattergeo\":[{\"marker\":{\"colorbar\":{\"outlinewidth\":1,\"tickcolor\":\"rgb(36,36,36)\",\"ticks\":\"outside\"}},\"type\":\"scattergeo\"}],\"scattergl\":[{\"marker\":{\"colorbar\":{\"outlinewidth\":1,\"tickcolor\":\"rgb(36,36,36)\",\"ticks\":\"outside\"}},\"type\":\"scattergl\"}],\"scattermapbox\":[{\"marker\":{\"colorbar\":{\"outlinewidth\":1,\"tickcolor\":\"rgb(36,36,36)\",\"ticks\":\"outside\"}},\"type\":\"scattermapbox\"}],\"scatterpolargl\":[{\"marker\":{\"colorbar\":{\"outlinewidth\":1,\"tickcolor\":\"rgb(36,36,36)\",\"ticks\":\"outside\"}},\"type\":\"scatterpolargl\"}],\"scatterpolar\":[{\"marker\":{\"colorbar\":{\"outlinewidth\":1,\"tickcolor\":\"rgb(36,36,36)\",\"ticks\":\"outside\"}},\"type\":\"scatterpolar\"}],\"scatter\":[{\"fillpattern\":{\"fillmode\":\"overlay\",\"size\":10,\"solidity\":0.2},\"type\":\"scatter\"}],\"scatterternary\":[{\"marker\":{\"colorbar\":{\"outlinewidth\":1,\"tickcolor\":\"rgb(36,36,36)\",\"ticks\":\"outside\"}},\"type\":\"scatterternary\"}],\"surface\":[{\"colorbar\":{\"outlinewidth\":1,\"tickcolor\":\"rgb(36,36,36)\",\"ticks\":\"outside\"},\"colorscale\":[[0.0,\"#440154\"],[0.1111111111111111,\"#482878\"],[0.2222222222222222,\"#3e4989\"],[0.3333333333333333,\"#31688e\"],[0.4444444444444444,\"#26828e\"],[0.5555555555555556,\"#1f9e89\"],[0.6666666666666666,\"#35b779\"],[0.7777777777777778,\"#6ece58\"],[0.8888888888888888,\"#b5de2b\"],[1.0,\"#fde725\"]],\"type\":\"surface\"}],\"table\":[{\"cells\":{\"fill\":{\"color\":\"rgb(237,237,237)\"},\"line\":{\"color\":\"white\"}},\"header\":{\"fill\":{\"color\":\"rgb(217,217,217)\"},\"line\":{\"color\":\"white\"}},\"type\":\"table\"}]},\"layout\":{\"annotationdefaults\":{\"arrowhead\":0,\"arrowwidth\":1},\"autotypenumbers\":\"strict\",\"coloraxis\":{\"colorbar\":{\"outlinewidth\":1,\"tickcolor\":\"rgb(36,36,36)\",\"ticks\":\"outside\"}},\"colorscale\":{\"diverging\":[[0.0,\"rgb(103,0,31)\"],[0.1,\"rgb(178,24,43)\"],[0.2,\"rgb(214,96,77)\"],[0.3,\"rgb(244,165,130)\"],[0.4,\"rgb(253,219,199)\"],[0.5,\"rgb(247,247,247)\"],[0.6,\"rgb(209,229,240)\"],[0.7,\"rgb(146,197,222)\"],[0.8,\"rgb(67,147,195)\"],[0.9,\"rgb(33,102,172)\"],[1.0,\"rgb(5,48,97)\"]],\"sequential\":[[0.0,\"#440154\"],[0.1111111111111111,\"#482878\"],[0.2222222222222222,\"#3e4989\"],[0.3333333333333333,\"#31688e\"],[0.4444444444444444,\"#26828e\"],[0.5555555555555556,\"#1f9e89\"],[0.6666666666666666,\"#35b779\"],[0.7777777777777778,\"#6ece58\"],[0.8888888888888888,\"#b5de2b\"],[1.0,\"#fde725\"]],\"sequentialminus\":[[0.0,\"#440154\"],[0.1111111111111111,\"#482878\"],[0.2222222222222222,\"#3e4989\"],[0.3333333333333333,\"#31688e\"],[0.4444444444444444,\"#26828e\"],[0.5555555555555556,\"#1f9e89\"],[0.6666666666666666,\"#35b779\"],[0.7777777777777778,\"#6ece58\"],[0.8888888888888888,\"#b5de2b\"],[1.0,\"#fde725\"]]},\"colorway\":[\"#1F77B4\",\"#FF7F0E\",\"#2CA02C\",\"#D62728\",\"#9467BD\",\"#8C564B\",\"#E377C2\",\"#7F7F7F\",\"#BCBD22\",\"#17BECF\"],\"font\":{\"color\":\"rgb(36,36,36)\"},\"geo\":{\"bgcolor\":\"white\",\"lakecolor\":\"white\",\"landcolor\":\"white\",\"showlakes\":true,\"showland\":true,\"subunitcolor\":\"white\"},\"hoverlabel\":{\"align\":\"left\"},\"hovermode\":\"closest\",\"mapbox\":{\"style\":\"light\"},\"paper_bgcolor\":\"white\",\"plot_bgcolor\":\"white\",\"polar\":{\"angularaxis\":{\"gridcolor\":\"rgb(232,232,232)\",\"linecolor\":\"rgb(36,36,36)\",\"showgrid\":false,\"showline\":true,\"ticks\":\"outside\"},\"bgcolor\":\"white\",\"radialaxis\":{\"gridcolor\":\"rgb(232,232,232)\",\"linecolor\":\"rgb(36,36,36)\",\"showgrid\":false,\"showline\":true,\"ticks\":\"outside\"}},\"scene\":{\"xaxis\":{\"backgroundcolor\":\"white\",\"gridcolor\":\"rgb(232,232,232)\",\"gridwidth\":2,\"linecolor\":\"rgb(36,36,36)\",\"showbackground\":true,\"showgrid\":false,\"showline\":true,\"ticks\":\"outside\",\"zeroline\":false,\"zerolinecolor\":\"rgb(36,36,36)\"},\"yaxis\":{\"backgroundcolor\":\"white\",\"gridcolor\":\"rgb(232,232,232)\",\"gridwidth\":2,\"linecolor\":\"rgb(36,36,36)\",\"showbackground\":true,\"showgrid\":false,\"showline\":true,\"ticks\":\"outside\",\"zeroline\":false,\"zerolinecolor\":\"rgb(36,36,36)\"},\"zaxis\":{\"backgroundcolor\":\"white\",\"gridcolor\":\"rgb(232,232,232)\",\"gridwidth\":2,\"linecolor\":\"rgb(36,36,36)\",\"showbackground\":true,\"showgrid\":false,\"showline\":true,\"ticks\":\"outside\",\"zeroline\":false,\"zerolinecolor\":\"rgb(36,36,36)\"}},\"shapedefaults\":{\"fillcolor\":\"black\",\"line\":{\"width\":0},\"opacity\":0.3},\"ternary\":{\"aaxis\":{\"gridcolor\":\"rgb(232,232,232)\",\"linecolor\":\"rgb(36,36,36)\",\"showgrid\":false,\"showline\":true,\"ticks\":\"outside\"},\"baxis\":{\"gridcolor\":\"rgb(232,232,232)\",\"linecolor\":\"rgb(36,36,36)\",\"showgrid\":false,\"showline\":true,\"ticks\":\"outside\"},\"bgcolor\":\"white\",\"caxis\":{\"gridcolor\":\"rgb(232,232,232)\",\"linecolor\":\"rgb(36,36,36)\",\"showgrid\":false,\"showline\":true,\"ticks\":\"outside\"}},\"title\":{\"x\":0.05},\"xaxis\":{\"automargin\":true,\"gridcolor\":\"rgb(232,232,232)\",\"linecolor\":\"rgb(36,36,36)\",\"showgrid\":false,\"showline\":true,\"ticks\":\"outside\",\"title\":{\"standoff\":15},\"zeroline\":false,\"zerolinecolor\":\"rgb(36,36,36)\"},\"yaxis\":{\"automargin\":true,\"gridcolor\":\"rgb(232,232,232)\",\"linecolor\":\"rgb(36,36,36)\",\"showgrid\":false,\"showline\":true,\"ticks\":\"outside\",\"title\":{\"standoff\":15},\"zeroline\":false,\"zerolinecolor\":\"rgb(36,36,36)\"}}},\"xaxis\":{\"anchor\":\"y\",\"domain\":[0.0,1.0],\"title\":{\"text\":\"A\\u00f1os trabajado\"}},\"yaxis\":{\"anchor\":\"x\",\"domain\":[0.0,1.0],\"title\":{\"text\":\"Numero de trabajadores\"}},\"legend\":{\"tracegroupgap\":0,\"title\":{\"text\":\"A\\u00f1os trabajado\"}},\"title\":{\"text\":\"\\u003cb\\u003eA\\u00f1os trabajando de los que renunciaron \\u003cb\\u003e\",\"x\":0.5},\"barmode\":\"relative\"},                        {\"responsive\": true}                    ).then(function(){\n",
              "                            \n",
              "var gd = document.getElementById('d1486e77-7ad6-4f1c-a0e2-52ba9fa58fe1');\n",
              "var x = new MutationObserver(function (mutations, observer) {{\n",
              "        var display = window.getComputedStyle(gd).display;\n",
              "        if (!display || display === 'none') {{\n",
              "            console.log([gd, 'removed!']);\n",
              "            Plotly.purge(gd);\n",
              "            observer.disconnect();\n",
              "        }}\n",
              "}});\n",
              "\n",
              "// Listen for the removal of the full notebook cells\n",
              "var notebookContainer = gd.closest('#notebook-container');\n",
              "if (notebookContainer) {{\n",
              "    x.observe(notebookContainer, {childList: true});\n",
              "}}\n",
              "\n",
              "// Listen for the clearing of the current output cell\n",
              "var outputEl = gd.closest('.output');\n",
              "if (outputEl) {{\n",
              "    x.observe(outputEl, {childList: true});\n",
              "}}\n",
              "\n",
              "                        })                };                            </script>        </div>\n",
              "</body>\n",
              "</html>"
            ]
          },
          "metadata": {}
        }
      ],
      "source": [
        "fig= px.bar(renuncia_si, x='TotalWorkingYears', y='EmployeeID', title= '<b>Años trabajando de los que renunciaron <b>')\n",
        "fig.update_layout(\n",
        "    xaxis_title='Años trabajado',\n",
        "    yaxis_title='Numero de trabajadores',\n",
        "    legend_title='Años trabajado',\n",
        "    template= 'simple_white', #color del fondo\n",
        "    title_x=0.5, #ubicacion del titulo\n",
        "\n",
        ")"
      ]
    },
    {
      "cell_type": "code",
      "execution_count": null,
      "metadata": {
        "id": "Oi8v6DcvRErG",
        "colab": {
          "base_uri": "https://localhost:8080/"
        },
        "outputId": "c4fa2d22-930b-412b-e638-dae525d1afea"
      },
      "outputs": [
        {
          "output_type": "execute_result",
          "data": {
            "text/plain": [
              "Index(['Age', 'BusinessTravel', 'Department', 'DistanceFromHome', 'Education',\n",
              "       'EducationField', 'EmployeeID', 'Gender', 'JobLevel', 'JobRole',\n",
              "       'MaritalStatus', 'MonthlyIncome', 'NumCompaniesWorked',\n",
              "       'PercentSalaryHike', 'StockOptionLevel', 'TotalWorkingYears',\n",
              "       'TrainingTimesLastYear', 'YearsAtCompany', 'YearsSinceLastPromotion',\n",
              "       'YearsWithCurrManager', 'EnvironmentSatisfaction', 'JobSatisfaction',\n",
              "       'WorkLifeBalance', 'JobInvolvement', 'PerformanceRating', 'Attrition'],\n",
              "      dtype='object')"
            ]
          },
          "metadata": {},
          "execution_count": 195
        }
      ],
      "source": [
        "dfdata.columns"
      ]
    },
    {
      "cell_type": "code",
      "execution_count": null,
      "metadata": {
        "id": "ULf21Ps7RF4G",
        "colab": {
          "base_uri": "https://localhost:8080/"
        },
        "outputId": "a2cb9d48-31c1-4999-a3dc-5cac0b1897d6"
      },
      "outputs": [
        {
          "output_type": "execute_result",
          "data": {
            "text/plain": [
              "array(['No', 'Yes'], dtype=object)"
            ]
          },
          "metadata": {},
          "execution_count": 196
        }
      ],
      "source": [
        "dfdata['Attrition'].unique()"
      ]
    },
    {
      "cell_type": "markdown",
      "source": [
        "Como podemos observar la variable edad es la que más influye en el modelo esto puede relacionarse con el poco crecimiento profesional que tiene la empresa, y decidan buscar mejores oportunidades.\n",
        "Otra variable influyente es el números de años trabajados en la empresa, vemos que en su mayoría solo llevan solo un año en la empresa por lo que podríamos deducir que es por que no se logran adaptar a la compañía, está puede no cumplir sus expectativas y por ello deciden irse.\n",
        "La satisfacción en el trabajo se podría ver también influenciada por la satisfacción en el ambiente laboral y el balance de la vida personal con el trabajo ya que estas son las que nos dice que tan cómodo o no se encuentra el empleado en la empresa.\n",
        "Por lo tanto, para abordar el problema de la alta tasa de deserción de los  empleados se pueden implementar estrategias basadas en algunas de las variables que más influyen como:\n",
        "\n",
        "Desarrollo Profesional y Oportunidades de Crecimiento\n",
        "   - Implementar programas de desarrollo profesional que permitan a los empleados adquirir nuevas habilidades y avanzar en sus carreras dentro de la empresa.\n",
        "   - Establece planes de carrera claros que muestren a los empleados cómo pueden progresar y crecer dentro de la organización.\n",
        "   - Proporciona oportunidades de capacitación continua a lo largo del año en lugar de limitarla a una o dos capacitación anuales. Esto permite a los empleados desarrollarse constantemente.\n",
        "\n",
        "Adaptación y Orientación de Nuevos Empleados\n",
        "   - Mejorar el proceso de adaptación y orientación para los nuevos empleados con el fin de brindarles un entorno de trabajo acogedor y recursos que les ayuden a integrarse rápidamente en la empresa.\n",
        " -Implementar programas de mentores que emparejen a empleados nuevos con colegas más experimentados que puedan guiarlos y apoyarlos en su ingreso a la empresa.\n",
        "\n",
        "Satisfacción laboral y/o beneficios\n",
        "-Promover un ambiente laboral positivo que fomente la colaboración, el respeto y la inclusión.\n",
        "-Celebrar logros y reconocer el trabajo bien hecho,ofreciendo recompensas o  reconocimiento a los empleados destacados para motivarlos y mostrar aprecio por su contribución a la empresa.\n",
        "- Fomenta un equilibrio saludable entre el trabajo y la vida personal, y apoyar políticas de flexibilidad laboral cuando sea posible.\n",
        "-Evalúa y mejora los programas de beneficios para asegurarte de que satisfagan las necesidades de los empleados en términos de salud, bienestar y seguridad financiera.\n",
        "\n",
        "\n",
        "\n",
        "\n",
        "Es muy importante tener en cuenta que se debe evaluar los resultados obtenidos de las estrategias y ajustarlas según los resultados obtenidos y las retroalimentaciones que puedan dar los empleados.\n",
        "\n"
      ],
      "metadata": {
        "id": "Y0TyQBqPdxsM"
      }
    },
    {
      "cell_type": "code",
      "execution_count": null,
      "metadata": {
        "id": "mfsc5QHmRLJ0"
      },
      "outputs": [],
      "source": []
    },
    {
      "cell_type": "markdown",
      "source": [
        "# Despliegue del modelo"
      ],
      "metadata": {
        "id": "XHzJUxwMX6UD"
      }
    },
    {
      "cell_type": "code",
      "execution_count": null,
      "metadata": {
        "id": "k6Ncpa5UT2JI",
        "outputId": "ebaec0b7-68a2-461e-bd56-12df021f5461",
        "colab": {
          "base_uri": "https://localhost:8080/"
        }
      },
      "outputs": [
        {
          "output_type": "execute_result",
          "data": {
            "text/plain": [
              "['DTRRHH']"
            ]
          },
          "metadata": {},
          "execution_count": 217
        }
      ],
      "source": [
        "# Se exporta el modelo a un archivo binario en joblib\n",
        "joblib.dump(treedf,'DTRRHH')\n"
      ]
    },
    {
      "cell_type": "code",
      "execution_count": null,
      "metadata": {
        "id": "bCBnn787T2JI"
      },
      "outputs": [],
      "source": [
        "Tree =joblib.load('DTRRHH')"
      ]
    },
    {
      "cell_type": "code",
      "execution_count": null,
      "metadata": {
        "id": "gbGd8VJkT2JI"
      },
      "outputs": [],
      "source": [
        "# Se carga el archivo y se generan las predicciones\n",
        "predicciones = Tree.predict(X_test_std_df.loc[:,columnas_T])"
      ]
    },
    {
      "cell_type": "code",
      "source": [
        "pd_pred=pd.DataFrame(predicciones, columns=['pred_perf_2024'])"
      ],
      "metadata": {
        "id": "YiU3o1rMajjA"
      },
      "execution_count": null,
      "outputs": []
    },
    {
      "cell_type": "code",
      "source": [
        "perf_pred=pd.concat([dfdata['EmpID2'],dfdata,pd_pred],axis=1)"
      ],
      "metadata": {
        "id": "M5fUAud2cVac"
      },
      "execution_count": null,
      "outputs": []
    }
  ],
  "metadata": {
    "colab": {
      "provenance": [],
      "include_colab_link": true
    },
    "kernelspec": {
      "display_name": "Python 3",
      "name": "python3"
    },
    "language_info": {
      "name": "python"
    }
  },
  "nbformat": 4,
  "nbformat_minor": 0
}