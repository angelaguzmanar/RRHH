{
  "nbformat": 4,
  "nbformat_minor": 0,
  "metadata": {
    "colab": {
      "provenance": [],
      "authorship_tag": "ABX9TyNxEYFQWQi+iEWZUlaFGtL1",
      "include_colab_link": true
    },
    "kernelspec": {
      "name": "python3",
      "display_name": "Python 3"
    },
    "language_info": {
      "name": "python"
    }
  },
  "cells": [
    {
      "cell_type": "markdown",
      "metadata": {
        "id": "view-in-github",
        "colab_type": "text"
      },
      "source": [
        "<a href=\"https://colab.research.google.com/github/angelaguzmanar/RRHH/blob/main/Funciones_RH.ipynb\" target=\"_parent\"><img src=\"https://colab.research.google.com/assets/colab-badge.svg\" alt=\"Open In Colab\"/></a>"
      ]
    },
    {
      "cell_type": "code",
      "execution_count": 1,
      "metadata": {
        "id": "leEE_yxhljWJ"
      },
      "outputs": [],
      "source": [
        "import numpy as np\n",
        "import pandas as pd"
      ]
    },
    {
      "cell_type": "code",
      "source": [
        "def asignar_rango(edad):\n",
        "    if 18 <= edad <= 27:\n",
        "        return '18-27'\n",
        "    elif 28 <= edad <= 37:\n",
        "        return '28-37'\n",
        "    elif 38 <= edad <= 47:\n",
        "        return '38-47'\n",
        "    elif 48 <= edad <= 57:\n",
        "        return '48-57'\n",
        "    else:\n",
        "        return '58-67'"
      ],
      "metadata": {
        "id": "y6k4OTyPmd2m"
      },
      "execution_count": 2,
      "outputs": []
    },
    {
      "cell_type": "code",
      "source": [],
      "metadata": {
        "id": "0_-FiK4NnedL"
      },
      "execution_count": null,
      "outputs": []
    }
  ]
}