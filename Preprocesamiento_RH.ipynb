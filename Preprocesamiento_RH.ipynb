{
  "nbformat": 4,
  "nbformat_minor": 0,
  "metadata": {
    "colab": {
      "provenance": [],
      "authorship_tag": "ABX9TyNaJpwzh8QphJcO8+xmzV7j",
      "include_colab_link": true
    },
    "kernelspec": {
      "name": "python3",
      "display_name": "Python 3"
    },
    "language_info": {
      "name": "python"
    }
  },
  "cells": [
    {
      "cell_type": "markdown",
      "metadata": {
        "id": "view-in-github",
        "colab_type": "text"
      },
      "source": [
        "<a href=\"https://colab.research.google.com/github/angelaguzmanar/RRHH/blob/main/Preprocesamiento_RH.ipynb\" target=\"_parent\"><img src=\"https://colab.research.google.com/assets/colab-badge.svg\" alt=\"Open In Colab\"/></a>"
      ]
    },
    {
      "cell_type": "code",
      "execution_count": 2,
      "metadata": {
        "id": "6hUJCnY2F3z5"
      },
      "outputs": [],
      "source": [
        "import pandas as pd ### para manejo de datos\n",
        "import sqlite3 as sql\n",
        "import sys"
      ]
    },
    {
      "cell_type": "code",
      "source": [
        "sys.path"
      ],
      "metadata": {
        "colab": {
          "base_uri": "https://localhost:8080/"
        },
        "id": "CLa0OcXIGWXK",
        "outputId": "5c76e44f-6c9b-4b09-a3c6-3a72b7073fe2"
      },
      "execution_count": 3,
      "outputs": [
        {
          "output_type": "execute_result",
          "data": {
            "text/plain": [
              "['/content',\n",
              " '/env/python',\n",
              " '/usr/lib/python310.zip',\n",
              " '/usr/lib/python3.10',\n",
              " '/usr/lib/python3.10/lib-dynload',\n",
              " '',\n",
              " '/usr/local/lib/python3.10/dist-packages',\n",
              " '/usr/lib/python3/dist-packages',\n",
              " '/usr/local/lib/python3.10/dist-packages/IPython/extensions',\n",
              " '/root/.ipython']"
            ]
          },
          "metadata": {},
          "execution_count": 3
        }
      ]
    },
    {
      "cell_type": "code",
      "source": [
        "#ANGELA\n",
        "dfgeneral_data=pd.read_csv('https://raw.githubusercontent.com/angelaguzmanar/RRHH/main/general_data.csv', sep =';')\n",
        "dfemployee_survey_data = pd.read_csv('https://raw.githubusercontent.com/angelaguzmanar/RRHH/main/employee_survey_data.csv')\n",
        "dfmanager_survey_data = pd.read_csv('https://raw.githubusercontent.com/angelaguzmanar/RRHH/main/manager_survey_data.csv')\n",
        "dfin_time = pd.read_csv('https://raw.githubusercontent.com/angelaguzmanar/RRHH/main/in_time.csv')\n",
        "dfout_time = pd.read_csv('https://raw.githubusercontent.com/angelaguzmanar/RRHH/main/out_time.csv')\n",
        "dfretirement_info = pd.read_csv('https://raw.githubusercontent.com/angelaguzmanar/RRHH/main/retirement_info.csv', sep =';')"
      ],
      "metadata": {
        "id": "HbyZBn8sGaSb"
      },
      "execution_count": 9,
      "outputs": []
    },
    {
      "cell_type": "markdown",
      "source": [
        "## Preparación bases de datos"
      ],
      "metadata": {
        "id": "dfCPQCv70R0d"
      }
    },
    {
      "cell_type": "code",
      "source": [
        "#Primero analizaremos la cantidad de datos nulos que tienen las bases para proceder a tratarlos"
      ],
      "metadata": {
        "id": "_JDM0iDuOygh"
      },
      "execution_count": 10,
      "outputs": []
    },
    {
      "cell_type": "code",
      "source": [
        "dfgeneral_data.isnull().sum()"
      ],
      "metadata": {
        "colab": {
          "base_uri": "https://localhost:8080/"
        },
        "id": "slNZTIemDGnh",
        "outputId": "75b76618-2f86-4b49-ac3c-90440a4102a8"
      },
      "execution_count": 11,
      "outputs": [
        {
          "output_type": "execute_result",
          "data": {
            "text/plain": [
              "Age                         0\n",
              "BusinessTravel              0\n",
              "Department                  0\n",
              "DistanceFromHome            0\n",
              "Education                   0\n",
              "EducationField              0\n",
              "EmployeeCount               0\n",
              "EmployeeID                  0\n",
              "Gender                      0\n",
              "JobLevel                    0\n",
              "JobRole                     0\n",
              "MaritalStatus               0\n",
              "MonthlyIncome               0\n",
              "NumCompaniesWorked         19\n",
              "Over18                      0\n",
              "PercentSalaryHike           0\n",
              "StandardHours               0\n",
              "StockOptionLevel            0\n",
              "TotalWorkingYears           9\n",
              "TrainingTimesLastYear       0\n",
              "YearsAtCompany              0\n",
              "YearsSinceLastPromotion     0\n",
              "YearsWithCurrManager        0\n",
              "dtype: int64"
            ]
          },
          "metadata": {},
          "execution_count": 11
        }
      ]
    },
    {
      "cell_type": "code",
      "source": [
        "dfemployee_survey_data.isnull().sum()"
      ],
      "metadata": {
        "colab": {
          "base_uri": "https://localhost:8080/"
        },
        "id": "Qs7UG62JJNrx",
        "outputId": "fda7cfef-4969-4f79-b873-960173d75471"
      },
      "execution_count": 12,
      "outputs": [
        {
          "output_type": "execute_result",
          "data": {
            "text/plain": [
              "EmployeeID                  0\n",
              "EnvironmentSatisfaction    25\n",
              "JobSatisfaction            20\n",
              "WorkLifeBalance            38\n",
              "dtype: int64"
            ]
          },
          "metadata": {},
          "execution_count": 12
        }
      ]
    },
    {
      "cell_type": "code",
      "source": [
        "dfmanager_survey_data.isnull().sum()"
      ],
      "metadata": {
        "colab": {
          "base_uri": "https://localhost:8080/"
        },
        "id": "YN2XDNYgL-VQ",
        "outputId": "3ca6bd5f-5efd-4e2d-dc51-0da1a860cf85"
      },
      "execution_count": 13,
      "outputs": [
        {
          "output_type": "execute_result",
          "data": {
            "text/plain": [
              "EmployeeID           0\n",
              "JobInvolvement       0\n",
              "PerformanceRating    0\n",
              "dtype: int64"
            ]
          },
          "metadata": {},
          "execution_count": 13
        }
      ]
    },
    {
      "cell_type": "code",
      "source": [
        "dfretirement_info.isnull().sum()"
      ],
      "metadata": {
        "colab": {
          "base_uri": "https://localhost:8080/"
        },
        "id": "2GOVgtkRMEQK",
        "outputId": "287f3376-dbe2-4b00-b0ff-d5d30b219de2"
      },
      "execution_count": 14,
      "outputs": [
        {
          "output_type": "execute_result",
          "data": {
            "text/plain": [
              "EmployeeID            0\n",
              "Attrition             0\n",
              "retirementDate        0\n",
              "retirementType        0\n",
              "resignationReason    70\n",
              "dtype: int64"
            ]
          },
          "metadata": {},
          "execution_count": 14
        }
      ]
    },
    {
      "cell_type": "code",
      "source": [
        "#Aca marcamos los datos nulos en  resignationReason  como NR\n",
        "dfretirement_info['resignationReason'].fillna('NR', inplace=True)\n",
        "print(dfretirement_info['resignationReason'].isnull().sum())\n",
        "print(dfretirement_info['resignationReason'].unique())"
      ],
      "metadata": {
        "colab": {
          "base_uri": "https://localhost:8080/"
        },
        "id": "xy4Ty-yOTof1",
        "outputId": "5f902ad5-8b0e-4729-b412-cf5c05ea6d45"
      },
      "execution_count": 15,
      "outputs": [
        {
          "output_type": "stream",
          "name": "stdout",
          "text": [
            "0\n",
            "['Others' 'Stress' 'Salary' 'NR']\n"
          ]
        }
      ]
    },
    {
      "cell_type": "code",
      "source": [
        "#Procedemos a unir las tablas para que sean mas facil de trabajar\n",
        "dftotal=dfgeneral_data.merge(dfemployee_survey_data, on=\"EmployeeID\", how=\"left\")\n",
        "dftotal.shape"
      ],
      "metadata": {
        "colab": {
          "base_uri": "https://localhost:8080/"
        },
        "id": "8ohxAhIp-oDA",
        "outputId": "ada7054e-899b-40ae-f5b1-b38b2817c1f3"
      },
      "execution_count": 20,
      "outputs": [
        {
          "output_type": "execute_result",
          "data": {
            "text/plain": [
              "(4410, 26)"
            ]
          },
          "metadata": {},
          "execution_count": 20
        }
      ]
    },
    {
      "cell_type": "code",
      "source": [
        "dftotal=dftotal.merge(dfmanager_survey_data, on=\"EmployeeID\", how=\"left\")\n",
        "dftotal.shape"
      ],
      "metadata": {
        "colab": {
          "base_uri": "https://localhost:8080/"
        },
        "id": "VvIixVobC5ii",
        "outputId": "36dc50c9-ac5f-4725-ca79-7e1888bbc32a"
      },
      "execution_count": 21,
      "outputs": [
        {
          "output_type": "execute_result",
          "data": {
            "text/plain": [
              "(4410, 28)"
            ]
          },
          "metadata": {},
          "execution_count": 21
        }
      ]
    },
    {
      "cell_type": "code",
      "source": [
        "dfdata=dftotal.merge(dfretirement_info, on=\"EmployeeID\", how=\"left\")\n",
        "dfdata.head()"
      ],
      "metadata": {
        "colab": {
          "base_uri": "https://localhost:8080/",
          "height": 325
        },
        "id": "voP9zsFOEMiN",
        "outputId": "83921ef8-6c60-44e4-9d2b-d472d055ced4"
      },
      "execution_count": 22,
      "outputs": [
        {
          "output_type": "execute_result",
          "data": {
            "text/plain": [
              "   Age     BusinessTravel              Department  DistanceFromHome  \\\n",
              "0   51      Travel_Rarely                   Sales                 6   \n",
              "1   31  Travel_Frequently  Research & Development                10   \n",
              "2   32  Travel_Frequently  Research & Development                17   \n",
              "3   38         Non-Travel  Research & Development                 2   \n",
              "4   32      Travel_Rarely  Research & Development                10   \n",
              "\n",
              "   Education EducationField  EmployeeCount  EmployeeID  Gender  JobLevel  ...  \\\n",
              "0          2  Life Sciences              1           1  Female         1  ...   \n",
              "1          1  Life Sciences              1           2  Female         1  ...   \n",
              "2          4          Other              1           3    Male         4  ...   \n",
              "3          5  Life Sciences              1           4    Male         3  ...   \n",
              "4          1        Medical              1           5    Male         1  ...   \n",
              "\n",
              "  YearsWithCurrManager EnvironmentSatisfaction  JobSatisfaction  \\\n",
              "0                    0                     3.0              4.0   \n",
              "1                    4                     3.0              2.0   \n",
              "2                    3                     2.0              2.0   \n",
              "3                    5                     4.0              4.0   \n",
              "4                    4                     4.0              1.0   \n",
              "\n",
              "   WorkLifeBalance JobInvolvement  PerformanceRating  Attrition  \\\n",
              "0              2.0              3                  3        NaN   \n",
              "1              4.0              2                  4        Yes   \n",
              "2              1.0              3                  3        NaN   \n",
              "3              3.0              2                  3        NaN   \n",
              "4              3.0              3                  3        NaN   \n",
              "\n",
              "   retirementDate  retirementType  resignationReason  \n",
              "0             NaN             NaN                NaN  \n",
              "1      15/10/2016     Resignation             Others  \n",
              "2             NaN             NaN                NaN  \n",
              "3             NaN             NaN                NaN  \n",
              "4             NaN             NaN                NaN  \n",
              "\n",
              "[5 rows x 32 columns]"
            ],
            "text/html": [
              "\n",
              "  <div id=\"df-f258ac41-6c06-4d60-9ceb-760e2cef1b01\" class=\"colab-df-container\">\n",
              "    <div>\n",
              "<style scoped>\n",
              "    .dataframe tbody tr th:only-of-type {\n",
              "        vertical-align: middle;\n",
              "    }\n",
              "\n",
              "    .dataframe tbody tr th {\n",
              "        vertical-align: top;\n",
              "    }\n",
              "\n",
              "    .dataframe thead th {\n",
              "        text-align: right;\n",
              "    }\n",
              "</style>\n",
              "<table border=\"1\" class=\"dataframe\">\n",
              "  <thead>\n",
              "    <tr style=\"text-align: right;\">\n",
              "      <th></th>\n",
              "      <th>Age</th>\n",
              "      <th>BusinessTravel</th>\n",
              "      <th>Department</th>\n",
              "      <th>DistanceFromHome</th>\n",
              "      <th>Education</th>\n",
              "      <th>EducationField</th>\n",
              "      <th>EmployeeCount</th>\n",
              "      <th>EmployeeID</th>\n",
              "      <th>Gender</th>\n",
              "      <th>JobLevel</th>\n",
              "      <th>...</th>\n",
              "      <th>YearsWithCurrManager</th>\n",
              "      <th>EnvironmentSatisfaction</th>\n",
              "      <th>JobSatisfaction</th>\n",
              "      <th>WorkLifeBalance</th>\n",
              "      <th>JobInvolvement</th>\n",
              "      <th>PerformanceRating</th>\n",
              "      <th>Attrition</th>\n",
              "      <th>retirementDate</th>\n",
              "      <th>retirementType</th>\n",
              "      <th>resignationReason</th>\n",
              "    </tr>\n",
              "  </thead>\n",
              "  <tbody>\n",
              "    <tr>\n",
              "      <th>0</th>\n",
              "      <td>51</td>\n",
              "      <td>Travel_Rarely</td>\n",
              "      <td>Sales</td>\n",
              "      <td>6</td>\n",
              "      <td>2</td>\n",
              "      <td>Life Sciences</td>\n",
              "      <td>1</td>\n",
              "      <td>1</td>\n",
              "      <td>Female</td>\n",
              "      <td>1</td>\n",
              "      <td>...</td>\n",
              "      <td>0</td>\n",
              "      <td>3.0</td>\n",
              "      <td>4.0</td>\n",
              "      <td>2.0</td>\n",
              "      <td>3</td>\n",
              "      <td>3</td>\n",
              "      <td>NaN</td>\n",
              "      <td>NaN</td>\n",
              "      <td>NaN</td>\n",
              "      <td>NaN</td>\n",
              "    </tr>\n",
              "    <tr>\n",
              "      <th>1</th>\n",
              "      <td>31</td>\n",
              "      <td>Travel_Frequently</td>\n",
              "      <td>Research &amp; Development</td>\n",
              "      <td>10</td>\n",
              "      <td>1</td>\n",
              "      <td>Life Sciences</td>\n",
              "      <td>1</td>\n",
              "      <td>2</td>\n",
              "      <td>Female</td>\n",
              "      <td>1</td>\n",
              "      <td>...</td>\n",
              "      <td>4</td>\n",
              "      <td>3.0</td>\n",
              "      <td>2.0</td>\n",
              "      <td>4.0</td>\n",
              "      <td>2</td>\n",
              "      <td>4</td>\n",
              "      <td>Yes</td>\n",
              "      <td>15/10/2016</td>\n",
              "      <td>Resignation</td>\n",
              "      <td>Others</td>\n",
              "    </tr>\n",
              "    <tr>\n",
              "      <th>2</th>\n",
              "      <td>32</td>\n",
              "      <td>Travel_Frequently</td>\n",
              "      <td>Research &amp; Development</td>\n",
              "      <td>17</td>\n",
              "      <td>4</td>\n",
              "      <td>Other</td>\n",
              "      <td>1</td>\n",
              "      <td>3</td>\n",
              "      <td>Male</td>\n",
              "      <td>4</td>\n",
              "      <td>...</td>\n",
              "      <td>3</td>\n",
              "      <td>2.0</td>\n",
              "      <td>2.0</td>\n",
              "      <td>1.0</td>\n",
              "      <td>3</td>\n",
              "      <td>3</td>\n",
              "      <td>NaN</td>\n",
              "      <td>NaN</td>\n",
              "      <td>NaN</td>\n",
              "      <td>NaN</td>\n",
              "    </tr>\n",
              "    <tr>\n",
              "      <th>3</th>\n",
              "      <td>38</td>\n",
              "      <td>Non-Travel</td>\n",
              "      <td>Research &amp; Development</td>\n",
              "      <td>2</td>\n",
              "      <td>5</td>\n",
              "      <td>Life Sciences</td>\n",
              "      <td>1</td>\n",
              "      <td>4</td>\n",
              "      <td>Male</td>\n",
              "      <td>3</td>\n",
              "      <td>...</td>\n",
              "      <td>5</td>\n",
              "      <td>4.0</td>\n",
              "      <td>4.0</td>\n",
              "      <td>3.0</td>\n",
              "      <td>2</td>\n",
              "      <td>3</td>\n",
              "      <td>NaN</td>\n",
              "      <td>NaN</td>\n",
              "      <td>NaN</td>\n",
              "      <td>NaN</td>\n",
              "    </tr>\n",
              "    <tr>\n",
              "      <th>4</th>\n",
              "      <td>32</td>\n",
              "      <td>Travel_Rarely</td>\n",
              "      <td>Research &amp; Development</td>\n",
              "      <td>10</td>\n",
              "      <td>1</td>\n",
              "      <td>Medical</td>\n",
              "      <td>1</td>\n",
              "      <td>5</td>\n",
              "      <td>Male</td>\n",
              "      <td>1</td>\n",
              "      <td>...</td>\n",
              "      <td>4</td>\n",
              "      <td>4.0</td>\n",
              "      <td>1.0</td>\n",
              "      <td>3.0</td>\n",
              "      <td>3</td>\n",
              "      <td>3</td>\n",
              "      <td>NaN</td>\n",
              "      <td>NaN</td>\n",
              "      <td>NaN</td>\n",
              "      <td>NaN</td>\n",
              "    </tr>\n",
              "  </tbody>\n",
              "</table>\n",
              "<p>5 rows × 32 columns</p>\n",
              "</div>\n",
              "    <div class=\"colab-df-buttons\">\n",
              "\n",
              "  <div class=\"colab-df-container\">\n",
              "    <button class=\"colab-df-convert\" onclick=\"convertToInteractive('df-f258ac41-6c06-4d60-9ceb-760e2cef1b01')\"\n",
              "            title=\"Convert this dataframe to an interactive table.\"\n",
              "            style=\"display:none;\">\n",
              "\n",
              "  <svg xmlns=\"http://www.w3.org/2000/svg\" height=\"24px\" viewBox=\"0 -960 960 960\">\n",
              "    <path d=\"M120-120v-720h720v720H120Zm60-500h600v-160H180v160Zm220 220h160v-160H400v160Zm0 220h160v-160H400v160ZM180-400h160v-160H180v160Zm440 0h160v-160H620v160ZM180-180h160v-160H180v160Zm440 0h160v-160H620v160Z\"/>\n",
              "  </svg>\n",
              "    </button>\n",
              "\n",
              "  <style>\n",
              "    .colab-df-container {\n",
              "      display:flex;\n",
              "      gap: 12px;\n",
              "    }\n",
              "\n",
              "    .colab-df-convert {\n",
              "      background-color: #E8F0FE;\n",
              "      border: none;\n",
              "      border-radius: 50%;\n",
              "      cursor: pointer;\n",
              "      display: none;\n",
              "      fill: #1967D2;\n",
              "      height: 32px;\n",
              "      padding: 0 0 0 0;\n",
              "      width: 32px;\n",
              "    }\n",
              "\n",
              "    .colab-df-convert:hover {\n",
              "      background-color: #E2EBFA;\n",
              "      box-shadow: 0px 1px 2px rgba(60, 64, 67, 0.3), 0px 1px 3px 1px rgba(60, 64, 67, 0.15);\n",
              "      fill: #174EA6;\n",
              "    }\n",
              "\n",
              "    .colab-df-buttons div {\n",
              "      margin-bottom: 4px;\n",
              "    }\n",
              "\n",
              "    [theme=dark] .colab-df-convert {\n",
              "      background-color: #3B4455;\n",
              "      fill: #D2E3FC;\n",
              "    }\n",
              "\n",
              "    [theme=dark] .colab-df-convert:hover {\n",
              "      background-color: #434B5C;\n",
              "      box-shadow: 0px 1px 3px 1px rgba(0, 0, 0, 0.15);\n",
              "      filter: drop-shadow(0px 1px 2px rgba(0, 0, 0, 0.3));\n",
              "      fill: #FFFFFF;\n",
              "    }\n",
              "  </style>\n",
              "\n",
              "    <script>\n",
              "      const buttonEl =\n",
              "        document.querySelector('#df-f258ac41-6c06-4d60-9ceb-760e2cef1b01 button.colab-df-convert');\n",
              "      buttonEl.style.display =\n",
              "        google.colab.kernel.accessAllowed ? 'block' : 'none';\n",
              "\n",
              "      async function convertToInteractive(key) {\n",
              "        const element = document.querySelector('#df-f258ac41-6c06-4d60-9ceb-760e2cef1b01');\n",
              "        const dataTable =\n",
              "          await google.colab.kernel.invokeFunction('convertToInteractive',\n",
              "                                                    [key], {});\n",
              "        if (!dataTable) return;\n",
              "\n",
              "        const docLinkHtml = 'Like what you see? Visit the ' +\n",
              "          '<a target=\"_blank\" href=https://colab.research.google.com/notebooks/data_table.ipynb>data table notebook</a>'\n",
              "          + ' to learn more about interactive tables.';\n",
              "        element.innerHTML = '';\n",
              "        dataTable['output_type'] = 'display_data';\n",
              "        await google.colab.output.renderOutput(dataTable, element);\n",
              "        const docLink = document.createElement('div');\n",
              "        docLink.innerHTML = docLinkHtml;\n",
              "        element.appendChild(docLink);\n",
              "      }\n",
              "    </script>\n",
              "  </div>\n",
              "\n",
              "\n",
              "<div id=\"df-846b3401-3505-44f6-a1b0-f4322980df23\">\n",
              "  <button class=\"colab-df-quickchart\" onclick=\"quickchart('df-846b3401-3505-44f6-a1b0-f4322980df23')\"\n",
              "            title=\"Suggest charts.\"\n",
              "            style=\"display:none;\">\n",
              "\n",
              "<svg xmlns=\"http://www.w3.org/2000/svg\" height=\"24px\"viewBox=\"0 0 24 24\"\n",
              "     width=\"24px\">\n",
              "    <g>\n",
              "        <path d=\"M19 3H5c-1.1 0-2 .9-2 2v14c0 1.1.9 2 2 2h14c1.1 0 2-.9 2-2V5c0-1.1-.9-2-2-2zM9 17H7v-7h2v7zm4 0h-2V7h2v10zm4 0h-2v-4h2v4z\"/>\n",
              "    </g>\n",
              "</svg>\n",
              "  </button>\n",
              "\n",
              "<style>\n",
              "  .colab-df-quickchart {\n",
              "    background-color: #E8F0FE;\n",
              "    border: none;\n",
              "    border-radius: 50%;\n",
              "    cursor: pointer;\n",
              "    display: none;\n",
              "    fill: #1967D2;\n",
              "    height: 32px;\n",
              "    padding: 0 0 0 0;\n",
              "    width: 32px;\n",
              "  }\n",
              "\n",
              "  .colab-df-quickchart:hover {\n",
              "    background-color: #E2EBFA;\n",
              "    box-shadow: 0px 1px 2px rgba(60, 64, 67, 0.3), 0px 1px 3px 1px rgba(60, 64, 67, 0.15);\n",
              "    fill: #174EA6;\n",
              "  }\n",
              "\n",
              "  [theme=dark] .colab-df-quickchart {\n",
              "    background-color: #3B4455;\n",
              "    fill: #D2E3FC;\n",
              "  }\n",
              "\n",
              "  [theme=dark] .colab-df-quickchart:hover {\n",
              "    background-color: #434B5C;\n",
              "    box-shadow: 0px 1px 3px 1px rgba(0, 0, 0, 0.15);\n",
              "    filter: drop-shadow(0px 1px 2px rgba(0, 0, 0, 0.3));\n",
              "    fill: #FFFFFF;\n",
              "  }\n",
              "</style>\n",
              "\n",
              "  <script>\n",
              "    async function quickchart(key) {\n",
              "      const charts = await google.colab.kernel.invokeFunction(\n",
              "          'suggestCharts', [key], {});\n",
              "    }\n",
              "    (() => {\n",
              "      let quickchartButtonEl =\n",
              "        document.querySelector('#df-846b3401-3505-44f6-a1b0-f4322980df23 button');\n",
              "      quickchartButtonEl.style.display =\n",
              "        google.colab.kernel.accessAllowed ? 'block' : 'none';\n",
              "    })();\n",
              "  </script>\n",
              "</div>\n",
              "    </div>\n",
              "  </div>\n"
            ]
          },
          "metadata": {},
          "execution_count": 22
        }
      ]
    },
    {
      "cell_type": "code",
      "source": [
        "dfdata.shape"
      ],
      "metadata": {
        "colab": {
          "base_uri": "https://localhost:8080/"
        },
        "id": "M8-xDDitEdSY",
        "outputId": "96aabe92-d50c-4320-f7d8-f6552b607eaf"
      },
      "execution_count": 23,
      "outputs": [
        {
          "output_type": "execute_result",
          "data": {
            "text/plain": [
              "(4410, 32)"
            ]
          },
          "metadata": {},
          "execution_count": 23
        }
      ]
    },
    {
      "cell_type": "code",
      "source": [
        "for columna in dfdata.columns[:]:\n",
        "  print('\\n {}'.format(columna))\n",
        "  print(dfdata[columna].unique()) #Employeecount es una columna irrelevante, over18, standardhours"
      ],
      "metadata": {
        "colab": {
          "base_uri": "https://localhost:8080/"
        },
        "id": "uBXrrXkuE_LE",
        "outputId": "8de37195-d508-441f-e3ee-b4a4cfb75af4"
      },
      "execution_count": 24,
      "outputs": [
        {
          "output_type": "stream",
          "name": "stdout",
          "text": [
            "\n",
            " Age\n",
            "[51 31 32 38 46 28 29 25 45 36 55 47 37 21 35 26 50 53 42 44 49 18 41 39\n",
            " 58 33 43 52 27 30 54 40 23 48 57 34 24 22 56 60 19 20 59]\n",
            "\n",
            " BusinessTravel\n",
            "['Travel_Rarely' 'Travel_Frequently' 'Non-Travel']\n",
            "\n",
            " Department\n",
            "['Sales' 'Research & Development' 'Human Resources']\n",
            "\n",
            " DistanceFromHome\n",
            "[ 6 10 17  2  8 11 18  1  7 28 14  3  4 16  9  5 20 29 15 13 24 19 22 25\n",
            " 21 26 27 12 23]\n",
            "\n",
            " Education\n",
            "[2 1 4 5 3]\n",
            "\n",
            " EducationField\n",
            "['Life Sciences' 'Other' 'Medical' 'Marketing' 'Technical Degree'\n",
            " 'Human Resources']\n",
            "\n",
            " EmployeeCount\n",
            "[1]\n",
            "\n",
            " EmployeeID\n",
            "[   1    2    3 ... 4408 4409 4410]\n",
            "\n",
            " Gender\n",
            "['Female' 'Male']\n",
            "\n",
            " JobLevel\n",
            "[1 4 3 2 5]\n",
            "\n",
            " JobRole\n",
            "['Healthcare Representative' 'Research Scientist' 'Sales Executive'\n",
            " 'Human Resources' 'Research Director' 'Laboratory Technician'\n",
            " 'Manufacturing Director' 'Sales Representative' 'Manager']\n",
            "\n",
            " MaritalStatus\n",
            "['Married' 'Single' 'Divorced']\n",
            "\n",
            " MonthlyIncome\n",
            "[131160  41890 193280 ...  37020  23980  54680]\n",
            "\n",
            " NumCompaniesWorked\n",
            "[ 1.  0.  3.  4.  2.  7.  9.  5.  6.  8. nan]\n",
            "\n",
            " Over18\n",
            "['Y']\n",
            "\n",
            " PercentSalaryHike\n",
            "[11 23 15 12 13 20 22 21 17 14 16 18 19 24 25]\n",
            "\n",
            " StandardHours\n",
            "[8]\n",
            "\n",
            " StockOptionLevel\n",
            "[0 1 3 2]\n",
            "\n",
            " TotalWorkingYears\n",
            "[ 1.  6.  5. 13.  9. 28. 10. 21. 16. 37.  7.  3. 15.  8. nan 12. 17. 19.\n",
            " 22.  2.  4. 23.  0. 11. 24. 25. 20. 14. 26. 18. 30. 36. 31. 33. 32. 34.\n",
            " 40. 29. 35. 27. 38.]\n",
            "\n",
            " TrainingTimesLastYear\n",
            "[6 3 2 5 4 0 1]\n",
            "\n",
            " YearsAtCompany\n",
            "[ 1  5  8  6  7  0  9 20 15 36 10  3 17  2  4 11 22 18 13 24 21 16 25 29\n",
            " 27 14 31 32 34 26 12 19 33 30 23 37 40]\n",
            "\n",
            " YearsSinceLastPromotion\n",
            "[ 0  1  7  4 10  9  6 11  3  5  2  8 13 12 15 14]\n",
            "\n",
            " YearsWithCurrManager\n",
            "[ 0  4  3  5  7  8 10 11 13  9  1  2  6 12 17 16 15 14]\n",
            "\n",
            " EnvironmentSatisfaction\n",
            "[ 3.  2.  4.  1. nan]\n",
            "\n",
            " JobSatisfaction\n",
            "[ 4.  2.  1.  3. nan]\n",
            "\n",
            " WorkLifeBalance\n",
            "[ 2.  4.  1.  3. nan]\n",
            "\n",
            " JobInvolvement\n",
            "[3 2 1 4]\n",
            "\n",
            " PerformanceRating\n",
            "[3 4]\n",
            "\n",
            " Attrition\n",
            "[nan 'Yes']\n",
            "\n",
            " retirementDate\n",
            "[nan '15/10/2016' '20/07/2016' '08/11/2016' '08/02/2016' '18/06/2016'\n",
            " '29/04/2016' '15/12/2016' '18/01/2016' '23/08/2016' '17/02/2016'\n",
            " '23/02/2016' '07/04/2016' '08/10/2016' '12/08/2016' '14/10/2016'\n",
            " '26/07/2016' '02/05/2016' '29/07/2016' '10/01/2016' '29/02/2016'\n",
            " '25/03/2016' '30/06/2016' '16/11/2016' '13/02/2016' '05/07/2016'\n",
            " '22/02/2016' '03/01/2016' '05/03/2016' '04/09/2016' '25/01/2016'\n",
            " '01/06/2016' '22/06/2016' '28/10/2016' '23/06/2016' '30/05/2016'\n",
            " '14/07/2016' '17/08/2016' '28/01/2016' '19/01/2016' '06/04/2016'\n",
            " '06/03/2016' '08/12/2016' '01/09/2016' '11/09/2016' '09/06/2016'\n",
            " '30/09/2016' '17/01/2016' '26/08/2016' '13/03/2016' '19/06/2016'\n",
            " '18/05/2016' '09/03/2016' '24/08/2016' '11/06/2016' '19/02/2016'\n",
            " '22/04/2016' '11/08/2016' '02/09/2016' '01/04/2016' '26/05/2016'\n",
            " '21/07/2016' '26/11/2016' '02/06/2016' '26/06/2016' '25/05/2016'\n",
            " '12/12/2016' '22/10/2016' '06/11/2016' '10/09/2016' '01/05/2016'\n",
            " '14/11/2016' '13/12/2016' '21/09/2016' '27/11/2016' '18/10/2016'\n",
            " '10/05/2016' '10/02/2016' '01/07/2016' '26/02/2016' '03/11/2016'\n",
            " '02/12/2016' '08/01/2016' '04/01/2016' '18/04/2016' '24/01/2016'\n",
            " '31/07/2016' '27/05/2016' '27/04/2016' '19/09/2016' '29/01/2016'\n",
            " '16/09/2016' '12/03/2016' '21/04/2016' '20/05/2016' '18/02/2016'\n",
            " '23/07/2016' '18/03/2016' '25/06/2016' '10/08/2016' '26/03/2016'\n",
            " '21/03/2016' '31/01/2016' '11/10/2016' '05/05/2016' '04/08/2016'\n",
            " '27/10/2016' '31/08/2016' '13/11/2016' '01/10/2016' '29/03/2016'\n",
            " '22/01/2016' '06/12/2016' '24/02/2016' '13/07/2016' '22/07/2016'\n",
            " '28/07/2016' '24/03/2016' '08/04/2016' '20/06/2016' '16/03/2016'\n",
            " '25/11/2016' '23/05/2016' '02/07/2016' '18/09/2016' '14/01/2016'\n",
            " '04/04/2016' '01/02/2016' '05/09/2016' '27/07/2016' '08/09/2016'\n",
            " '07/03/2016' '24/07/2016' '17/11/2016' '15/02/2016' '06/06/2016'\n",
            " '31/03/2016' '14/05/2016' '17/05/2016' '15/01/2016' '19/07/2016'\n",
            " '25/07/2016' '07/05/2016' '22/08/2016' '09/09/2016' '03/03/2016'\n",
            " '28/03/2016' '06/01/2016' '28/05/2016' '03/09/2016' '08/06/2016'\n",
            " '25/08/2016' '16/02/2016' '04/05/2016' '05/10/2016' '21/05/2016'\n",
            " '05/01/2016' '14/12/2016' '23/03/2016' '18/11/2016' '17/03/2016'\n",
            " '11/01/2016' '22/05/2016' '03/05/2016' '30/01/2016' '07/02/2016'\n",
            " '04/12/2016' '20/10/2016' '20/03/2016' '09/05/2016' '25/09/2016'\n",
            " '15/05/2016' '28/08/2016' '10/07/2016' '09/04/2016' '28/11/2016'\n",
            " '02/03/2016' '31/10/2016' '15/07/2016' '03/10/2016' '04/02/2016'\n",
            " '12/02/2016' '26/09/2016' '19/08/2016' '07/01/2016' '11/07/2016'\n",
            " '09/12/2016' '02/04/2016' '29/05/2016' '07/11/2016' '16/10/2016'\n",
            " '03/07/2016' '01/03/2016' '14/06/2016' '13/06/2016' '25/10/2016'\n",
            " '11/11/2016' '27/08/2016' '15/11/2016' '19/05/2016' '10/11/2016'\n",
            " '16/04/2016' '11/02/2016' '22/11/2016' '03/12/2016' '13/10/2016'\n",
            " '30/03/2016' '15/04/2016' '24/04/2016' '07/12/2016' '12/11/2016'\n",
            " '18/08/2016' '16/06/2016' '16/05/2016' '09/10/2016' '28/06/2016'\n",
            " '27/06/2016' '13/01/2016' '24/10/2016' '13/04/2016' '16/08/2016'\n",
            " '24/06/2016' '23/09/2016' '03/06/2016' '06/08/2016' '20/09/2016'\n",
            " '01/12/2016' '08/07/2016' '28/04/2016' '11/05/2016' '29/09/2016'\n",
            " '03/04/2016' '15/09/2016' '24/05/2016' '07/10/2016' '27/09/2016'\n",
            " '11/03/2016' '27/01/2016' '09/11/2016' '04/06/2016' '20/11/2016'\n",
            " '13/05/2016' '23/11/2016' '12/09/2016' '02/02/2016' '16/07/2016'\n",
            " '23/01/2016' '21/10/2016' '08/05/2016' '29/11/2016' '19/03/2016'\n",
            " '17/06/2016' '12/04/2016' '20/02/2016' '02/11/2016' '13/08/2016'\n",
            " '30/11/2016' '30/10/2016' '17/04/2016' '25/04/2016' '05/08/2016'\n",
            " '04/03/2016' '02/01/2016' '08/08/2016' '10/10/2016' '05/11/2016'\n",
            " '06/09/2016' '29/08/2016' '15/03/2016' '26/01/2016' '09/02/2016'\n",
            " '22/03/2016' '07/06/2016' '20/08/2016' '16/01/2016' '06/07/2016'\n",
            " '30/08/2016' '04/07/2016' '05/02/2016' '19/10/2016' '21/06/2016'\n",
            " '30/07/2016' '21/11/2016' '14/04/2016' '11/12/2016' '16/12/2016'\n",
            " '06/02/2016' '05/12/2016' '17/07/2016' '10/12/2016' '11/04/2016'\n",
            " '28/02/2016' '13/09/2016' '19/04/2016' '14/02/2016' '17/10/2016'\n",
            " '04/10/2016' '12/05/2016' '01/11/2016' '29/06/2016' '21/01/2016'\n",
            " '14/08/2016' '21/08/2016' '17/09/2016' '19/11/2016' '28/09/2016'\n",
            " '07/08/2016' '07/09/2016' '02/10/2016']\n",
            "\n",
            " retirementType\n",
            "[nan 'Resignation' 'Fired']\n",
            "\n",
            " resignationReason\n",
            "[nan 'Others' 'Stress' 'Salary' 'NR']\n"
          ]
        }
      ]
    },
    {
      "cell_type": "code",
      "source": [
        "# Porcentaje de nulos que presenta nuetra base de datos\n",
        "round(dftotal.isnull().sum().sum()/dftotal.size, 4)*100"
      ],
      "metadata": {
        "colab": {
          "base_uri": "https://localhost:8080/"
        },
        "id": "owEabZH0MnVR",
        "outputId": "6e29eca2-de8e-4244-8b11-75412ac6f694"
      },
      "execution_count": 25,
      "outputs": [
        {
          "output_type": "execute_result",
          "data": {
            "text/plain": [
              "0.09"
            ]
          },
          "metadata": {},
          "execution_count": 25
        }
      ]
    },
    {
      "cell_type": "code",
      "source": [
        "#Como observamos el porcentaje de nulos es 0.1% del total de datos, por lo que no son tan significativos, entonces aprovecharemos\n",
        "#que se encuentran en varibales con respuestas numericas para imputarlos con el promedio,la moda y la media:\n",
        "median_NumCompaniesWorked=round(dfdata['NumCompaniesWorked'].median())\n",
        "print(median_NumCompaniesWorked)\n",
        "dfdata['NumCompaniesWorked']=dfdata['NumCompaniesWorked'].fillna(median_NumCompaniesWorked)\n",
        "print(dfdata['NumCompaniesWorked'].isnull().sum())\n",
        "print(dfdata['NumCompaniesWorked'].unique())"
      ],
      "metadata": {
        "colab": {
          "base_uri": "https://localhost:8080/"
        },
        "id": "ZYqW1etANzVS",
        "outputId": "6f4441ec-abe3-47aa-cf29-d9de7aa19e6b"
      },
      "execution_count": 26,
      "outputs": [
        {
          "output_type": "stream",
          "name": "stdout",
          "text": [
            "2\n",
            "0\n",
            "[1. 0. 3. 4. 2. 7. 9. 5. 6. 8.]\n"
          ]
        }
      ]
    },
    {
      "cell_type": "code",
      "source": [
        "mode_EnvironmentSatisfaction = dfdata['EnvironmentSatisfaction'].mode()\n",
        "print(mode_EnvironmentSatisfaction)\n",
        "dfdata['EnvironmentSatisfaction'].fillna(mode_EnvironmentSatisfaction[0], inplace=True)\n",
        "print(dfdata['EnvironmentSatisfaction'].isnull().sum())\n",
        "print(dfdata['EnvironmentSatisfaction'].unique())"
      ],
      "metadata": {
        "colab": {
          "base_uri": "https://localhost:8080/"
        },
        "id": "e0Tl122aOW4e",
        "outputId": "b78c2568-f70e-4625-ade7-37a7662d5a7b"
      },
      "execution_count": 27,
      "outputs": [
        {
          "output_type": "stream",
          "name": "stdout",
          "text": [
            "0    3.0\n",
            "Name: EnvironmentSatisfaction, dtype: float64\n",
            "0\n",
            "[3. 2. 4. 1.]\n"
          ]
        }
      ]
    },
    {
      "cell_type": "code",
      "source": [
        "median_TotalWorkingYears=round(dfdata['TotalWorkingYears'].median())\n",
        "print(median_TotalWorkingYears)\n",
        "dfdata['TotalWorkingYears']=dfdata['TotalWorkingYears'].fillna(median_NumCompaniesWorked)\n",
        "print(dfdata['TotalWorkingYears'].isnull().sum())\n",
        "print(dfdata['TotalWorkingYears'].unique())"
      ],
      "metadata": {
        "colab": {
          "base_uri": "https://localhost:8080/"
        },
        "id": "kdqQRO3IOO4F",
        "outputId": "d3c6fe8b-984e-490a-c86d-40daf0bd3c92"
      },
      "execution_count": 28,
      "outputs": [
        {
          "output_type": "stream",
          "name": "stdout",
          "text": [
            "10\n",
            "0\n",
            "[ 1.  6.  5. 13.  9. 28. 10. 21. 16. 37.  7.  3. 15.  8.  2. 12. 17. 19.\n",
            " 22.  4. 23.  0. 11. 24. 25. 20. 14. 26. 18. 30. 36. 31. 33. 32. 34. 40.\n",
            " 29. 35. 27. 38.]\n"
          ]
        }
      ]
    },
    {
      "cell_type": "code",
      "source": [
        "mode_WorkLifeBalance = dfdata['WorkLifeBalance'].mode()\n",
        "print(mode_WorkLifeBalance)\n",
        "dfdata['WorkLifeBalance'].fillna(mode_WorkLifeBalance[0], inplace=True)\n",
        "print(dfdata['WorkLifeBalance'].isnull().sum())\n",
        "print(dfdata['WorkLifeBalance'].unique())"
      ],
      "metadata": {
        "colab": {
          "base_uri": "https://localhost:8080/"
        },
        "id": "nzkWn538OiGa",
        "outputId": "08b39ce6-e41b-4d95-e67b-111a3fac8e8d"
      },
      "execution_count": 29,
      "outputs": [
        {
          "output_type": "stream",
          "name": "stdout",
          "text": [
            "0    3.0\n",
            "Name: WorkLifeBalance, dtype: float64\n",
            "0\n",
            "[2. 4. 1. 3.]\n"
          ]
        }
      ]
    },
    {
      "cell_type": "code",
      "source": [
        "mode_JobSatisfaction = dfdata['JobSatisfaction'].mode()\n",
        "print(mode_JobSatisfaction)\n",
        "dfdata['JobSatisfaction'].fillna(mode_JobSatisfaction[0], inplace=True)\n",
        "print(dfdata['JobSatisfaction'].isnull().sum())\n",
        "print(dfdata['JobSatisfaction'].unique())"
      ],
      "metadata": {
        "colab": {
          "base_uri": "https://localhost:8080/"
        },
        "id": "NWb7VIuxO6U5",
        "outputId": "0852f532-165b-40f9-de33-cf2bdfd6f0a9"
      },
      "execution_count": 30,
      "outputs": [
        {
          "output_type": "stream",
          "name": "stdout",
          "text": [
            "0    4.0\n",
            "Name: JobSatisfaction, dtype: float64\n",
            "0\n",
            "[4. 2. 1. 3.]\n"
          ]
        }
      ]
    },
    {
      "cell_type": "code",
      "source": [
        "dfdata['Attrition'].fillna('No', inplace=True)\n",
        "print(dfdata['Attrition'].isnull().sum())\n",
        "print(dfdata['Attrition'].unique())"
      ],
      "metadata": {
        "colab": {
          "base_uri": "https://localhost:8080/"
        },
        "id": "xEnaS6dJRDVv",
        "outputId": "d30a4b0d-c678-4856-8210-0751146b4cc3"
      },
      "execution_count": 31,
      "outputs": [
        {
          "output_type": "stream",
          "name": "stdout",
          "text": [
            "0\n",
            "['No' 'Yes']\n"
          ]
        }
      ]
    },
    {
      "cell_type": "code",
      "source": [
        "#Obervamos que los nulos si hayan sido imputados\n",
        "dfdata.isnull().sum()"
      ],
      "metadata": {
        "colab": {
          "base_uri": "https://localhost:8080/"
        },
        "id": "brlA7jSUOu3e",
        "outputId": "29a56d98-a44c-4232-9a1a-0690859328aa"
      },
      "execution_count": 32,
      "outputs": [
        {
          "output_type": "execute_result",
          "data": {
            "text/plain": [
              "Age                           0\n",
              "BusinessTravel                0\n",
              "Department                    0\n",
              "DistanceFromHome              0\n",
              "Education                     0\n",
              "EducationField                0\n",
              "EmployeeCount                 0\n",
              "EmployeeID                    0\n",
              "Gender                        0\n",
              "JobLevel                      0\n",
              "JobRole                       0\n",
              "MaritalStatus                 0\n",
              "MonthlyIncome                 0\n",
              "NumCompaniesWorked            0\n",
              "Over18                        0\n",
              "PercentSalaryHike             0\n",
              "StandardHours                 0\n",
              "StockOptionLevel              0\n",
              "TotalWorkingYears             0\n",
              "TrainingTimesLastYear         0\n",
              "YearsAtCompany                0\n",
              "YearsSinceLastPromotion       0\n",
              "YearsWithCurrManager          0\n",
              "EnvironmentSatisfaction       0\n",
              "JobSatisfaction               0\n",
              "WorkLifeBalance               0\n",
              "JobInvolvement                0\n",
              "PerformanceRating             0\n",
              "Attrition                     0\n",
              "retirementDate             3699\n",
              "retirementType             3699\n",
              "resignationReason          3699\n",
              "dtype: int64"
            ]
          },
          "metadata": {},
          "execution_count": 32
        }
      ]
    },
    {
      "cell_type": "code",
      "source": [
        "borrar=['EmployeeCount','Over18','StandardHours'] #Columnas no significativas\n",
        "dfdata.drop(columns=borrar,inplace=True)"
      ],
      "metadata": {
        "id": "p25Bm04FO1Sa"
      },
      "execution_count": 33,
      "outputs": []
    },
    {
      "cell_type": "markdown",
      "source": [
        "SQL"
      ],
      "metadata": {
        "id": "x1bDEDJnM0e4"
      }
    },
    {
      "cell_type": "code",
      "source": [
        "conn= sql.connect(\"db_empleados\") ### crea una base de datos con el nombre dentro de comillas, si existe crea una conexión."
      ],
      "metadata": {
        "id": "BveFsqr5LS_l"
      },
      "execution_count": 18,
      "outputs": []
    },
    {
      "cell_type": "code",
      "source": [
        "### Llevar tablas a base de datos\n",
        "dfgeneral_data.to_sql(\"general_data\",conn,if_exists=\"replace\")\n",
        "dfmanager_survey_data.to_sql(\"manager\",conn,if_exists=\"replace\")\n",
        "dfemployee_survey_data.to_sql(\"employee\",conn,if_exists=\"replace\")\n",
        "dfretirement_info.to_sql(\"retirement\",conn,if_exists=\"replace\")\n",
        "dfin_time.to_sql(\"in_time\",conn,if_exists=\"replace\")\n",
        "dfout_time.to_sql(\"out_time\",conn,if_exists=\"replace\")"
      ],
      "metadata": {
        "colab": {
          "base_uri": "https://localhost:8080/"
        },
        "id": "2wY5iem_M4Jx",
        "outputId": "edea8982-4b54-401d-bbee-e3976f0afc57"
      },
      "execution_count": 19,
      "outputs": [
        {
          "output_type": "execute_result",
          "data": {
            "text/plain": [
              "4410"
            ]
          },
          "metadata": {},
          "execution_count": 19
        }
      ]
    },
    {
      "cell_type": "code",
      "source": [],
      "metadata": {
        "id": "Xag7f7--Nas1"
      },
      "execution_count": null,
      "outputs": []
    }
  ]
}